{
  "nbformat": 4,
  "nbformat_minor": 0,
  "metadata": {
    "colab": {
      "provenance": []
    },
    "kernelspec": {
      "name": "python3",
      "display_name": "Python 3"
    },
    "language_info": {
      "name": "python"
    }
  },
  "cells": [
    {
      "cell_type": "code",
      "execution_count": null,
      "metadata": {
        "id": "aHu0sGVFdNoo"
      },
      "outputs": [],
      "source": [
        "# Almacenenamos la URL relevante en una variable en Python\n",
        "\n",
        "url = 'https://www.gutenberg.org/cache/epub/43861/pg43861-images.html'"
      ]
    },
    {
      "cell_type": "code",
      "source": [
        "# Importar `requests`\n",
        "import requests\n",
        "\n",
        "# Hacer la solicitud de tipo GET\n",
        "r = requests.get(url)\n",
        "\n",
        "# Verificamos el tipo de objeto\n",
        "type(r)"
      ],
      "metadata": {
        "colab": {
          "base_uri": "https://localhost:8080/"
        },
        "id": "rryMahZLdo-e",
        "outputId": "909e23fc-336b-47f0-8baf-e90b2294e233"
      },
      "execution_count": null,
      "outputs": [
        {
          "output_type": "execute_result",
          "data": {
            "text/plain": [
              "requests.models.Response"
            ]
          },
          "metadata": {},
          "execution_count": 2
        }
      ]
    },
    {
      "cell_type": "code",
      "source": [
        "# Extraemos HTML del objeto\n",
        "html = r.text\n",
        "\n",
        "# Mostraremos 2000 caracteres de la cadena\n",
        "print('%.2000s' % html)"
      ],
      "metadata": {
        "colab": {
          "base_uri": "https://localhost:8080/"
        },
        "id": "bgrqlDjpd4lk",
        "outputId": "13f9a97e-e323-4bb2-d89b-be4e972223a7"
      },
      "execution_count": null,
      "outputs": [
        {
          "output_type": "stream",
          "name": "stdout",
          "text": [
            "<!DOCTYPE html>\r\n",
            "<html lang=\"es\">\r\n",
            "<head>\r\n",
            "<meta charset=\"utf-8\"><style>\r\n",
            "#pg-header div, #pg-footer div {\r\n",
            "    all: initial;\r\n",
            "    display: block;\r\n",
            "    margin-top: 1em;\r\n",
            "    margin-bottom: 1em;\r\n",
            "    margin-left: 2em;\r\n",
            "}\r\n",
            "#pg-footer div.agate {\r\n",
            "    font-size: 90%;\r\n",
            "    margin-top: 0;\r\n",
            "    margin-bottom: 0;\r\n",
            "    text-align: center;\r\n",
            "}\r\n",
            "#pg-footer li {\r\n",
            "    all: initial;\r\n",
            "    display: block;\r\n",
            "    margin-top: 1em;\r\n",
            "    margin-bottom: 1em;\r\n",
            "    text-indent: -0.6em;\r\n",
            "}\r\n",
            "#pg-footer div.secthead {\r\n",
            "    font-size: 110%;\r\n",
            "    font-weight: bold;\r\n",
            "}\r\n",
            "#pg-footer #project-gutenberg-license {\r\n",
            "    font-size: 110%;\r\n",
            "    margin-top: 0;\r\n",
            "    margin-bottom: 0;\r\n",
            "    text-align: center;\r\n",
            "}\r\n",
            "#pg-header-heading {\r\n",
            "    all: inherit;\r\n",
            "    text-align: center;\r\n",
            "    font-size: 110%;\r\n",
            "}\r\n",
            "#pg-footer-heading {\r\n",
            "    all: inherit;\r\n",
            "    text-align: center;\r\n",
            "    font-size: 120%;\r\n",
            "    font-weight: normal;\r\n",
            "    margin-top: 0;\r\n",
            "    margin-bottom: 0;\r\n",
            "}\r\n",
            "#pg-header #pg-machine-header p {\r\n",
            "    text-indent: -4em;\r\n",
            "    padding-left: 4em;\r\n",
            "    margin-top: 1em;\r\n",
            "}\r\n",
            "#pg-header #pg-header-authlist p {\r\n",
            "    margin-left: -2em;\r\n",
            "    margin-top: 0;\r\n",
            "    margin-bottom: 0;\r\n",
            "}\r\n",
            "#pg-header #pg-machine-header strong {\r\n",
            "    font-weight: normal;\r\n",
            "}\r\n",
            "#pg-header #pg-start-separator, #pg-footer #pg-end-separator {\r\n",
            "    margin-bottom: 3em;\r\n",
            "    margin-left: 0;\r\n",
            "    margin-right: auto;\r\n",
            "    margin-top: 2em;\r\n",
            "    text-align: center\r\n",
            "}\r\n",
            "\r\n",
            "    .xhtml_center {text-align: center; display: block;}\r\n",
            "    .xhtml_center table {\r\n",
            "        display: table;\r\n",
            "        text-align: left;\r\n",
            "        margin-left: auto;\r\n",
            "        margin-right: auto;\r\n",
            "        }</style><title>\r\n",
            "      The Project Gutenberg eBook of Granos de Oro, Pensamientos seleccionados en las Obras de José Martí, by\r\n",
            "      Rafael G. Argilagos.\r\n",
            "    </title>\r\n",
            "<link href=\"images/cover.jpg\" rel=\"icon\" type=\"image/x-cover\" id=\"id-1239138336581601313\">\r\n",
            "<style>body {\r\n",
            "    margin-left: 10%;\r\n",
            "    margin-right: 10%\r\n",
            "    }\r\n",
            "h1, h2 {\r\n",
            "    text-align: center;\r\n",
            "    clear: both;\r\n",
            "    line-height\n"
          ]
        }
      ]
    },
    {
      "cell_type": "code",
      "source": [
        "# Importar la clase BeautifulSoup\n",
        "from bs4 import BeautifulSoup\n",
        "\n",
        "# Crear un objeto de BeautifulSoup object desde el HTML\n",
        "soup = BeautifulSoup(html, \"html5lib\")\n",
        "\n",
        "# Verificamos el tipo de objeto\n",
        "type(soup)\n"
      ],
      "metadata": {
        "colab": {
          "base_uri": "https://localhost:8080/"
        },
        "id": "cbFSqhYEeEl1",
        "outputId": "2482ffb5-2bb6-4c4a-f088-abd4a6f35e11"
      },
      "execution_count": null,
      "outputs": [
        {
          "output_type": "execute_result",
          "data": {
            "text/plain": [
              "bs4.BeautifulSoup"
            ]
          },
          "metadata": {},
          "execution_count": 4
        }
      ]
    },
    {
      "cell_type": "code",
      "source": [
        "# Obtener el titulo (html)\n",
        "print(soup.title)\n",
        "\n",
        "# Obtener el titulo como string\n",
        "print(soup.title.string)"
      ],
      "metadata": {
        "colab": {
          "base_uri": "https://localhost:8080/"
        },
        "id": "1VFaXFjmehTN",
        "outputId": "7fc27bd0-7c5f-475b-d5ab-016fe6cbeaee"
      },
      "execution_count": null,
      "outputs": [
        {
          "output_type": "stream",
          "name": "stdout",
          "text": [
            "<title>\n",
            "      The Project Gutenberg eBook of Granos de Oro, Pensamientos seleccionados en las Obras de José Martí, by\n",
            "      Rafael G. Argilagos.\n",
            "    </title>\n",
            "\n",
            "      The Project Gutenberg eBook of Granos de Oro, Pensamientos seleccionados en las Obras de José Martí, by\n",
            "      Rafael G. Argilagos.\n",
            "    \n"
          ]
        }
      ]
    },
    {
      "cell_type": "code",
      "source": [
        "# Obtener el texto de soup y mostrarlo\n",
        "text = soup.get_text()\n",
        "print('%.2000s' % text)"
      ],
      "metadata": {
        "colab": {
          "base_uri": "https://localhost:8080/"
        },
        "id": "o8VqqCpPexRi",
        "outputId": "5d4bf5ef-ad51-4406-aa1e-4955f25856f9"
      },
      "execution_count": null,
      "outputs": [
        {
          "output_type": "stream",
          "name": "stdout",
          "text": [
            "\n",
            "\n",
            "#pg-header div, #pg-footer div {\n",
            "    all: initial;\n",
            "    display: block;\n",
            "    margin-top: 1em;\n",
            "    margin-bottom: 1em;\n",
            "    margin-left: 2em;\n",
            "}\n",
            "#pg-footer div.agate {\n",
            "    font-size: 90%;\n",
            "    margin-top: 0;\n",
            "    margin-bottom: 0;\n",
            "    text-align: center;\n",
            "}\n",
            "#pg-footer li {\n",
            "    all: initial;\n",
            "    display: block;\n",
            "    margin-top: 1em;\n",
            "    margin-bottom: 1em;\n",
            "    text-indent: -0.6em;\n",
            "}\n",
            "#pg-footer div.secthead {\n",
            "    font-size: 110%;\n",
            "    font-weight: bold;\n",
            "}\n",
            "#pg-footer #project-gutenberg-license {\n",
            "    font-size: 110%;\n",
            "    margin-top: 0;\n",
            "    margin-bottom: 0;\n",
            "    text-align: center;\n",
            "}\n",
            "#pg-header-heading {\n",
            "    all: inherit;\n",
            "    text-align: center;\n",
            "    font-size: 110%;\n",
            "}\n",
            "#pg-footer-heading {\n",
            "    all: inherit;\n",
            "    text-align: center;\n",
            "    font-size: 120%;\n",
            "    font-weight: normal;\n",
            "    margin-top: 0;\n",
            "    margin-bottom: 0;\n",
            "}\n",
            "#pg-header #pg-machine-header p {\n",
            "    text-indent: -4em;\n",
            "    padding-left: 4em;\n",
            "    margin-top: 1em;\n",
            "}\n",
            "#pg-header #pg-header-authlist p {\n",
            "    margin-left: -2em;\n",
            "    margin-top: 0;\n",
            "    margin-bottom: 0;\n",
            "}\n",
            "#pg-header #pg-machine-header strong {\n",
            "    font-weight: normal;\n",
            "}\n",
            "#pg-header #pg-start-separator, #pg-footer #pg-end-separator {\n",
            "    margin-bottom: 3em;\n",
            "    margin-left: 0;\n",
            "    margin-right: auto;\n",
            "    margin-top: 2em;\n",
            "    text-align: center\n",
            "}\n",
            "\n",
            "    .xhtml_center {text-align: center; display: block;}\n",
            "    .xhtml_center table {\n",
            "        display: table;\n",
            "        text-align: left;\n",
            "        margin-left: auto;\n",
            "        margin-right: auto;\n",
            "        }\n",
            "      The Project Gutenberg eBook of Granos de Oro, Pensamientos seleccionados en las Obras de José Martí, by\n",
            "      Rafael G. Argilagos.\n",
            "    \n",
            "\n",
            "body {\n",
            "    margin-left: 10%;\n",
            "    margin-right: 10%\n",
            "    }\n",
            "h1, h2 {\n",
            "    text-align: center;\n",
            "    clear: both;\n",
            "    line-height: 2\n",
            "    }\n",
            "h1 {\n",
            "    margin-top: 2em;\n",
            "    margin-bottom: 2em\n",
            "    }\n",
            "h2 {\n",
            "    margin-top: 4em;\n",
            "    margin-bottom: 2em\n",
            "    }\n",
            "p {\n",
            "    margin-top: 0.75em;\n",
            "    text-align: justify;\n",
            "    margin-bottom: 0.75em\n",
            "    }\n",
            ".p2 {\n",
            "    margin-top: 2em\n",
            "    }\n",
            ".p2b {\n",
            "    margin-top: 2em;\n",
            "    margi\n"
          ]
        }
      ]
    },
    {
      "cell_type": "code",
      "source": [
        "# Importar regex\n",
        "import re\n",
        "\n",
        "# Usamos expresiones regulare para obtener el texto entre 2 coensidencias\n",
        "patron = r\"(PROEMIO.*?FIN)\"\n",
        "resultado = re.search(patron, text)\n",
        "if resultado:\n",
        "    texto_capturado = resultado.group(1)\n",
        "    print(\"Texto capturado:\", texto_capturado)\n",
        "else:\n",
        "    print(\"No se encontró coincidencia.\")"
      ],
      "metadata": {
        "id": "1Z67ez0jYSSe"
      },
      "execution_count": null,
      "outputs": []
    }
  ]
}