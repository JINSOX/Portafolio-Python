{
  "nbformat": 4,
  "nbformat_minor": 0,
  "metadata": {
    "colab": {
      "provenance": []
    },
    "kernelspec": {
      "name": "python3",
      "display_name": "Python 3"
    },
    "language_info": {
      "name": "python"
    }
  },
  "cells": [
    {
      "cell_type": "code",
      "execution_count": null,
      "metadata": {
        "colab": {
          "base_uri": "https://localhost:8080/"
        },
        "id": "M-TVtv9ByBPl",
        "outputId": "1fdf57c9-e570-4cb2-88e5-98526bc5337f"
      },
      "outputs": [
        {
          "output_type": "stream",
          "name": "stdout",
          "text": [
            "Collecting qiskit\n",
            "  Downloading qiskit-1.1.0-cp38-abi3-manylinux_2_17_x86_64.manylinux2014_x86_64.whl (4.3 MB)\n",
            "\u001b[2K     \u001b[90m━━━━━━━━━━━━━━━━━━━━━━━━━━━━━━━━━━━━━━━━\u001b[0m \u001b[32m4.3/4.3 MB\u001b[0m \u001b[31m12.8 MB/s\u001b[0m eta \u001b[36m0:00:00\u001b[0m\n",
            "\u001b[?25hCollecting rustworkx>=0.14.0 (from qiskit)\n",
            "  Downloading rustworkx-0.14.2-cp310-cp310-manylinux_2_17_x86_64.manylinux2014_x86_64.whl (2.1 MB)\n",
            "\u001b[2K     \u001b[90m━━━━━━━━━━━━━━━━━━━━━━━━━━━━━━━━━━━━━━━━\u001b[0m \u001b[32m2.1/2.1 MB\u001b[0m \u001b[31m34.0 MB/s\u001b[0m eta \u001b[36m0:00:00\u001b[0m\n",
            "\u001b[?25hRequirement already satisfied: numpy<3,>=1.17 in /usr/local/lib/python3.10/dist-packages (from qiskit) (1.25.2)\n",
            "Requirement already satisfied: scipy>=1.5 in /usr/local/lib/python3.10/dist-packages (from qiskit) (1.11.4)\n",
            "Requirement already satisfied: sympy>=1.3 in /usr/local/lib/python3.10/dist-packages (from qiskit) (1.12)\n",
            "Collecting dill>=0.3 (from qiskit)\n",
            "  Downloading dill-0.3.8-py3-none-any.whl (116 kB)\n",
            "\u001b[2K     \u001b[90m━━━━━━━━━━━━━━━━━━━━━━━━━━━━━━━━━━━━━━━━\u001b[0m \u001b[32m116.3/116.3 kB\u001b[0m \u001b[31m7.9 MB/s\u001b[0m eta \u001b[36m0:00:00\u001b[0m\n",
            "\u001b[?25hRequirement already satisfied: python-dateutil>=2.8.0 in /usr/local/lib/python3.10/dist-packages (from qiskit) (2.8.2)\n",
            "Collecting stevedore>=3.0.0 (from qiskit)\n",
            "  Downloading stevedore-5.2.0-py3-none-any.whl (49 kB)\n",
            "\u001b[2K     \u001b[90m━━━━━━━━━━━━━━━━━━━━━━━━━━━━━━━━━━━━━━━━\u001b[0m \u001b[32m49.7/49.7 kB\u001b[0m \u001b[31m1.7 MB/s\u001b[0m eta \u001b[36m0:00:00\u001b[0m\n",
            "\u001b[?25hRequirement already satisfied: typing-extensions in /usr/local/lib/python3.10/dist-packages (from qiskit) (4.11.0)\n",
            "Collecting symengine>=0.11 (from qiskit)\n",
            "  Downloading symengine-0.11.0-cp310-cp310-manylinux_2_12_x86_64.manylinux2010_x86_64.whl (39.4 MB)\n",
            "\u001b[2K     \u001b[90m━━━━━━━━━━━━━━━━━━━━━━━━━━━━━━━━━━━━━━━━\u001b[0m \u001b[32m39.4/39.4 MB\u001b[0m \u001b[31m11.0 MB/s\u001b[0m eta \u001b[36m0:00:00\u001b[0m\n",
            "\u001b[?25hRequirement already satisfied: six>=1.5 in /usr/local/lib/python3.10/dist-packages (from python-dateutil>=2.8.0->qiskit) (1.16.0)\n",
            "Collecting pbr!=2.1.0,>=2.0.0 (from stevedore>=3.0.0->qiskit)\n",
            "  Downloading pbr-6.0.0-py2.py3-none-any.whl (107 kB)\n",
            "\u001b[2K     \u001b[90m━━━━━━━━━━━━━━━━━━━━━━━━━━━━━━━━━━━━━━━━\u001b[0m \u001b[32m107.5/107.5 kB\u001b[0m \u001b[31m3.4 MB/s\u001b[0m eta \u001b[36m0:00:00\u001b[0m\n",
            "\u001b[?25hRequirement already satisfied: mpmath>=0.19 in /usr/local/lib/python3.10/dist-packages (from sympy>=1.3->qiskit) (1.3.0)\n",
            "Installing collected packages: symengine, rustworkx, pbr, dill, stevedore, qiskit\n",
            "Successfully installed dill-0.3.8 pbr-6.0.0 qiskit-1.1.0 rustworkx-0.14.2 stevedore-5.2.0 symengine-0.11.0\n"
          ]
        }
      ],
      "source": [
        "!pip install qiskit"
      ]
    },
    {
      "cell_type": "code",
      "source": [
        "from numpy import array\n",
        "from qiskit.quantum_info import Statevector\n",
        "from numpy import sqrt\n",
        "from qiskit import QuantumCircuit, QuantumRegister, ClassicalRegister\n",
        "from qiskit.primitives import Sampler\n",
        "from qiskit.visualization import plot_histogram"
      ],
      "metadata": {
        "id": "RifZAehtyXGH"
      },
      "execution_count": null,
      "outputs": []
    },
    {
      "cell_type": "markdown",
      "source": [
        "# Ejercicio 1"
      ],
      "metadata": {
        "id": "Szp2_6jvyctw"
      }
    },
    {
      "cell_type": "markdown",
      "source": [
        "## A"
      ],
      "metadata": {
        "id": "tiUl_GTYzx8X"
      }
    },
    {
      "cell_type": "code",
      "source": [
        "# Construimos el circuito\n",
        "q0 = QuantumRegister(1,\"q0\")\n",
        "q1 = QuantumRegister(1,\"q1\")\n",
        "\n",
        "circuit = QuantumCircuit(q0, q1)\n",
        "circuit.x(q1)\n",
        "circuit.h(q1)\n",
        "circuit.h(q0)\n",
        "\n",
        "\n",
        "display(circuit.draw())"
      ],
      "metadata": {
        "colab": {
          "base_uri": "https://localhost:8080/",
          "height": 94
        },
        "id": "DblyFQcgybbI",
        "outputId": "06ffa772-f48a-4d68-9bf1-3b0af300b1a9"
      },
      "execution_count": null,
      "outputs": [
        {
          "output_type": "display_data",
          "data": {
            "text/plain": [
              "    ┌───┐     \n",
              "q0: ┤ H ├─────\n",
              "    ├───┤┌───┐\n",
              "q1: ┤ X ├┤ H ├\n",
              "    └───┘└───┘"
            ],
            "text/html": [
              "<pre style=\"word-wrap: normal;white-space: pre;background: #fff0;line-height: 1.1;font-family: &quot;Courier New&quot;,Courier,monospace\">    ┌───┐     \n",
              "q0: ┤ H ├─────\n",
              "    ├───┤┌───┐\n",
              "q1: ┤ X ├┤ H ├\n",
              "    └───┘└───┘</pre>"
            ]
          },
          "metadata": {}
        }
      ]
    },
    {
      "cell_type": "code",
      "source": [
        "# Comprobacion vector de estado\n",
        "estado_inicial = Statevector([1, 0, 0, 0])\n",
        "resultado = estado_inicial.evolve(circuit)\n",
        "resultado.draw(\"latex\")"
      ],
      "metadata": {
        "colab": {
          "base_uri": "https://localhost:8080/",
          "height": 38
        },
        "id": "H8u7Ejc-zmoQ",
        "outputId": "6823c2c0-4bdb-45c3-9d52-df5f1463fcd1"
      },
      "execution_count": null,
      "outputs": [
        {
          "output_type": "execute_result",
          "data": {
            "text/plain": [
              "<IPython.core.display.Latex object>"
            ],
            "text/latex": "$$\\frac{1}{2} |00\\rangle+\\frac{1}{2} |01\\rangle- \\frac{1}{2} |10\\rangle- \\frac{1}{2} |11\\rangle$$"
          },
          "metadata": {},
          "execution_count": 27
        }
      ]
    },
    {
      "cell_type": "markdown",
      "source": [
        "## B"
      ],
      "metadata": {
        "id": "AiHZSHkozz02"
      }
    },
    {
      "cell_type": "code",
      "source": [
        "# Construimos el circuito\n",
        "q = QuantumRegister(1,\"-\")\n",
        "\n",
        "circuit = QuantumCircuit(q)\n",
        "circuit.h(q)\n",
        "circuit.x(q)\n",
        "\n",
        "display(circuit.draw())"
      ],
      "metadata": {
        "colab": {
          "base_uri": "https://localhost:8080/",
          "height": 63
        },
        "id": "q1EgYdC30mTQ",
        "outputId": "c0aeca1d-9ff6-49ac-9f4e-fefb79e62a2d"
      },
      "execution_count": null,
      "outputs": [
        {
          "output_type": "display_data",
          "data": {
            "text/plain": [
              "   ┌───┐┌───┐\n",
              "-: ┤ H ├┤ X ├\n",
              "   └───┘└───┘"
            ],
            "text/html": [
              "<pre style=\"word-wrap: normal;white-space: pre;background: #fff0;line-height: 1.1;font-family: &quot;Courier New&quot;,Courier,monospace\">   ┌───┐┌───┐\n",
              "-: ┤ H ├┤ X ├\n",
              "   └───┘└───┘</pre>"
            ]
          },
          "metadata": {}
        }
      ]
    },
    {
      "cell_type": "code",
      "source": [
        "# Comprobacion vector de estado\n",
        "estado_inicial = Statevector([1/2**0.5, -1/2**0.5])\n",
        "resultado = estado_inicial.evolve(circuit)\n",
        "resultado.draw(\"latex\")"
      ],
      "metadata": {
        "colab": {
          "base_uri": "https://localhost:8080/",
          "height": 37
        },
        "id": "l2FuDgew0zWA",
        "outputId": "6ad75a32-09c4-410b-c360-9d291a1341ed"
      },
      "execution_count": null,
      "outputs": [
        {
          "output_type": "execute_result",
          "data": {
            "text/plain": [
              "<IPython.core.display.Latex object>"
            ],
            "text/latex": "$$ |0\\rangle$$"
          },
          "metadata": {},
          "execution_count": 44
        }
      ]
    },
    {
      "cell_type": "markdown",
      "source": [
        "## C"
      ],
      "metadata": {
        "id": "TUmIBtS72C8O"
      }
    },
    {
      "cell_type": "code",
      "source": [
        "# Construimos el circuito\n",
        "q1 = QuantumRegister(1,\"q1\")\n",
        "q0 = QuantumRegister(1,\"q0\")\n",
        "q = QuantumRegister(1,\"+\")\n",
        "\n",
        "circuit = QuantumCircuit(q1, q0, q)\n",
        "circuit.s(q0)\n",
        "circuit.x(q)\n",
        "circuit.h(q)\n",
        "\n",
        "display(circuit.draw())"
      ],
      "metadata": {
        "colab": {
          "base_uri": "https://localhost:8080/",
          "height": 125
        },
        "id": "PPXCbfFH2B6g",
        "outputId": "69ce4480-42fb-402e-939f-f71c32aa2069"
      },
      "execution_count": null,
      "outputs": [
        {
          "output_type": "display_data",
          "data": {
            "text/plain": [
              "              \n",
              "q1: ──────────\n",
              "    ┌───┐     \n",
              "q0: ┤ S ├─────\n",
              "    ├───┤┌───┐\n",
              " +: ┤ X ├┤ H ├\n",
              "    └───┘└───┘"
            ],
            "text/html": [
              "<pre style=\"word-wrap: normal;white-space: pre;background: #fff0;line-height: 1.1;font-family: &quot;Courier New&quot;,Courier,monospace\">              \n",
              "q1: ──────────\n",
              "    ┌───┐     \n",
              "q0: ┤ S ├─────\n",
              "    ├───┤┌───┐\n",
              " +: ┤ X ├┤ H ├\n",
              "    └───┘└───┘</pre>"
            ]
          },
          "metadata": {}
        }
      ]
    },
    {
      "cell_type": "code",
      "source": [
        "# Comprobacion vector de estado\n",
        "estado_inicial = Statevector([1, 1, 0, 0, 1/2**0.5, 1/2**0.5, 0, 0])\n",
        "resultado = estado_inicial.evolve(circuit)\n",
        "resultado.draw(\"latex\")"
      ],
      "metadata": {
        "colab": {
          "base_uri": "https://localhost:8080/",
          "height": 37
        },
        "id": "WbW60bvT2g7p",
        "outputId": "62c15caf-6f7c-4c8e-9963-cce80ca1da0b"
      },
      "execution_count": null,
      "outputs": [
        {
          "output_type": "execute_result",
          "data": {
            "text/plain": [
              "<IPython.core.display.Latex object>"
            ],
            "text/latex": "$$1.2071067812 |000\\rangle+1.2071067812 |001\\rangle-0.2071067812 |100\\rangle-0.2071067812 |101\\rangle$$"
          },
          "metadata": {},
          "execution_count": 48
        }
      ]
    },
    {
      "cell_type": "markdown",
      "source": [
        "# Ejercicio 2\n",
        "\n"
      ],
      "metadata": {
        "id": "i1QCbFGC232B"
      }
    },
    {
      "cell_type": "code",
      "source": [
        "# Construimos el circuito\n",
        "v = QuantumRegister(1,\"v\")\n",
        "q0 = QuantumRegister(1,\"0\")\n",
        "\n",
        "circuit = QuantumCircuit(v, q0)\n",
        "circuit.cx(v, q0)\n",
        "\n",
        "display(circuit.draw())"
      ],
      "metadata": {
        "colab": {
          "base_uri": "https://localhost:8080/",
          "height": 94
        },
        "id": "sxwTRIZ027eX",
        "outputId": "609fe9fc-4155-4668-d079-564b6322819e"
      },
      "execution_count": null,
      "outputs": [
        {
          "output_type": "display_data",
          "data": {
            "text/plain": [
              "        \n",
              "v: ──■──\n",
              "   ┌─┴─┐\n",
              "0: ┤ X ├\n",
              "   └───┘"
            ],
            "text/html": [
              "<pre style=\"word-wrap: normal;white-space: pre;background: #fff0;line-height: 1.1;font-family: &quot;Courier New&quot;,Courier,monospace\">        \n",
              "v: ──■──\n",
              "   ┌─┴─┐\n",
              "0: ┤ X ├\n",
              "   └───┘</pre>"
            ]
          },
          "metadata": {}
        }
      ]
    },
    {
      "cell_type": "code",
      "source": [
        "# v = 0\n",
        "estado_inicial = Statevector.from_label(\"00\")\n",
        "resultado = estado_inicial.evolve(circuit)\n",
        "resultado.draw(\"latex\")"
      ],
      "metadata": {
        "colab": {
          "base_uri": "https://localhost:8080/",
          "height": 37
        },
        "id": "JWRL1Mnj3UkR",
        "outputId": "8d0e5cb3-9e36-4227-db5e-504493c045ef"
      },
      "execution_count": null,
      "outputs": [
        {
          "output_type": "execute_result",
          "data": {
            "text/plain": [
              "<IPython.core.display.Latex object>"
            ],
            "text/latex": "$$ |00\\rangle$$"
          },
          "metadata": {},
          "execution_count": 35
        }
      ]
    },
    {
      "cell_type": "code",
      "source": [
        "# v = 0\n",
        "estado_inicial = Statevector.from_label(\"01\")\n",
        "resultado = estado_inicial.evolve(circuit)\n",
        "resultado.draw(\"latex\")"
      ],
      "metadata": {
        "colab": {
          "base_uri": "https://localhost:8080/",
          "height": 37
        },
        "id": "u2SfAJtj3mtZ",
        "outputId": "5e414714-a41a-43fd-c745-f15240c3997e"
      },
      "execution_count": null,
      "outputs": [
        {
          "output_type": "execute_result",
          "data": {
            "text/plain": [
              "<IPython.core.display.Latex object>"
            ],
            "text/latex": "$$ |11\\rangle$$"
          },
          "metadata": {},
          "execution_count": 36
        }
      ]
    },
    {
      "cell_type": "code",
      "source": [
        "# v = 1\n",
        "estado_inicial = Statevector.from_label(\"10\")\n",
        "resultado = estado_inicial.evolve(circuit)\n",
        "resultado.draw(\"latex\")"
      ],
      "metadata": {
        "colab": {
          "base_uri": "https://localhost:8080/",
          "height": 37
        },
        "id": "bpRE5N8t3r9Y",
        "outputId": "b85f9704-efaa-42fb-f446-c5f1acfac4a6"
      },
      "execution_count": null,
      "outputs": [
        {
          "output_type": "execute_result",
          "data": {
            "text/plain": [
              "<IPython.core.display.Latex object>"
            ],
            "text/latex": "$$ |10\\rangle$$"
          },
          "metadata": {},
          "execution_count": 37
        }
      ]
    },
    {
      "cell_type": "code",
      "source": [
        "# v = 1\n",
        "estado_inicial = Statevector.from_label(\"11\")\n",
        "resultado = estado_inicial.evolve(circuit)\n",
        "resultado.draw(\"latex\")"
      ],
      "metadata": {
        "colab": {
          "base_uri": "https://localhost:8080/",
          "height": 37
        },
        "id": "Go31PP3v3vNf",
        "outputId": "599c8af1-0614-4f47-8781-1e1eaeecd22a"
      },
      "execution_count": null,
      "outputs": [
        {
          "output_type": "execute_result",
          "data": {
            "text/plain": [
              "<IPython.core.display.Latex object>"
            ],
            "text/latex": "$$ |01\\rangle$$"
          },
          "metadata": {},
          "execution_count": 38
        }
      ]
    },
    {
      "cell_type": "code",
      "source": [
        "# v = +\n",
        "estado_inicial = Statevector([1/2**0.5, 1/2**0.5, 0, 0])\n",
        "resultado = estado_inicial.evolve(circuit)\n",
        "resultado.draw(\"latex\")"
      ],
      "metadata": {
        "colab": {
          "base_uri": "https://localhost:8080/",
          "height": 40
        },
        "id": "J1PL8oNP3zp_",
        "outputId": "9450884f-32bd-411a-f783-b3dacda4d3cb"
      },
      "execution_count": null,
      "outputs": [
        {
          "output_type": "execute_result",
          "data": {
            "text/plain": [
              "<IPython.core.display.Latex object>"
            ],
            "text/latex": "$$\\frac{\\sqrt{2}}{2} |00\\rangle+\\frac{\\sqrt{2}}{2} |11\\rangle$$"
          },
          "metadata": {},
          "execution_count": 41
        }
      ]
    },
    {
      "cell_type": "markdown",
      "source": [
        "# Ejercicio 3\n"
      ],
      "metadata": {
        "id": "QWaoJF-E4ULx"
      }
    },
    {
      "cell_type": "markdown",
      "source": [
        "## A"
      ],
      "metadata": {
        "id": "b7UPeYCE4hBo"
      }
    },
    {
      "cell_type": "code",
      "source": [
        "# Construimos el circuito\n",
        "q0 = QuantumRegister(1,\"q0\")\n",
        "q1 = QuantumRegister(1,\"q1\")\n",
        "\n",
        "circuit = QuantumCircuit(q0, q1)\n",
        "circuit.x(q0)\n",
        "circuit.ch(q1, q0)\n",
        "\n",
        "display(circuit.draw())"
      ],
      "metadata": {
        "colab": {
          "base_uri": "https://localhost:8080/",
          "height": 94
        },
        "id": "pYbJ5gJA4W0_",
        "outputId": "45eb1869-f4b7-4b5f-cca5-f69defc28a1d"
      },
      "execution_count": null,
      "outputs": [
        {
          "output_type": "display_data",
          "data": {
            "text/plain": [
              "    ┌───┐┌───┐\n",
              "q0: ┤ X ├┤ H ├\n",
              "    └───┘└─┬─┘\n",
              "q1: ───────■──\n",
              "              "
            ],
            "text/html": [
              "<pre style=\"word-wrap: normal;white-space: pre;background: #fff0;line-height: 1.1;font-family: &quot;Courier New&quot;,Courier,monospace\">    ┌───┐┌───┐\n",
              "q0: ┤ X ├┤ H ├\n",
              "    └───┘└─┬─┘\n",
              "q1: ───────■──\n",
              "              </pre>"
            ]
          },
          "metadata": {}
        }
      ]
    },
    {
      "cell_type": "code",
      "source": [
        "estado_inicial = Statevector.from_label(\"00\")\n",
        "resultado = estado_inicial.evolve(circuit)\n",
        "resultado.draw(\"latex\")"
      ],
      "metadata": {
        "colab": {
          "base_uri": "https://localhost:8080/",
          "height": 37
        },
        "id": "XwMmsO3r7TeK",
        "outputId": "4c43629d-5bc3-4eeb-8ea7-dbf0e07489dd"
      },
      "execution_count": null,
      "outputs": [
        {
          "output_type": "execute_result",
          "data": {
            "text/plain": [
              "<IPython.core.display.Latex object>"
            ],
            "text/latex": "$$ |01\\rangle$$"
          },
          "metadata": {},
          "execution_count": 56
        }
      ]
    },
    {
      "cell_type": "markdown",
      "source": [
        "## B"
      ],
      "metadata": {
        "id": "ftgZL9-V4iv_"
      }
    },
    {
      "cell_type": "code",
      "source": [
        "# Construimos el circuito\n",
        "q0 = QuantumRegister(1,\"q0\")\n",
        "q1 = QuantumRegister(1,\"q1\")\n",
        "\n",
        "circuit = QuantumCircuit(q0, q1)\n",
        "circuit.x(q1)\n",
        "circuit.cx(q1, q0)\n",
        "\n",
        "display(circuit.draw())"
      ],
      "metadata": {
        "colab": {
          "base_uri": "https://localhost:8080/",
          "height": 94
        },
        "id": "Z3iH56R07Vwn",
        "outputId": "774124ce-2a2e-4057-8c99-fff279ceac1e"
      },
      "execution_count": null,
      "outputs": [
        {
          "output_type": "display_data",
          "data": {
            "text/plain": [
              "         ┌───┐\n",
              "q0: ─────┤ X ├\n",
              "    ┌───┐└─┬─┘\n",
              "q1: ┤ X ├──■──\n",
              "    └───┘     "
            ],
            "text/html": [
              "<pre style=\"word-wrap: normal;white-space: pre;background: #fff0;line-height: 1.1;font-family: &quot;Courier New&quot;,Courier,monospace\">         ┌───┐\n",
              "q0: ─────┤ X ├\n",
              "    ┌───┐└─┬─┘\n",
              "q1: ┤ X ├──■──\n",
              "    └───┘     </pre>"
            ]
          },
          "metadata": {}
        }
      ]
    },
    {
      "cell_type": "code",
      "source": [
        "estado_inicial = Statevector.from_label(\"00\")\n",
        "resultado = estado_inicial.evolve(circuit)\n",
        "resultado.draw(\"latex\")"
      ],
      "metadata": {
        "colab": {
          "base_uri": "https://localhost:8080/",
          "height": 37
        },
        "id": "BAeF6Kmv7esY",
        "outputId": "47eae10c-e93e-4064-cec0-ad1857d41153"
      },
      "execution_count": null,
      "outputs": [
        {
          "output_type": "execute_result",
          "data": {
            "text/plain": [
              "<IPython.core.display.Latex object>"
            ],
            "text/latex": "$$ |11\\rangle$$"
          },
          "metadata": {},
          "execution_count": 54
        }
      ]
    }
  ]
}