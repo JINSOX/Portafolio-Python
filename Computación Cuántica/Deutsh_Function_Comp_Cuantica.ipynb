{
  "nbformat": 4,
  "nbformat_minor": 0,
  "metadata": {
    "colab": {
      "provenance": []
    },
    "kernelspec": {
      "name": "python3",
      "display_name": "Python 3"
    },
    "language_info": {
      "name": "python"
    }
  },
  "cells": [
    {
      "cell_type": "code",
      "execution_count": null,
      "metadata": {
        "colab": {
          "base_uri": "https://localhost:8080/"
        },
        "id": "d6al3HPw22Qh",
        "outputId": "3be1a3bc-e477-4fe6-c66f-760d761b34cb"
      },
      "outputs": [
        {
          "output_type": "stream",
          "name": "stdout",
          "text": [
            "Collecting qiskit\n",
            "  Downloading qiskit-1.1.1-cp38-abi3-manylinux_2_17_x86_64.manylinux2014_x86_64.whl (4.3 MB)\n",
            "\u001b[2K     \u001b[90m━━━━━━━━━━━━━━━━━━━━━━━━━━━━━━━━━━━━━━━━\u001b[0m \u001b[32m4.3/4.3 MB\u001b[0m \u001b[31m6.6 MB/s\u001b[0m eta \u001b[36m0:00:00\u001b[0m\n",
            "\u001b[?25hCollecting rustworkx>=0.14.0 (from qiskit)\n",
            "  Downloading rustworkx-0.14.2-cp310-cp310-manylinux_2_17_x86_64.manylinux2014_x86_64.whl (2.1 MB)\n",
            "\u001b[2K     \u001b[90m━━━━━━━━━━━━━━━━━━━━━━━━━━━━━━━━━━━━━━━━\u001b[0m \u001b[32m2.1/2.1 MB\u001b[0m \u001b[31m13.5 MB/s\u001b[0m eta \u001b[36m0:00:00\u001b[0m\n",
            "\u001b[?25hRequirement already satisfied: numpy<3,>=1.17 in /usr/local/lib/python3.10/dist-packages (from qiskit) (1.25.2)\n",
            "Requirement already satisfied: scipy>=1.5 in /usr/local/lib/python3.10/dist-packages (from qiskit) (1.11.4)\n",
            "Requirement already satisfied: sympy>=1.3 in /usr/local/lib/python3.10/dist-packages (from qiskit) (1.12.1)\n",
            "Collecting dill>=0.3 (from qiskit)\n",
            "  Downloading dill-0.3.8-py3-none-any.whl (116 kB)\n",
            "\u001b[2K     \u001b[90m━━━━━━━━━━━━━━━━━━━━━━━━━━━━━━━━━━━━━━━━\u001b[0m \u001b[32m116.3/116.3 kB\u001b[0m \u001b[31m10.5 MB/s\u001b[0m eta \u001b[36m0:00:00\u001b[0m\n",
            "\u001b[?25hRequirement already satisfied: python-dateutil>=2.8.0 in /usr/local/lib/python3.10/dist-packages (from qiskit) (2.8.2)\n",
            "Collecting stevedore>=3.0.0 (from qiskit)\n",
            "  Downloading stevedore-5.2.0-py3-none-any.whl (49 kB)\n",
            "\u001b[2K     \u001b[90m━━━━━━━━━━━━━━━━━━━━━━━━━━━━━━━━━━━━━━━━\u001b[0m \u001b[32m49.7/49.7 kB\u001b[0m \u001b[31m3.1 MB/s\u001b[0m eta \u001b[36m0:00:00\u001b[0m\n",
            "\u001b[?25hRequirement already satisfied: typing-extensions in /usr/local/lib/python3.10/dist-packages (from qiskit) (4.12.2)\n",
            "Collecting symengine>=0.11 (from qiskit)\n",
            "  Downloading symengine-0.11.0-cp310-cp310-manylinux_2_12_x86_64.manylinux2010_x86_64.whl (39.4 MB)\n",
            "\u001b[2K     \u001b[90m━━━━━━━━━━━━━━━━━━━━━━━━━━━━━━━━━━━━━━━━\u001b[0m \u001b[32m39.4/39.4 MB\u001b[0m \u001b[31m9.6 MB/s\u001b[0m eta \u001b[36m0:00:00\u001b[0m\n",
            "\u001b[?25hRequirement already satisfied: six>=1.5 in /usr/local/lib/python3.10/dist-packages (from python-dateutil>=2.8.0->qiskit) (1.16.0)\n",
            "Collecting pbr!=2.1.0,>=2.0.0 (from stevedore>=3.0.0->qiskit)\n",
            "  Downloading pbr-6.0.0-py2.py3-none-any.whl (107 kB)\n",
            "\u001b[2K     \u001b[90m━━━━━━━━━━━━━━━━━━━━━━━━━━━━━━━━━━━━━━━━\u001b[0m \u001b[32m107.5/107.5 kB\u001b[0m \u001b[31m8.7 MB/s\u001b[0m eta \u001b[36m0:00:00\u001b[0m\n",
            "\u001b[?25hRequirement already satisfied: mpmath<1.4.0,>=1.1.0 in /usr/local/lib/python3.10/dist-packages (from sympy>=1.3->qiskit) (1.3.0)\n",
            "Installing collected packages: symengine, rustworkx, pbr, dill, stevedore, qiskit\n",
            "Successfully installed dill-0.3.8 pbr-6.0.0 qiskit-1.1.1 rustworkx-0.14.2 stevedore-5.2.0 symengine-0.11.0\n"
          ]
        }
      ],
      "source": [
        "!pip install qiskit"
      ]
    },
    {
      "cell_type": "code",
      "source": [
        "from numpy import array\n",
        "from qiskit.quantum_info import Statevector\n",
        "from numpy import sqrt\n",
        "from qiskit import QuantumCircuit, QuantumRegister, ClassicalRegister\n",
        "from qiskit.primitives import Sampler\n",
        "from qiskit.visualization import plot_histogram"
      ],
      "metadata": {
        "id": "zjdWFhza27Wy"
      },
      "execution_count": null,
      "outputs": []
    },
    {
      "cell_type": "code",
      "source": [
        "from qiskit import QuantumCircuit\n",
        "\n",
        "def deutsch_function ( case : int ) :\n",
        "  if case not in [1 , 2 , 3 , 4]:\n",
        "    raise ValueError (\"‘case ‘ must be 1 , 2 , 3 , or 4.\")\n",
        "\n",
        "  f = QuantumCircuit (2)\n",
        "  if case in [2 , 3]:\n",
        "    f . cx (0 , 1)\n",
        "  if case in [3 , 4]:\n",
        "    f . x (1)\n",
        "  return f"
      ],
      "metadata": {
        "id": "S9njuvb23QFK"
      },
      "execution_count": null,
      "outputs": []
    },
    {
      "cell_type": "code",
      "source": [
        "display(deutsch_function(3).draw())"
      ],
      "metadata": {
        "colab": {
          "base_uri": "https://localhost:8080/",
          "height": 94
        },
        "id": "bhKcdBY-31HT",
        "outputId": "39f433fd-1d36-4bf9-ee23-5cefd48ba290"
      },
      "execution_count": null,
      "outputs": [
        {
          "output_type": "display_data",
          "data": {
            "text/plain": [
              "               \n",
              "q_0: ──■───────\n",
              "     ┌─┴─┐┌───┐\n",
              "q_1: ┤ X ├┤ X ├\n",
              "     └───┘└───┘"
            ],
            "text/html": [
              "<pre style=\"word-wrap: normal;white-space: pre;background: #fff0;line-height: 1.1;font-family: &quot;Courier New&quot;,Courier,monospace\">               \n",
              "q_0: ──■───────\n",
              "     ┌─┴─┐┌───┐\n",
              "q_1: ┤ X ├┤ X ├\n",
              "     └───┘└───┘</pre>"
            ]
          },
          "metadata": {}
        }
      ]
    },
    {
      "cell_type": "markdown",
      "source": [
        "## Ejercicio 1"
      ],
      "metadata": {
        "id": "ZK_lBJEM4FkK"
      }
    },
    {
      "cell_type": "code",
      "source": [
        "!pip install qiskit-aer"
      ],
      "metadata": {
        "colab": {
          "base_uri": "https://localhost:8080/"
        },
        "id": "mnOtMFJ25xYc",
        "outputId": "ab39101f-51b6-42de-e493-d5735a36bdfa"
      },
      "execution_count": null,
      "outputs": [
        {
          "output_type": "stream",
          "name": "stdout",
          "text": [
            "Collecting qiskit-aer\n",
            "  Downloading qiskit_aer-0.14.2-cp310-cp310-manylinux_2_17_x86_64.manylinux2014_x86_64.whl (12.4 MB)\n",
            "\u001b[2K     \u001b[90m━━━━━━━━━━━━━━━━━━━━━━━━━━━━━━━━━━━━━━━━\u001b[0m \u001b[32m12.4/12.4 MB\u001b[0m \u001b[31m47.8 MB/s\u001b[0m eta \u001b[36m0:00:00\u001b[0m\n",
            "\u001b[?25hRequirement already satisfied: qiskit>=0.45.2 in /usr/local/lib/python3.10/dist-packages (from qiskit-aer) (1.1.1)\n",
            "Requirement already satisfied: numpy>=1.16.3 in /usr/local/lib/python3.10/dist-packages (from qiskit-aer) (1.25.2)\n",
            "Requirement already satisfied: scipy>=1.0 in /usr/local/lib/python3.10/dist-packages (from qiskit-aer) (1.11.4)\n",
            "Requirement already satisfied: psutil>=5 in /usr/local/lib/python3.10/dist-packages (from qiskit-aer) (5.9.5)\n",
            "Requirement already satisfied: rustworkx>=0.14.0 in /usr/local/lib/python3.10/dist-packages (from qiskit>=0.45.2->qiskit-aer) (0.14.2)\n",
            "Requirement already satisfied: sympy>=1.3 in /usr/local/lib/python3.10/dist-packages (from qiskit>=0.45.2->qiskit-aer) (1.12.1)\n",
            "Requirement already satisfied: dill>=0.3 in /usr/local/lib/python3.10/dist-packages (from qiskit>=0.45.2->qiskit-aer) (0.3.8)\n",
            "Requirement already satisfied: python-dateutil>=2.8.0 in /usr/local/lib/python3.10/dist-packages (from qiskit>=0.45.2->qiskit-aer) (2.8.2)\n",
            "Requirement already satisfied: stevedore>=3.0.0 in /usr/local/lib/python3.10/dist-packages (from qiskit>=0.45.2->qiskit-aer) (5.2.0)\n",
            "Requirement already satisfied: typing-extensions in /usr/local/lib/python3.10/dist-packages (from qiskit>=0.45.2->qiskit-aer) (4.12.2)\n",
            "Requirement already satisfied: symengine>=0.11 in /usr/local/lib/python3.10/dist-packages (from qiskit>=0.45.2->qiskit-aer) (0.11.0)\n",
            "Requirement already satisfied: six>=1.5 in /usr/local/lib/python3.10/dist-packages (from python-dateutil>=2.8.0->qiskit>=0.45.2->qiskit-aer) (1.16.0)\n",
            "Requirement already satisfied: pbr!=2.1.0,>=2.0.0 in /usr/local/lib/python3.10/dist-packages (from stevedore>=3.0.0->qiskit>=0.45.2->qiskit-aer) (6.0.0)\n",
            "Requirement already satisfied: mpmath<1.4.0,>=1.1.0 in /usr/local/lib/python3.10/dist-packages (from sympy>=1.3->qiskit>=0.45.2->qiskit-aer) (1.3.0)\n",
            "Installing collected packages: qiskit-aer\n",
            "Successfully installed qiskit-aer-0.14.2\n"
          ]
        }
      ]
    },
    {
      "cell_type": "code",
      "source": [
        "!pip install qiskit-aer pylatexenc"
      ],
      "metadata": {
        "colab": {
          "base_uri": "https://localhost:8080/"
        },
        "id": "gRsBxvdk7jJM",
        "outputId": "7e352136-dfe8-4f24-ac09-dfe4299017bc"
      },
      "execution_count": null,
      "outputs": [
        {
          "output_type": "stream",
          "name": "stdout",
          "text": [
            "Requirement already satisfied: qiskit-aer in /usr/local/lib/python3.10/dist-packages (0.14.2)\n",
            "Collecting pylatexenc\n",
            "  Downloading pylatexenc-2.10.tar.gz (162 kB)\n",
            "\u001b[2K     \u001b[90m━━━━━━━━━━━━━━━━━━━━━━━━━━━━━━━━━━━━━━━━\u001b[0m \u001b[32m162.6/162.6 kB\u001b[0m \u001b[31m1.5 MB/s\u001b[0m eta \u001b[36m0:00:00\u001b[0m\n",
            "\u001b[?25h  Preparing metadata (setup.py) ... \u001b[?25l\u001b[?25hdone\n",
            "Requirement already satisfied: qiskit>=0.45.2 in /usr/local/lib/python3.10/dist-packages (from qiskit-aer) (1.1.0)\n",
            "Requirement already satisfied: numpy>=1.16.3 in /usr/local/lib/python3.10/dist-packages (from qiskit-aer) (1.25.2)\n",
            "Requirement already satisfied: scipy>=1.0 in /usr/local/lib/python3.10/dist-packages (from qiskit-aer) (1.11.4)\n",
            "Requirement already satisfied: psutil>=5 in /usr/local/lib/python3.10/dist-packages (from qiskit-aer) (5.9.5)\n",
            "Requirement already satisfied: rustworkx>=0.14.0 in /usr/local/lib/python3.10/dist-packages (from qiskit>=0.45.2->qiskit-aer) (0.14.2)\n",
            "Requirement already satisfied: sympy>=1.3 in /usr/local/lib/python3.10/dist-packages (from qiskit>=0.45.2->qiskit-aer) (1.12.1)\n",
            "Requirement already satisfied: dill>=0.3 in /usr/local/lib/python3.10/dist-packages (from qiskit>=0.45.2->qiskit-aer) (0.3.8)\n",
            "Requirement already satisfied: python-dateutil>=2.8.0 in /usr/local/lib/python3.10/dist-packages (from qiskit>=0.45.2->qiskit-aer) (2.8.2)\n",
            "Requirement already satisfied: stevedore>=3.0.0 in /usr/local/lib/python3.10/dist-packages (from qiskit>=0.45.2->qiskit-aer) (5.2.0)\n",
            "Requirement already satisfied: typing-extensions in /usr/local/lib/python3.10/dist-packages (from qiskit>=0.45.2->qiskit-aer) (4.12.1)\n",
            "Requirement already satisfied: symengine>=0.11 in /usr/local/lib/python3.10/dist-packages (from qiskit>=0.45.2->qiskit-aer) (0.11.0)\n",
            "Requirement already satisfied: six>=1.5 in /usr/local/lib/python3.10/dist-packages (from python-dateutil>=2.8.0->qiskit>=0.45.2->qiskit-aer) (1.16.0)\n",
            "Requirement already satisfied: pbr!=2.1.0,>=2.0.0 in /usr/local/lib/python3.10/dist-packages (from stevedore>=3.0.0->qiskit>=0.45.2->qiskit-aer) (6.0.0)\n",
            "Requirement already satisfied: mpmath<1.4.0,>=1.1.0 in /usr/local/lib/python3.10/dist-packages (from sympy>=1.3->qiskit>=0.45.2->qiskit-aer) (1.3.0)\n",
            "Building wheels for collected packages: pylatexenc\n",
            "  Building wheel for pylatexenc (setup.py) ... \u001b[?25l\u001b[?25hdone\n",
            "  Created wheel for pylatexenc: filename=pylatexenc-2.10-py3-none-any.whl size=136816 sha256=c6e5b4ee907689bb6a15d2fbd17f343f37b1d6f0aba98a7dbb478290a56ef921\n",
            "  Stored in directory: /root/.cache/pip/wheels/d3/31/8b/e09b0386afd80cfc556c00408c9aeea5c35c4d484a9c762fd5\n",
            "Successfully built pylatexenc\n",
            "Installing collected packages: pylatexenc\n",
            "Successfully installed pylatexenc-2.10\n"
          ]
        }
      ]
    },
    {
      "cell_type": "code",
      "source": [
        "!pip install pylatexenc"
      ],
      "metadata": {
        "colab": {
          "base_uri": "https://localhost:8080/"
        },
        "id": "9JN5hUgs77Wd",
        "outputId": "0c42b409-0a95-435b-8885-b95c88786e9b"
      },
      "execution_count": null,
      "outputs": [
        {
          "output_type": "stream",
          "name": "stdout",
          "text": [
            "Requirement already satisfied: pylatexenc in /usr/local/lib/python3.10/dist-packages (2.10)\n"
          ]
        }
      ]
    },
    {
      "cell_type": "code",
      "source": [
        "# Construimos el circuito\n",
        "q0 = QuantumRegister(1,\"q0\")\n",
        "q1 = QuantumRegister(1,\"q1\")\n",
        "\n",
        "circuit = QuantumCircuit(q0, q1)\n",
        "circuit.h(q0)\n",
        "circuit.cx(q0, q1)\n",
        "circuit.z(q1)\n",
        "circuit.cx(q1, q0)\n",
        "circuit.h(q1)\n",
        "\n",
        "display(circuit.draw())"
      ],
      "metadata": {
        "colab": {
          "base_uri": "https://localhost:8080/",
          "height": 94
        },
        "id": "QYPw0was37sj",
        "outputId": "f4582ee6-eeed-4250-aa30-ee1fa0cd1cde"
      },
      "execution_count": null,
      "outputs": [
        {
          "output_type": "display_data",
          "data": {
            "text/plain": [
              "    ┌───┐          ┌───┐     \n",
              "q0: ┤ H ├──■───────┤ X ├─────\n",
              "    └───┘┌─┴─┐┌───┐└─┬─┘┌───┐\n",
              "q1: ─────┤ X ├┤ Z ├──■──┤ H ├\n",
              "         └───┘└───┘     └───┘"
            ],
            "text/html": [
              "<pre style=\"word-wrap: normal;white-space: pre;background: #fff0;line-height: 1.1;font-family: &quot;Courier New&quot;,Courier,monospace\">    ┌───┐          ┌───┐     \n",
              "q0: ┤ H ├──■───────┤ X ├─────\n",
              "    └───┘┌─┴─┐┌───┐└─┬─┘┌───┐\n",
              "q1: ─────┤ X ├┤ Z ├──■──┤ H ├\n",
              "         └───┘└───┘     └───┘</pre>"
            ]
          },
          "metadata": {}
        }
      ]
    },
    {
      "cell_type": "code",
      "source": [
        "estado_inicial = Statevector.from_label(\"10\")\n",
        "resultado = estado_inicial.evolve(circuit)\n",
        "resultado.draw(\"latex\")"
      ],
      "metadata": {
        "colab": {
          "base_uri": "https://localhost:8080/",
          "height": 37
        },
        "id": "Mk6MjH8Z9mrN",
        "outputId": "4b057b70-37c6-495c-edd1-9f9a6e22452c"
      },
      "execution_count": null,
      "outputs": [
        {
          "output_type": "execute_result",
          "data": {
            "text/plain": [
              "<IPython.core.display.Latex object>"
            ],
            "text/latex": "$$ |11\\rangle$$"
          },
          "metadata": {},
          "execution_count": 49
        }
      ]
    },
    {
      "cell_type": "code",
      "source": [
        "# Construimos el circuito\n",
        "q0 = QuantumRegister(1,\"q0\")\n",
        "q1 = QuantumRegister(1,\"q1\")\n",
        "\n",
        "circuit = QuantumCircuit(q0, q1)\n",
        "circuit.h(q0)\n",
        "\n",
        "\n",
        "display(circuit.draw())"
      ],
      "metadata": {
        "colab": {
          "base_uri": "https://localhost:8080/",
          "height": 94
        },
        "id": "jelcuvms9860",
        "outputId": "347a5db4-4d05-4004-d629-631050e9d532"
      },
      "execution_count": null,
      "outputs": [
        {
          "output_type": "display_data",
          "data": {
            "text/plain": [
              "    ┌───┐\n",
              "q0: ┤ H ├\n",
              "    └───┘\n",
              "q1: ─────\n",
              "         "
            ],
            "text/html": [
              "<pre style=\"word-wrap: normal;white-space: pre;background: #fff0;line-height: 1.1;font-family: &quot;Courier New&quot;,Courier,monospace\">    ┌───┐\n",
              "q0: ┤ H ├\n",
              "    └───┘\n",
              "q1: ─────\n",
              "         </pre>"
            ]
          },
          "metadata": {}
        }
      ]
    },
    {
      "cell_type": "code",
      "source": [
        "estado_1 = Statevector.from_label(\"10\")\n",
        "resultado1 = estado_1.evolve(circuit)\n",
        "resultado1.draw(\"latex\")"
      ],
      "metadata": {
        "colab": {
          "base_uri": "https://localhost:8080/",
          "height": 40
        },
        "id": "LjWZ5zHB-F1M",
        "outputId": "d95256be-a3e6-4d34-e0b3-0a306df9a6c5"
      },
      "execution_count": null,
      "outputs": [
        {
          "output_type": "execute_result",
          "data": {
            "text/plain": [
              "<IPython.core.display.Latex object>"
            ],
            "text/latex": "$$\\frac{\\sqrt{2}}{2} |10\\rangle+\\frac{\\sqrt{2}}{2} |11\\rangle$$"
          },
          "metadata": {},
          "execution_count": 62
        }
      ]
    },
    {
      "cell_type": "code",
      "source": [
        "# Construimos el circuito\n",
        "q0 = QuantumRegister(1,\"q0\")\n",
        "q1 = QuantumRegister(1,\"q1\")\n",
        "\n",
        "circuit = QuantumCircuit(q0, q1)\n",
        "circuit.cx(q0, q1)\n",
        "\n",
        "display(circuit.draw())"
      ],
      "metadata": {
        "colab": {
          "base_uri": "https://localhost:8080/",
          "height": 94
        },
        "id": "PkQ4FW3h-P2e",
        "outputId": "d55eed70-fb24-42e8-a80c-01a8dc8e122a"
      },
      "execution_count": null,
      "outputs": [
        {
          "output_type": "display_data",
          "data": {
            "text/plain": [
              "         \n",
              "q0: ──■──\n",
              "    ┌─┴─┐\n",
              "q1: ┤ X ├\n",
              "    └───┘"
            ],
            "text/html": [
              "<pre style=\"word-wrap: normal;white-space: pre;background: #fff0;line-height: 1.1;font-family: &quot;Courier New&quot;,Courier,monospace\">         \n",
              "q0: ──■──\n",
              "    ┌─┴─┐\n",
              "q1: ┤ X ├\n",
              "    └───┘</pre>"
            ]
          },
          "metadata": {}
        }
      ]
    },
    {
      "cell_type": "code",
      "source": [
        "resultado2 = resultado1.evolve(circuit)\n",
        "resultado2.draw(\"latex\")"
      ],
      "metadata": {
        "colab": {
          "base_uri": "https://localhost:8080/",
          "height": 40
        },
        "id": "tj7AIm9d-WvU",
        "outputId": "a792ad36-507d-41a7-fb02-57f47d011d74"
      },
      "execution_count": null,
      "outputs": [
        {
          "output_type": "execute_result",
          "data": {
            "text/plain": [
              "<IPython.core.display.Latex object>"
            ],
            "text/latex": "$$\\frac{\\sqrt{2}}{2} |01\\rangle+\\frac{\\sqrt{2}}{2} |10\\rangle$$"
          },
          "metadata": {},
          "execution_count": 64
        }
      ]
    },
    {
      "cell_type": "code",
      "source": [
        "# Construimos el circuito\n",
        "q0 = QuantumRegister(1,\"q0\")\n",
        "q1 = QuantumRegister(1,\"q1\")\n",
        "\n",
        "circuit = QuantumCircuit(q0, q1)\n",
        "circuit.z(q1)\n",
        "\n",
        "display(circuit.draw())"
      ],
      "metadata": {
        "colab": {
          "base_uri": "https://localhost:8080/",
          "height": 94
        },
        "id": "bdh9hIfL-p4t",
        "outputId": "33041d46-1a14-4584-c2f8-43e211265b46"
      },
      "execution_count": null,
      "outputs": [
        {
          "output_type": "display_data",
          "data": {
            "text/plain": [
              "         \n",
              "q0: ─────\n",
              "    ┌───┐\n",
              "q1: ┤ Z ├\n",
              "    └───┘"
            ],
            "text/html": [
              "<pre style=\"word-wrap: normal;white-space: pre;background: #fff0;line-height: 1.1;font-family: &quot;Courier New&quot;,Courier,monospace\">         \n",
              "q0: ─────\n",
              "    ┌───┐\n",
              "q1: ┤ Z ├\n",
              "    └───┘</pre>"
            ]
          },
          "metadata": {}
        }
      ]
    },
    {
      "cell_type": "code",
      "source": [
        "resultado3 = resultado2.evolve(circuit)\n",
        "resultado3.draw(\"latex\")"
      ],
      "metadata": {
        "colab": {
          "base_uri": "https://localhost:8080/",
          "height": 40
        },
        "id": "eHfhi8m_-vZU",
        "outputId": "e9e30d97-ffaa-4665-8554-11147b67715b"
      },
      "execution_count": null,
      "outputs": [
        {
          "output_type": "execute_result",
          "data": {
            "text/plain": [
              "<IPython.core.display.Latex object>"
            ],
            "text/latex": "$$\\frac{\\sqrt{2}}{2} |01\\rangle- \\frac{\\sqrt{2}}{2} |10\\rangle$$"
          },
          "metadata": {},
          "execution_count": 66
        }
      ]
    },
    {
      "cell_type": "code",
      "source": [
        "# Construimos el circuito\n",
        "q0 = QuantumRegister(1,\"q0\")\n",
        "q1 = QuantumRegister(1,\"q1\")\n",
        "\n",
        "circuit = QuantumCircuit(q0, q1)\n",
        "circuit.cx(q1, q0)\n",
        "\n",
        "display(circuit.draw())"
      ],
      "metadata": {
        "colab": {
          "base_uri": "https://localhost:8080/",
          "height": 94
        },
        "id": "kh1Dsc_l-s5j",
        "outputId": "ffb42ed0-76a5-411c-9ed0-4d2b34156aeb"
      },
      "execution_count": null,
      "outputs": [
        {
          "output_type": "display_data",
          "data": {
            "text/plain": [
              "    ┌───┐\n",
              "q0: ┤ X ├\n",
              "    └─┬─┘\n",
              "q1: ──■──\n",
              "         "
            ],
            "text/html": [
              "<pre style=\"word-wrap: normal;white-space: pre;background: #fff0;line-height: 1.1;font-family: &quot;Courier New&quot;,Courier,monospace\">    ┌───┐\n",
              "q0: ┤ X ├\n",
              "    └─┬─┘\n",
              "q1: ──■──\n",
              "         </pre>"
            ]
          },
          "metadata": {}
        }
      ]
    },
    {
      "cell_type": "code",
      "source": [
        "resultado4 = resultado3.evolve(circuit)\n",
        "resultado4.draw(\"latex\")"
      ],
      "metadata": {
        "colab": {
          "base_uri": "https://localhost:8080/",
          "height": 40
        },
        "id": "9vwv61Yr_Rvd",
        "outputId": "d38054d8-0eff-4c16-b2fe-1dfb114dcc26"
      },
      "execution_count": null,
      "outputs": [
        {
          "output_type": "execute_result",
          "data": {
            "text/plain": [
              "<IPython.core.display.Latex object>"
            ],
            "text/latex": "$$\\frac{\\sqrt{2}}{2} |01\\rangle- \\frac{\\sqrt{2}}{2} |11\\rangle$$"
          },
          "metadata": {},
          "execution_count": 68
        }
      ]
    },
    {
      "cell_type": "code",
      "source": [
        "# Construimos el circuito\n",
        "q0 = QuantumRegister(1,\"q0\")\n",
        "q1 = QuantumRegister(1,\"q1\")\n",
        "\n",
        "circuit = QuantumCircuit(q0, q1)\n",
        "circuit.h(q1)\n",
        "\n",
        "display(circuit.draw())"
      ],
      "metadata": {
        "colab": {
          "base_uri": "https://localhost:8080/",
          "height": 94
        },
        "id": "mS3Q3MTx-tS7",
        "outputId": "4f26529c-844a-4217-d17c-29bece49879e"
      },
      "execution_count": null,
      "outputs": [
        {
          "output_type": "display_data",
          "data": {
            "text/plain": [
              "         \n",
              "q0: ─────\n",
              "    ┌───┐\n",
              "q1: ┤ H ├\n",
              "    └───┘"
            ],
            "text/html": [
              "<pre style=\"word-wrap: normal;white-space: pre;background: #fff0;line-height: 1.1;font-family: &quot;Courier New&quot;,Courier,monospace\">         \n",
              "q0: ─────\n",
              "    ┌───┐\n",
              "q1: ┤ H ├\n",
              "    └───┘</pre>"
            ]
          },
          "metadata": {}
        }
      ]
    },
    {
      "cell_type": "code",
      "source": [
        "resultado5 = resultado4.evolve(circuit)\n",
        "resultado5.draw(\"latex\")"
      ],
      "metadata": {
        "colab": {
          "base_uri": "https://localhost:8080/",
          "height": 37
        },
        "id": "funE-esf_ZZd",
        "outputId": "b014fc66-3612-4a5c-d92e-104ce49c7abc"
      },
      "execution_count": null,
      "outputs": [
        {
          "output_type": "execute_result",
          "data": {
            "text/plain": [
              "<IPython.core.display.Latex object>"
            ],
            "text/latex": "$$ |11\\rangle$$"
          },
          "metadata": {},
          "execution_count": 70
        }
      ]
    },
    {
      "cell_type": "markdown",
      "source": [
        "## Ejercicio 2"
      ],
      "metadata": {
        "id": "WhKrFxX5Adcl"
      }
    },
    {
      "cell_type": "code",
      "source": [
        "# Construimos el circuito\n",
        "a = QuantumRegister(1,\"a\")\n",
        "b = QuantumRegister(1,\"b\")\n",
        "\n",
        "circuit = QuantumCircuit(a, b)\n",
        "circuit.cz(a, b)\n",
        "\n",
        "display(circuit.draw())"
      ],
      "metadata": {
        "colab": {
          "base_uri": "https://localhost:8080/",
          "height": 94
        },
        "id": "ZibNarRIAfTS",
        "outputId": "7a8d777b-f250-488b-ad39-aea625a5bfe9"
      },
      "execution_count": null,
      "outputs": [
        {
          "output_type": "display_data",
          "data": {
            "text/plain": [
              "      \n",
              "a: ─■─\n",
              "    │ \n",
              "b: ─■─\n",
              "      "
            ],
            "text/html": [
              "<pre style=\"word-wrap: normal;white-space: pre;background: #fff0;line-height: 1.1;font-family: &quot;Courier New&quot;,Courier,monospace\">      \n",
              "a: ─■─\n",
              "    │ \n",
              "b: ─■─\n",
              "      </pre>"
            ]
          },
          "metadata": {}
        }
      ]
    },
    {
      "cell_type": "code",
      "source": [
        "estado = Statevector([0, 1, 0, 1])\n",
        "resultado = estado.evolve(circuit)\n",
        "resultado.draw(\"latex\")"
      ],
      "metadata": {
        "colab": {
          "base_uri": "https://localhost:8080/",
          "height": 37
        },
        "id": "LLoyJTxdBppt",
        "outputId": "1777320c-32a1-4c06-bbf7-a13db38f6bc3"
      },
      "execution_count": null,
      "outputs": [
        {
          "output_type": "execute_result",
          "data": {
            "text/plain": [
              "<IPython.core.display.Latex object>"
            ],
            "text/latex": "$$ |01\\rangle- |11\\rangle$$"
          },
          "metadata": {},
          "execution_count": 79
        }
      ]
    },
    {
      "cell_type": "markdown",
      "source": [
        "## Ejercicio 3\n"
      ],
      "metadata": {
        "id": "-h6dIY97352K"
      }
    },
    {
      "cell_type": "markdown",
      "source": [
        "### Algoritmo 1\n"
      ],
      "metadata": {
        "id": "dcN0oJyFq5wP"
      }
    },
    {
      "cell_type": "code",
      "source": [
        "# Construimos el circuito\n",
        "# Creación de registros cuánticos y clásicos\n",
        "q = QuantumRegister(2, 'q')\n",
        "c = ClassicalRegister(1, 'c')\n",
        "circuit = QuantumCircuit(q, c)\n",
        "\n",
        "# Aplicación de las compuertas\n",
        "circuit.h(q[0])  # Hadamard en el primer qubit\n",
        "circuit.x(q[1])  # NOT en el segundo qubit\n",
        "circuit.h(q[1])  # Hadamard en el segundo qubit\n",
        "\n",
        "# Aquí se debe insertar la caja negra (oracle) que representa la función f\n",
        "# Por ejemplo, vamos a usar una función constante f(x) = 0\n",
        "# En este caso, no se hace nada al qubit q[1], ya que f(0) = f(1) = 0\n",
        "\n",
        "# Para una función equilibrada f(x) = x, usamos una puerta CNOT\n",
        "circuit.cx(q[0], q[1])\n",
        "\n",
        "# Aplicación de Hadamard al primer qubit después de la evaluación de la función\n",
        "circuit.h(q[0])\n",
        "# Medición del primer qubit\n",
        "circuit.measure(q[0], c[0])\n",
        "\n",
        "# Visualización del circuito\n",
        "circuit.draw()"
      ],
      "metadata": {
        "colab": {
          "base_uri": "https://localhost:8080/",
          "height": 125
        },
        "id": "S4tO_w7e4D7K",
        "outputId": "f74c4afa-3e77-4406-90ec-d5c8014fe518"
      },
      "execution_count": null,
      "outputs": [
        {
          "output_type": "execute_result",
          "data": {
            "text/plain": [
              "     ┌───┐          ┌───┐┌─┐\n",
              "q_0: ┤ H ├───────■──┤ H ├┤M├\n",
              "     ├───┤┌───┐┌─┴─┐└───┘└╥┘\n",
              "q_1: ┤ X ├┤ H ├┤ X ├──────╫─\n",
              "     └───┘└───┘└───┘      ║ \n",
              "c: 1/═════════════════════╩═\n",
              "                          0 "
            ],
            "text/html": [
              "<pre style=\"word-wrap: normal;white-space: pre;background: #fff0;line-height: 1.1;font-family: &quot;Courier New&quot;,Courier,monospace\">     ┌───┐          ┌───┐┌─┐\n",
              "q_0: ┤ H ├───────■──┤ H ├┤M├\n",
              "     ├───┤┌───┐┌─┴─┐└───┘└╥┘\n",
              "q_1: ┤ X ├┤ H ├┤ X ├──────╫─\n",
              "     └───┘└───┘└───┘      ║ \n",
              "c: 1/═════════════════════╩═\n",
              "                          0 </pre>"
            ]
          },
          "metadata": {},
          "execution_count": 9
        }
      ]
    },
    {
      "cell_type": "markdown",
      "source": [
        "#### Particion y muestra"
      ],
      "metadata": {
        "id": "G8lgM6VA9MBd"
      }
    },
    {
      "cell_type": "code",
      "source": [
        "\n",
        "# Construcción del circuito\n",
        "q = QuantumRegister(2, 'q')\n",
        "c = ClassicalRegister(1, 'c')\n",
        "circuit = QuantumCircuit(q, c)\n",
        "\n",
        "# Segmentos del circuito\n",
        "segmentos = []\n",
        "\n",
        "# Segmento 1: Aplicación de Hadamard en el primer qubit\n",
        "segmento1 = QuantumCircuit(q, c)\n",
        "segmento1.h(q[0])\n",
        "segmentos.append(segmento1)\n",
        "\n",
        "# Segmento 2: NOT en el segundo qubit\n",
        "segmento2 = QuantumCircuit(q, c)\n",
        "segmento2.x(q[1])\n",
        "segmentos.append(segmento2)\n",
        "\n",
        "# Segmento 3: Hadamard en el segundo qubit\n",
        "segmento3 = QuantumCircuit(q, c)\n",
        "segmento3.h(q[1])\n",
        "segmentos.append(segmento3)\n",
        "\n",
        "# Segmento 4: Oracle (puerta CNOT para función equilibrada f(x) = x)\n",
        "segmento4 = QuantumCircuit(q, c)\n",
        "segmento4.cx(q[0], q[1])\n",
        "segmentos.append(segmento4)\n",
        "\n",
        "# Segmento 5: Hadamard en el primer qubit después de la evaluación de la función\n",
        "segmento5 = QuantumCircuit(q, c)\n",
        "segmento5.h(q[0])\n",
        "segmentos.append(segmento5)\n",
        "\n",
        "# Segmento 6: Medición del primer qubit (no se aplica en la evolución del estado)\n",
        "segmento6 = QuantumCircuit(q, c)\n",
        "segmento6.measure(q[0], c[0])\n",
        "\n",
        "# Definir el estado inicial |00⟩\n",
        "estado_inicial = Statevector.from_label('00')\n",
        "\n",
        "# Evolucionar el estado inicial paso a paso\n",
        "estado_actual = estado_inicial\n",
        "\n",
        "for i, segmento in enumerate(segmentos[:-1]):  # Excluir la medida\n",
        "    estado_actual = estado_actual.evolve(segmento)\n",
        "    print(f\"Estado después del segmento {i+1}:\")\n",
        "    display(estado_actual.draw('latex'))\n",
        "    print()\n",
        "\n"
      ],
      "metadata": {
        "colab": {
          "base_uri": "https://localhost:8080/",
          "height": 245
        },
        "id": "DqHjREI6-KaN",
        "outputId": "8c8657fa-1f68-47b7-d106-4d1bda4bed0c"
      },
      "execution_count": null,
      "outputs": [
        {
          "output_type": "stream",
          "name": "stdout",
          "text": [
            "Estado después del segmento 1:\n"
          ]
        },
        {
          "output_type": "display_data",
          "data": {
            "text/plain": [
              "<IPython.core.display.Latex object>"
            ],
            "text/latex": "$$\\frac{\\sqrt{2}}{2} |00\\rangle+\\frac{\\sqrt{2}}{2} |01\\rangle$$"
          },
          "metadata": {}
        },
        {
          "output_type": "stream",
          "name": "stdout",
          "text": [
            "\n",
            "Estado después del segmento 2:\n"
          ]
        },
        {
          "output_type": "display_data",
          "data": {
            "text/plain": [
              "<IPython.core.display.Latex object>"
            ],
            "text/latex": "$$\\frac{\\sqrt{2}}{2} |10\\rangle+\\frac{\\sqrt{2}}{2} |11\\rangle$$"
          },
          "metadata": {}
        },
        {
          "output_type": "stream",
          "name": "stdout",
          "text": [
            "\n",
            "Estado después del segmento 3:\n"
          ]
        },
        {
          "output_type": "display_data",
          "data": {
            "text/plain": [
              "<IPython.core.display.Latex object>"
            ],
            "text/latex": "$$\\frac{1}{2} |00\\rangle+\\frac{1}{2} |01\\rangle- \\frac{1}{2} |10\\rangle- \\frac{1}{2} |11\\rangle$$"
          },
          "metadata": {}
        },
        {
          "output_type": "stream",
          "name": "stdout",
          "text": [
            "\n",
            "Estado después del segmento 4:\n"
          ]
        },
        {
          "output_type": "display_data",
          "data": {
            "text/plain": [
              "<IPython.core.display.Latex object>"
            ],
            "text/latex": "$$\\frac{1}{2} |00\\rangle- \\frac{1}{2} |01\\rangle- \\frac{1}{2} |10\\rangle+\\frac{1}{2} |11\\rangle$$"
          },
          "metadata": {}
        },
        {
          "output_type": "stream",
          "name": "stdout",
          "text": [
            "\n"
          ]
        }
      ]
    },
    {
      "cell_type": "code",
      "source": [
        "\n",
        "# Verificación\n",
        "print(\"Estado final usando segmentos:\")\n",
        "display(estado_actual.draw('latex'))\n"
      ],
      "metadata": {
        "colab": {
          "base_uri": "https://localhost:8080/",
          "height": 55
        },
        "id": "EtF0L3LK-j_e",
        "outputId": "30a05812-5a4f-411a-c00f-c9de4e06faee"
      },
      "execution_count": null,
      "outputs": [
        {
          "output_type": "stream",
          "name": "stdout",
          "text": [
            "Estado final usando segmentos:\n"
          ]
        },
        {
          "output_type": "display_data",
          "data": {
            "text/plain": [
              "<IPython.core.display.Latex object>"
            ],
            "text/latex": "$$\\frac{1}{2} |00\\rangle- \\frac{1}{2} |01\\rangle- \\frac{1}{2} |10\\rangle+\\frac{1}{2} |11\\rangle$$"
          },
          "metadata": {}
        }
      ]
    },
    {
      "cell_type": "markdown",
      "source": [
        "### Algoritmo 2"
      ],
      "metadata": {
        "id": "3_yvXbgFrBwh"
      }
    },
    {
      "cell_type": "code",
      "source": [
        "# Número de qubits de entrada\n",
        "n = 2\n",
        "\n",
        "# Creación de registros cuánticos y clásicos\n",
        "q = QuantumRegister(n + 1, 'q')  # n qubits de entrada + 1 qubit de salida\n",
        "c = ClassicalRegister(n, 'c')    # n bits clásicos\n",
        "circuit = QuantumCircuit(q, c)\n",
        "\n",
        "# Inicialización del qubit de salida en el estado |1⟩\n",
        "circuit.x(q[n])\n",
        "circuit.h(q[n])\n",
        "\n",
        "# Aplicación de la compuerta Hadamard a todos los qubits de entrada\n",
        "for i in range(n):\n",
        "    circuit.h(q[i])\n",
        "\n",
        "# Oracle: Aquí debemos definir el oracle para una función específica\n",
        "# Por ejemplo, para una función equilibrada f(x) = x[0] XOR x[1], usamos una puerta CNOT controlada por q[0] y q[1] y apuntando a q[2]\n",
        "circuit.cx(q[0], q[n])\n",
        "circuit.cx(q[1], q[n])\n",
        "\n",
        "# Aplicación de la compuerta Hadamard a todos los qubits de entrada nuevamente\n",
        "for i in range(n):\n",
        "    circuit.h(q[i])\n",
        "\n",
        "# Medición de los qubits de entrada\n",
        "circuit.measure(q[:n], c)\n",
        "\n",
        "# Visualización del circuito\n",
        "circuit.draw()"
      ],
      "metadata": {
        "colab": {
          "base_uri": "https://localhost:8080/",
          "height": 156
        },
        "id": "oHZoOaH6Ej3u",
        "outputId": "77213ed5-ff01-43cc-e97f-71b47753227f"
      },
      "execution_count": null,
      "outputs": [
        {
          "output_type": "execute_result",
          "data": {
            "text/plain": [
              "     ┌───┐          ┌───┐     ┌─┐   \n",
              "q_0: ┤ H ├───────■──┤ H ├─────┤M├───\n",
              "     ├───┤       │  └───┘┌───┐└╥┘┌─┐\n",
              "q_1: ┤ H ├───────┼────■──┤ H ├─╫─┤M├\n",
              "     ├───┤┌───┐┌─┴─┐┌─┴─┐└───┘ ║ └╥┘\n",
              "q_2: ┤ X ├┤ H ├┤ X ├┤ X ├──────╫──╫─\n",
              "     └───┘└───┘└───┘└───┘      ║  ║ \n",
              "c: 2/══════════════════════════╩══╩═\n",
              "                               0  1 "
            ],
            "text/html": [
              "<pre style=\"word-wrap: normal;white-space: pre;background: #fff0;line-height: 1.1;font-family: &quot;Courier New&quot;,Courier,monospace\">     ┌───┐          ┌───┐     ┌─┐   \n",
              "q_0: ┤ H ├───────■──┤ H ├─────┤M├───\n",
              "     ├───┤       │  └───┘┌───┐└╥┘┌─┐\n",
              "q_1: ┤ H ├───────┼────■──┤ H ├─╫─┤M├\n",
              "     ├───┤┌───┐┌─┴─┐┌─┴─┐└───┘ ║ └╥┘\n",
              "q_2: ┤ X ├┤ H ├┤ X ├┤ X ├──────╫──╫─\n",
              "     └───┘└───┘└───┘└───┘      ║  ║ \n",
              "c: 2/══════════════════════════╩══╩═\n",
              "                               0  1 </pre>"
            ]
          },
          "metadata": {},
          "execution_count": 11
        }
      ]
    },
    {
      "cell_type": "code",
      "source": [
        "# Definir el estado inicial |000⟩ para 2 qubits de entrada + 1 qubit de salida\n",
        "estado_inicial = Statevector.from_label('000')\n",
        "\n",
        "# Evolucionar el estado inicial con el circuito (sin medir)\n",
        "circuit_no_measure = circuit.remove_final_measurements(inplace=False)\n",
        "resultado = estado_inicial.evolve(circuit_no_measure)\n",
        "\n",
        "# Dibujar el resultado en notación LaTeX\n",
        "resultado.draw('latex')"
      ],
      "metadata": {
        "colab": {
          "base_uri": "https://localhost:8080/",
          "height": 40
        },
        "id": "n0esqNLSFD7n",
        "outputId": "7257382b-09d8-482a-a15b-f729592b4939"
      },
      "execution_count": null,
      "outputs": [
        {
          "output_type": "execute_result",
          "data": {
            "text/plain": [
              "<IPython.core.display.Latex object>"
            ],
            "text/latex": "$$\\frac{\\sqrt{2}}{2} |011\\rangle- \\frac{\\sqrt{2}}{2} |111\\rangle$$"
          },
          "metadata": {},
          "execution_count": 22
        }
      ]
    },
    {
      "cell_type": "markdown",
      "source": [
        "#### Particion y muestra"
      ],
      "metadata": {
        "id": "H8vHoFUtrdWL"
      }
    },
    {
      "cell_type": "code",
      "source": [
        "\n",
        "\n",
        "# Número de qubits de entrada\n",
        "n = 2\n",
        "\n",
        "# Creación de registros cuánticos y clásicos\n",
        "q = QuantumRegister(n + 1, 'q')  # n qubits de entrada + 1 qubit de salida\n",
        "c = ClassicalRegister(n, 'c')    # n bits clásicos\n",
        "circuit = QuantumCircuit(q, c)\n",
        "\n",
        "# Inicialización del qubit de salida en el estado |1⟩\n",
        "circuit.x(q[n])\n",
        "circuit.h(q[n])\n",
        "\n",
        "# Aplicación de la compuerta Hadamard a todos los qubits de entrada\n",
        "for i in range(n):\n",
        "    circuit.h(q[i])\n",
        "\n",
        "# Oracle: Aquí debemos definir el oracle para una función específica\n",
        "# Por ejemplo, para una función equilibrada f(x) = x[0] XOR x[1], usamos una puerta CNOT controlada por q[0] y q[1] y apuntando a q[2]\n",
        "circuit.cx(q[0], q[n])\n",
        "circuit.cx(q[1], q[n])\n",
        "\n",
        "# Aplicación de la compuerta Hadamard a todos los qubits de entrada nuevamente\n",
        "for i in range(n):\n",
        "    circuit.h(q[i])\n",
        "\n",
        "# Medición de los qubits de entrada\n",
        "circuit.measure(q[:n], c)\n",
        "\n",
        "# Dibujar el circuito completo\n",
        "print(circuit.draw())\n"
      ],
      "metadata": {
        "colab": {
          "base_uri": "https://localhost:8080/"
        },
        "id": "9cZWz2Qpripr",
        "outputId": "b40bfde7-61c0-4a8c-ff9e-59c6e092812a"
      },
      "execution_count": null,
      "outputs": [
        {
          "output_type": "stream",
          "name": "stdout",
          "text": [
            "     ┌───┐          ┌───┐     ┌─┐   \n",
            "q_0: ┤ H ├───────■──┤ H ├─────┤M├───\n",
            "     ├───┤       │  └───┘┌───┐└╥┘┌─┐\n",
            "q_1: ┤ H ├───────┼────■──┤ H ├─╫─┤M├\n",
            "     ├───┤┌───┐┌─┴─┐┌─┴─┐└───┘ ║ └╥┘\n",
            "q_2: ┤ X ├┤ H ├┤ X ├┤ X ├──────╫──╫─\n",
            "     └───┘└───┘└───┘└───┘      ║  ║ \n",
            "c: 2/══════════════════════════╩══╩═\n",
            "                               0  1 \n"
          ]
        }
      ]
    },
    {
      "cell_type": "code",
      "source": [
        "\n",
        "# Definir el estado inicial |000⟩ para 2 qubits de entrada + 1 qubit de salida\n",
        "estado_inicial = Statevector.from_label('000')\n",
        "\n",
        "# Evolucionar el estado inicial paso a paso\n",
        "estado_actual = estado_inicial\n",
        "\n",
        "# Segmento 1: Inicialización del qubit de salida en el estado |1⟩\n",
        "segmento1 = QuantumCircuit(q, c)\n",
        "segmento1.x(q[n])\n",
        "segmento1.h(q[n])\n",
        "estado_actual = estado_actual.evolve(segmento1)\n",
        "estado_actual.draw('latex')\n"
      ],
      "metadata": {
        "colab": {
          "base_uri": "https://localhost:8080/",
          "height": 40
        },
        "id": "-uxb-m_mwPDf",
        "outputId": "3cf3417f-9d0b-4c8b-b5c7-1a08a2322819"
      },
      "execution_count": null,
      "outputs": [
        {
          "output_type": "execute_result",
          "data": {
            "text/plain": [
              "<IPython.core.display.Latex object>"
            ],
            "text/latex": "$$\\frac{\\sqrt{2}}{2} |000\\rangle- \\frac{\\sqrt{2}}{2} |100\\rangle$$"
          },
          "metadata": {},
          "execution_count": 37
        }
      ]
    },
    {
      "cell_type": "code",
      "source": [
        "\n",
        "# Segmento 2: Aplicación de la compuerta Hadamard a todos los qubits de entrada\n",
        "segmento2 = QuantumCircuit(q, c)\n",
        "for i in range(2):\n",
        "    segmento2.h(q[i])\n",
        "estado_actual = estado_actual.evolve(segmento2)\n",
        "estado_actual.draw('latex')\n"
      ],
      "metadata": {
        "colab": {
          "base_uri": "https://localhost:8080/",
          "height": 40
        },
        "id": "ba8ZQ9XvwiRg",
        "outputId": "bd5547bc-b513-4d02-f192-1531a17a4d50"
      },
      "execution_count": null,
      "outputs": [
        {
          "output_type": "execute_result",
          "data": {
            "text/plain": [
              "<IPython.core.display.Latex object>"
            ],
            "text/latex": "$$\\frac{\\sqrt{2}}{4} |000\\rangle+\\frac{\\sqrt{2}}{4} |001\\rangle+\\frac{\\sqrt{2}}{4} |010\\rangle+\\frac{\\sqrt{2}}{4} |011\\rangle- \\frac{\\sqrt{2}}{4} |100\\rangle- \\frac{\\sqrt{2}}{4} |101\\rangle- \\frac{\\sqrt{2}}{4} |110\\rangle- \\frac{\\sqrt{2}}{4} |111\\rangle$$"
          },
          "metadata": {},
          "execution_count": 38
        }
      ]
    },
    {
      "cell_type": "code",
      "source": [
        "\n",
        "# Segmento 3: Oracle\n",
        "segmento3 = QuantumCircuit(q, c)\n",
        "segmento3.cx(q[0], q[n])\n",
        "segmento3.cx(q[1], q[n])\n",
        "estado_actual = estado_actual.evolve(segmento3)\n",
        "estado_actual.draw('latex')\n"
      ],
      "metadata": {
        "colab": {
          "base_uri": "https://localhost:8080/",
          "height": 40
        },
        "id": "bV220USOxaN-",
        "outputId": "38043ded-6a70-486c-b83a-bd9371fe5152"
      },
      "execution_count": null,
      "outputs": [
        {
          "output_type": "execute_result",
          "data": {
            "text/plain": [
              "<IPython.core.display.Latex object>"
            ],
            "text/latex": "$$\\frac{\\sqrt{2}}{4} |000\\rangle- \\frac{\\sqrt{2}}{4} |001\\rangle- \\frac{\\sqrt{2}}{4} |010\\rangle+\\frac{\\sqrt{2}}{4} |011\\rangle- \\frac{\\sqrt{2}}{4} |100\\rangle+\\frac{\\sqrt{2}}{4} |101\\rangle+\\frac{\\sqrt{2}}{4} |110\\rangle- \\frac{\\sqrt{2}}{4} |111\\rangle$$"
          },
          "metadata": {},
          "execution_count": 39
        }
      ]
    },
    {
      "cell_type": "code",
      "source": [
        "\n",
        "# Segmento 4: Aplicación de la compuerta Hadamard a todos los qubits de entrada nuevamente\n",
        "segmento4 = QuantumCircuit(q, c)\n",
        "for i in range(2):\n",
        "    segmento4.h(q[i])\n",
        "estado_actual = estado_actual.evolve(segmento4)\n",
        "estado_actual.draw('latex')\n"
      ],
      "metadata": {
        "colab": {
          "base_uri": "https://localhost:8080/",
          "height": 40
        },
        "id": "qAoUVtjIxfPd",
        "outputId": "6b38d1a6-fd32-4d5f-a2a8-cc672cdc9c2d"
      },
      "execution_count": null,
      "outputs": [
        {
          "output_type": "execute_result",
          "data": {
            "text/plain": [
              "<IPython.core.display.Latex object>"
            ],
            "text/latex": "$$\\frac{\\sqrt{2}}{2} |011\\rangle- \\frac{\\sqrt{2}}{2} |111\\rangle$$"
          },
          "metadata": {},
          "execution_count": 40
        }
      ]
    },
    {
      "cell_type": "code",
      "source": [
        "\n",
        "# Verificar que el estado final es el mismo que aplicar el circuito completo sin medir\n",
        "circuit_no_measure = circuit.remove_final_measurements(inplace=False)\n",
        "estado_final_completo = estado_inicial.evolve(circuit_no_measure)\n",
        "estado_final_completo.draw('latex')\n",
        "\n"
      ],
      "metadata": {
        "colab": {
          "base_uri": "https://localhost:8080/",
          "height": 40
        },
        "id": "REdRr371xpjT",
        "outputId": "2ec40d79-fd85-44e9-dba9-47c16278a852"
      },
      "execution_count": null,
      "outputs": [
        {
          "output_type": "execute_result",
          "data": {
            "text/plain": [
              "<IPython.core.display.Latex object>"
            ],
            "text/latex": "$$\\frac{\\sqrt{2}}{2} |011\\rangle- \\frac{\\sqrt{2}}{2} |111\\rangle$$"
          },
          "metadata": {},
          "execution_count": 41
        }
      ]
    },
    {
      "cell_type": "code",
      "source": [
        "\n",
        "# Verificación\n",
        "print(\"Estado final usando segmentos:\")\n",
        "estado_actual.draw('latex')\n"
      ],
      "metadata": {
        "colab": {
          "base_uri": "https://localhost:8080/",
          "height": 58
        },
        "id": "rvVV7B3_x3GY",
        "outputId": "540af6c1-ecd9-4084-97ec-e2f5b399c4b8"
      },
      "execution_count": null,
      "outputs": [
        {
          "output_type": "stream",
          "name": "stdout",
          "text": [
            "Estado final usando segmentos:\n"
          ]
        },
        {
          "output_type": "execute_result",
          "data": {
            "text/plain": [
              "<IPython.core.display.Latex object>"
            ],
            "text/latex": "$$\\frac{\\sqrt{2}}{2} |011\\rangle- \\frac{\\sqrt{2}}{2} |111\\rangle$$"
          },
          "metadata": {},
          "execution_count": 43
        }
      ]
    },
    {
      "cell_type": "code",
      "source": [
        "print(\"Estado final usando el circuito completo:\")\n",
        "estado_final_completo.draw('latex')\n"
      ],
      "metadata": {
        "id": "O-Sqee7iyKOs",
        "outputId": "b55ba6c1-d592-4446-b48e-438bc6261ddd",
        "colab": {
          "base_uri": "https://localhost:8080/",
          "height": 58
        }
      },
      "execution_count": null,
      "outputs": [
        {
          "output_type": "stream",
          "name": "stdout",
          "text": [
            "Estado final usando el circuito completo:\n"
          ]
        },
        {
          "output_type": "execute_result",
          "data": {
            "text/plain": [
              "<IPython.core.display.Latex object>"
            ],
            "text/latex": "$$\\frac{\\sqrt{2}}{2} |011\\rangle- \\frac{\\sqrt{2}}{2} |111\\rangle$$"
          },
          "metadata": {},
          "execution_count": 44
        }
      ]
    },
    {
      "cell_type": "markdown",
      "source": [
        "### Algoritmo 3"
      ],
      "metadata": {
        "id": "2dkGauCXrI78"
      }
    },
    {
      "cell_type": "code",
      "source": [
        "# Número de qubits de entrada\n",
        "n = 3  # Puedes cambiar este valor para tener más qubits de entrada\n",
        "\n",
        "# La cadena de bits oculta a\n",
        "a = '101'  # Puedes cambiar esta cadena para probar diferentes casos\n",
        "\n",
        "# Creación de registros cuánticos y clásicos\n",
        "q = QuantumRegister(n + 1, 'q')  # n qubits de entrada + 1 qubit de salida\n",
        "c = ClassicalRegister(n, 'c')    # n bits clásicos\n",
        "circuit = QuantumCircuit(q, c)\n",
        "\n",
        "# Inicialización del qubit de salida en el estado |1⟩\n",
        "circuit.x(q[n])\n",
        "circuit.h(q[n])\n",
        "\n",
        "# Aplicación de la compuerta Hadamard a todos los qubits de entrada\n",
        "for i in range(n):\n",
        "    circuit.h(q[i])\n",
        "\n",
        "# Oracle: aplica una puerta CNOT donde a[i] = 1\n",
        "for i in range(n):\n",
        "    if a[i] == '1':\n",
        "        circuit.cx(q[i], q[n])\n",
        "\n",
        "# Aplicación de la compuerta Hadamard a todos los qubits de entrada nuevamente\n",
        "for i in range(n):\n",
        "    circuit.h(q[i])\n",
        "\n",
        "# Medición de los qubits de entrada\n",
        "circuit.measure(q[:n], c)\n",
        "\n",
        "# Visualización del circuito\n",
        "circuit.draw()"
      ],
      "metadata": {
        "colab": {
          "base_uri": "https://localhost:8080/",
          "height": 186
        },
        "id": "An0d2RQvFcBd",
        "outputId": "09f13e02-29d9-4164-f4ef-78818f7bd855"
      },
      "execution_count": null,
      "outputs": [
        {
          "output_type": "execute_result",
          "data": {
            "text/plain": [
              "     ┌───┐          ┌───┐          ┌─┐   \n",
              "q_0: ┤ H ├───────■──┤ H ├──────────┤M├───\n",
              "     ├───┤┌───┐  │  └┬─┬┘          └╥┘   \n",
              "q_1: ┤ H ├┤ H ├──┼───┤M├────────────╫────\n",
              "     ├───┤└───┘  │   └╥┘      ┌───┐ ║ ┌─┐\n",
              "q_2: ┤ H ├───────┼────╫────■──┤ H ├─╫─┤M├\n",
              "     ├───┤┌───┐┌─┴─┐  ║  ┌─┴─┐└───┘ ║ └╥┘\n",
              "q_3: ┤ X ├┤ H ├┤ X ├──╫──┤ X ├──────╫──╫─\n",
              "     └───┘└───┘└───┘  ║  └───┘      ║  ║ \n",
              "c: 3/═════════════════╩═════════════╩══╩═\n",
              "                      1             0  2 "
            ],
            "text/html": [
              "<pre style=\"word-wrap: normal;white-space: pre;background: #fff0;line-height: 1.1;font-family: &quot;Courier New&quot;,Courier,monospace\">     ┌───┐          ┌───┐          ┌─┐   \n",
              "q_0: ┤ H ├───────■──┤ H ├──────────┤M├───\n",
              "     ├───┤┌───┐  │  └┬─┬┘          └╥┘   \n",
              "q_1: ┤ H ├┤ H ├──┼───┤M├────────────╫────\n",
              "     ├───┤└───┘  │   └╥┘      ┌───┐ ║ ┌─┐\n",
              "q_2: ┤ H ├───────┼────╫────■──┤ H ├─╫─┤M├\n",
              "     ├───┤┌───┐┌─┴─┐  ║  ┌─┴─┐└───┘ ║ └╥┘\n",
              "q_3: ┤ X ├┤ H ├┤ X ├──╫──┤ X ├──────╫──╫─\n",
              "     └───┘└───┘└───┘  ║  └───┘      ║  ║ \n",
              "c: 3/═════════════════╩═════════════╩══╩═\n",
              "                      1             0  2 </pre>"
            ]
          },
          "metadata": {},
          "execution_count": 45
        }
      ]
    },
    {
      "cell_type": "code",
      "source": [
        "# Definir el estado inicial |0...01⟩ para n qubits de entrada + 1 qubit de salida\n",
        "estado_inicial = '0' * n + '1'\n",
        "estado_inicial = Statevector.from_label(estado_inicial)\n",
        "\n",
        "# Evolucionar el estado inicial con el circuito (sin medir)\n",
        "circuit_no_measure = circuit.remove_final_measurements(inplace=False)\n",
        "resultado = estado_inicial.evolve(circuit_no_measure)\n",
        "\n",
        "# Dibujar el resultado en notación LaTeX\n",
        "resultado.draw('latex')"
      ],
      "metadata": {
        "colab": {
          "base_uri": "https://localhost:8080/",
          "height": 40
        },
        "id": "gWb3HHLSFo3o",
        "outputId": "2a598d65-8adb-4507-b11b-5d06555c6591"
      },
      "execution_count": null,
      "outputs": [
        {
          "output_type": "execute_result",
          "data": {
            "text/plain": [
              "<IPython.core.display.Latex object>"
            ],
            "text/latex": "$$\\frac{\\sqrt{2}}{2} |0100\\rangle- \\frac{\\sqrt{2}}{2} |1100\\rangle$$"
          },
          "metadata": {},
          "execution_count": 46
        }
      ]
    },
    {
      "cell_type": "markdown",
      "source": [
        "#### Particion y muestra"
      ],
      "metadata": {
        "id": "dBupmi1J5sBe"
      }
    },
    {
      "cell_type": "code",
      "source": [
        "\n",
        "# Número de qubits de entrada\n",
        "n = 3  # Puedes cambiar este valor para tener más qubits de entrada\n",
        "\n",
        "# La cadena de bits oculta a\n",
        "a = '101'  # Puedes cambiar esta cadena para probar diferentes casos\n",
        "\n",
        "# Creación de registros cuánticos y clásicos\n",
        "q = QuantumRegister(n + 1, 'q')  # n qubits de entrada + 1 qubit de salida\n",
        "c = ClassicalRegister(n, 'c')    # n bits clásicos\n",
        "circuit = QuantumCircuit(q, c)\n",
        "\n",
        "# Inicialización del qubit de salida en el estado |1⟩\n",
        "circuit.x(q[n])\n",
        "circuit.h(q[n])\n",
        "\n",
        "# Aplicación de la compuerta Hadamard a todos los qubits de entrada\n",
        "for i in range(n):\n",
        "    circuit.h(q[i])\n",
        "\n",
        "# Oracle: aplica una puerta CNOT donde a[i] = 1\n",
        "for i in range(n):\n",
        "    if a[i] == '1':\n",
        "        circuit.cx(q[i], q[n])\n",
        "\n",
        "# Aplicación de la compuerta Hadamard a todos los qubits de entrada nuevamente\n",
        "for i in range(n):\n",
        "    circuit.h(q[i])\n",
        "\n",
        "# Medición de los qubits de entrada\n",
        "circuit.measure(q[:n], c)\n",
        "\n",
        "# Dibujar el circuito completo\n",
        "print(circuit.draw())\n"
      ],
      "metadata": {
        "colab": {
          "base_uri": "https://localhost:8080/"
        },
        "id": "yKHJuABl5obP",
        "outputId": "0af6ad16-e6c4-430a-9930-521ef07ce3d2"
      },
      "execution_count": null,
      "outputs": [
        {
          "output_type": "stream",
          "name": "stdout",
          "text": [
            "     ┌───┐          ┌───┐          ┌─┐   \n",
            "q_0: ┤ H ├───────■──┤ H ├──────────┤M├───\n",
            "     ├───┤┌───┐  │  └┬─┬┘          └╥┘   \n",
            "q_1: ┤ H ├┤ H ├──┼───┤M├────────────╫────\n",
            "     ├───┤└───┘  │   └╥┘      ┌───┐ ║ ┌─┐\n",
            "q_2: ┤ H ├───────┼────╫────■──┤ H ├─╫─┤M├\n",
            "     ├───┤┌───┐┌─┴─┐  ║  ┌─┴─┐└───┘ ║ └╥┘\n",
            "q_3: ┤ X ├┤ H ├┤ X ├──╫──┤ X ├──────╫──╫─\n",
            "     └───┘└───┘└───┘  ║  └───┘      ║  ║ \n",
            "c: 3/═════════════════╩═════════════╩══╩═\n",
            "                      1             0  2 \n"
          ]
        }
      ]
    },
    {
      "cell_type": "code",
      "source": [
        "# Definir el estado inicial |0...01⟩ para n qubits de entrada + 1 qubit de salida\n",
        "estado_inicial = '0' * n + '1'\n",
        "estado_inicial = Statevector.from_label(estado_inicial)\n",
        "\n",
        "# Evolucionar el estado inicial paso a paso\n",
        "estado_actual = estado_inicial\n",
        "\n",
        "# Segmento 1: Inicialización del qubit de salida en el estado |1⟩\n",
        "segmento1 = QuantumCircuit(q, c)\n",
        "segmento1.x(q[n])\n",
        "segmento1.h(q[n])\n",
        "estado_actual = estado_actual.evolve(segmento1)\n",
        "estado_actual.draw('latex')\n"
      ],
      "metadata": {
        "colab": {
          "base_uri": "https://localhost:8080/",
          "height": 40
        },
        "id": "pHkCQnbn58u8",
        "outputId": "dba7fcb8-b847-42e9-813e-23e84a4c2278"
      },
      "execution_count": null,
      "outputs": [
        {
          "output_type": "execute_result",
          "data": {
            "text/plain": [
              "<IPython.core.display.Latex object>"
            ],
            "text/latex": "$$\\frac{\\sqrt{2}}{2} |0001\\rangle- \\frac{\\sqrt{2}}{2} |1001\\rangle$$"
          },
          "metadata": {},
          "execution_count": 54
        }
      ]
    },
    {
      "cell_type": "code",
      "source": [
        "\n",
        "# Segmento 2: Aplicación de la compuerta Hadamard a todos los qubits de entrada\n",
        "segmento2 = QuantumCircuit(q, c)\n",
        "for i in range(n):\n",
        "    segmento2.h(q[i])\n",
        "estado_actual = estado_actual.evolve(segmento2)\n",
        "estado_actual.draw('latex')\n"
      ],
      "metadata": {
        "colab": {
          "base_uri": "https://localhost:8080/",
          "height": 38
        },
        "id": "OXRPVV_k6CF1",
        "outputId": "63921d05-9029-4136-dae0-ed9233d4d595"
      },
      "execution_count": null,
      "outputs": [
        {
          "output_type": "execute_result",
          "data": {
            "text/plain": [
              "<IPython.core.display.Latex object>"
            ],
            "text/latex": "$$\\frac{1}{4} |0000\\rangle- \\frac{1}{4} |0001\\rangle+\\frac{1}{4} |0010\\rangle- \\frac{1}{4} |0011\\rangle+\\frac{1}{4} |0100\\rangle- \\frac{1}{4} |0101\\rangle + \\ldots +\\frac{1}{4} |1011\\rangle- \\frac{1}{4} |1100\\rangle+\\frac{1}{4} |1101\\rangle- \\frac{1}{4} |1110\\rangle+\\frac{1}{4} |1111\\rangle$$"
          },
          "metadata": {},
          "execution_count": 55
        }
      ]
    },
    {
      "cell_type": "code",
      "source": [
        "\n",
        "# Segmento 3: Oracle\n",
        "segmento3 = QuantumCircuit(q, c)\n",
        "for i in range(n):\n",
        "    if a[i] == '1':\n",
        "        segmento3.cx(q[i], q[n])\n",
        "estado_actual = estado_actual.evolve(segmento3)\n",
        "estado_actual.draw('latex')\n"
      ],
      "metadata": {
        "colab": {
          "base_uri": "https://localhost:8080/",
          "height": 38
        },
        "id": "7LfUSRSH6Kt8",
        "outputId": "ae50e7b5-a60b-45f1-fa83-63aaa3db8f09"
      },
      "execution_count": null,
      "outputs": [
        {
          "output_type": "execute_result",
          "data": {
            "text/plain": [
              "<IPython.core.display.Latex object>"
            ],
            "text/latex": "$$\\frac{1}{4} |0000\\rangle+\\frac{1}{4} |0001\\rangle+\\frac{1}{4} |0010\\rangle+\\frac{1}{4} |0011\\rangle- \\frac{1}{4} |0100\\rangle- \\frac{1}{4} |0101\\rangle + \\ldots - \\frac{1}{4} |1011\\rangle+\\frac{1}{4} |1100\\rangle+\\frac{1}{4} |1101\\rangle+\\frac{1}{4} |1110\\rangle+\\frac{1}{4} |1111\\rangle$$"
          },
          "metadata": {},
          "execution_count": 56
        }
      ]
    },
    {
      "cell_type": "code",
      "source": [
        "\n",
        "# Segmento 4: Aplicación de la compuerta Hadamard a todos los qubits de entrada nuevamente\n",
        "segmento4 = QuantumCircuit(q, c)\n",
        "for i in range(n):\n",
        "    segmento4.h(q[i])\n",
        "estado_actual = estado_actual.evolve(segmento4)\n",
        "estado_actual.draw('latex')\n"
      ],
      "metadata": {
        "colab": {
          "base_uri": "https://localhost:8080/",
          "height": 40
        },
        "id": "tKYYpccm6Quk",
        "outputId": "08a745a9-00c5-46f1-b384-7c1cdd1e6a8e"
      },
      "execution_count": null,
      "outputs": [
        {
          "output_type": "execute_result",
          "data": {
            "text/plain": [
              "<IPython.core.display.Latex object>"
            ],
            "text/latex": "$$\\frac{\\sqrt{2}}{2} |0100\\rangle- \\frac{\\sqrt{2}}{2} |1100\\rangle$$"
          },
          "metadata": {},
          "execution_count": 57
        }
      ]
    },
    {
      "cell_type": "code",
      "source": [
        "\n",
        "# Verificar que el estado final es el mismo que aplicar el circuito completo sin medir\n",
        "circuit_no_measure = circuit.remove_final_measurements(inplace=False)\n",
        "estado_final_completo = estado_inicial.evolve(circuit_no_measure)\n",
        "estado_final_completo.draw('latex')\n"
      ],
      "metadata": {
        "colab": {
          "base_uri": "https://localhost:8080/",
          "height": 40
        },
        "id": "d3Pue4Rz6dNm",
        "outputId": "ec9fb082-ae3a-4642-ad16-2ab970493816"
      },
      "execution_count": null,
      "outputs": [
        {
          "output_type": "execute_result",
          "data": {
            "text/plain": [
              "<IPython.core.display.Latex object>"
            ],
            "text/latex": "$$\\frac{\\sqrt{2}}{2} |0100\\rangle- \\frac{\\sqrt{2}}{2} |1100\\rangle$$"
          },
          "metadata": {},
          "execution_count": 58
        }
      ]
    },
    {
      "cell_type": "code",
      "source": [
        "\n",
        "# Verificación\n",
        "print(\"Estado final usando segmentos:\")\n",
        "estado_actual.draw('latex')\n"
      ],
      "metadata": {
        "colab": {
          "base_uri": "https://localhost:8080/",
          "height": 58
        },
        "id": "a0EQZXnM6kxU",
        "outputId": "7a726c56-2815-4d30-e114-4a7569b53484"
      },
      "execution_count": null,
      "outputs": [
        {
          "output_type": "stream",
          "name": "stdout",
          "text": [
            "Estado final usando segmentos:\n"
          ]
        },
        {
          "output_type": "execute_result",
          "data": {
            "text/plain": [
              "<IPython.core.display.Latex object>"
            ],
            "text/latex": "$$\\frac{\\sqrt{2}}{2} |0100\\rangle- \\frac{\\sqrt{2}}{2} |1100\\rangle$$"
          },
          "metadata": {},
          "execution_count": 60
        }
      ]
    },
    {
      "cell_type": "code",
      "source": [
        "print(\"Estado final usando el circuito completo:\")\n",
        "estado_final_completo.draw('latex')\n"
      ],
      "metadata": {
        "colab": {
          "base_uri": "https://localhost:8080/",
          "height": 58
        },
        "id": "mLEMUuqk6ncl",
        "outputId": "c0176103-5eed-468f-ab3a-49d1cd4505db"
      },
      "execution_count": null,
      "outputs": [
        {
          "output_type": "stream",
          "name": "stdout",
          "text": [
            "Estado final usando el circuito completo:\n"
          ]
        },
        {
          "output_type": "execute_result",
          "data": {
            "text/plain": [
              "<IPython.core.display.Latex object>"
            ],
            "text/latex": "$$\\frac{\\sqrt{2}}{2} |0100\\rangle- \\frac{\\sqrt{2}}{2} |1100\\rangle$$"
          },
          "metadata": {},
          "execution_count": 61
        }
      ]
    },
    {
      "cell_type": "markdown",
      "source": [
        "### Algoritmo 4"
      ],
      "metadata": {
        "id": "FeOl1SA0rMkb"
      }
    },
    {
      "cell_type": "code",
      "source": [
        "# Número de qubits de entrada (debe ser n)\n",
        "n = 3  # Puedes cambiar este valor para tener más qubits de entrada\n",
        "\n",
        "# La cadena de bits oculta s (debe ser de longitud n)\n",
        "s = '110'  # Puedes cambiar esta cadena para probar diferentes casos\n",
        "\n",
        "# Crear el oracle de Simon\n",
        "def simon_oracle(qc, q_in, q_out, s):\n",
        "    \"\"\"Aplica el oracle de Simon al circuito cuántico.\"\"\"\n",
        "    # Asumimos que f(x) = f(x ⊕ s)\n",
        "    for i, bit in enumerate(s):\n",
        "        if bit == '1':\n",
        "            qc.cx(q_in[i], q_out[0])\n",
        "\n",
        "# Crear el circuito cuántico\n",
        "q_in = QuantumRegister(n, 'q_in')  # n qubits de entrada\n",
        "q_out = QuantumRegister(1, 'q_out')  # 1 qubit de salida\n",
        "c = ClassicalRegister(n, 'c')  # n bits clásicos\n",
        "circuit = QuantumCircuit(q_in, q_out, c)\n",
        "\n",
        "# Inicialización del qubit de salida en el estado |0⟩\n",
        "circuit.h(q_out)\n",
        "\n",
        "# Aplicación de la compuerta Hadamard a todos los qubits de entrada\n",
        "circuit.h(q_in)\n",
        "\n",
        "# Aplicación del oracle de Simon\n",
        "simon_oracle(circuit, q_in, q_out, s)\n",
        "\n",
        "# Aplicación de la compuerta Hadamard a todos los qubits de entrada nuevamente\n",
        "circuit.h(q_in)\n",
        "\n",
        "# Medición de los qubits de entrada\n",
        "circuit.measure(q_in, c)\n",
        "\n",
        "# Visualización del circuito\n",
        "circuit.draw()"
      ],
      "metadata": {
        "colab": {
          "base_uri": "https://localhost:8080/",
          "height": 186
        },
        "id": "QrTVGzkdFsuV",
        "outputId": "0eedd0b5-aa51-4536-9bd4-2b75f10593c6"
      },
      "execution_count": null,
      "outputs": [
        {
          "output_type": "execute_result",
          "data": {
            "text/plain": [
              "        ┌───┐     ┌───┐          ┌─┐   \n",
              "q_in_0: ┤ H ├──■──┤ H ├──────────┤M├───\n",
              "        ├───┤  │  └───┘     ┌───┐└╥┘┌─┐\n",
              "q_in_1: ┤ H ├──┼─────────■──┤ H ├─╫─┤M├\n",
              "        ├───┤  │  ┌───┐  │  └┬─┬┘ ║ └╥┘\n",
              "q_in_2: ┤ H ├──┼──┤ H ├──┼───┤M├──╫──╫─\n",
              "        ├───┤┌─┴─┐└───┘┌─┴─┐ └╥┘  ║  ║ \n",
              " q_out: ┤ H ├┤ X ├─────┤ X ├──╫───╫──╫─\n",
              "        └───┘└───┘     └───┘  ║   ║  ║ \n",
              "   c: 3/══════════════════════╩═══╩══╩═\n",
              "                              2   0  1 "
            ],
            "text/html": [
              "<pre style=\"word-wrap: normal;white-space: pre;background: #fff0;line-height: 1.1;font-family: &quot;Courier New&quot;,Courier,monospace\">        ┌───┐     ┌───┐          ┌─┐   \n",
              "q_in_0: ┤ H ├──■──┤ H ├──────────┤M├───\n",
              "        ├───┤  │  └───┘     ┌───┐└╥┘┌─┐\n",
              "q_in_1: ┤ H ├──┼─────────■──┤ H ├─╫─┤M├\n",
              "        ├───┤  │  ┌───┐  │  └┬─┬┘ ║ └╥┘\n",
              "q_in_2: ┤ H ├──┼──┤ H ├──┼───┤M├──╫──╫─\n",
              "        ├───┤┌─┴─┐└───┘┌─┴─┐ └╥┘  ║  ║ \n",
              " q_out: ┤ H ├┤ X ├─────┤ X ├──╫───╫──╫─\n",
              "        └───┘└───┘     └───┘  ║   ║  ║ \n",
              "   c: 3/══════════════════════╩═══╩══╩═\n",
              "                              2   0  1 </pre>"
            ]
          },
          "metadata": {},
          "execution_count": 23
        }
      ]
    },
    {
      "cell_type": "code",
      "source": [
        "# Definir el estado inicial |0...0⟩ para n qubits de entrada + 1 qubit de salida\n",
        "estado_inicial = '0' * n + '0'\n",
        "estado_inicial = Statevector.from_label(estado_inicial)\n",
        "\n",
        "# Evolucionar el estado inicial con el circuito (sin medir)\n",
        "circuit_no_measure = circuit.remove_final_measurements(inplace=False)\n",
        "resultado = estado_inicial.evolve(circuit_no_measure)\n",
        "\n",
        "# Dibujar el resultado en notación LaTeX\n",
        "resultado.draw('latex')"
      ],
      "metadata": {
        "id": "_DVnTmHrGBo-",
        "outputId": "2a86aa84-3a0f-454c-be21-225687278e9f",
        "colab": {
          "base_uri": "https://localhost:8080/",
          "height": 40
        }
      },
      "execution_count": null,
      "outputs": [
        {
          "output_type": "execute_result",
          "data": {
            "text/plain": [
              "<IPython.core.display.Latex object>"
            ],
            "text/latex": "$$\\frac{\\sqrt{2}}{2} |0000\\rangle+\\frac{\\sqrt{2}}{2} |1000\\rangle$$"
          },
          "metadata": {},
          "execution_count": 24
        }
      ]
    },
    {
      "cell_type": "markdown",
      "source": [
        "#### Particion y muestra"
      ],
      "metadata": {
        "id": "69DctXGW7PTt"
      }
    },
    {
      "cell_type": "code",
      "source": [
        "\n",
        "# Número de qubits de entrada (debe ser n)\n",
        "n = 3  # Puedes cambiar este valor para tener más qubits de entrada\n",
        "\n",
        "# La cadena de bits oculta s (debe ser de longitud n)\n",
        "s = '110'  # Puedes cambiar esta cadena para probar diferentes casos\n",
        "\n",
        "# Crear el oracle de Simon\n",
        "def simon_oracle(qc, q_in, q_out, s):\n",
        "    \"\"\"Aplica el oracle de Simon al circuito cuántico.\"\"\"\n",
        "    # Asumimos que f(x) = f(x ⊕ s)\n",
        "    for i, bit in enumerate(s):\n",
        "        if bit == '1':\n",
        "            qc.cx(q_in[i], q_out[0])\n",
        "\n",
        "# Crear el circuito cuántico\n",
        "q_in = QuantumRegister(n, 'q_in')  # n qubits de entrada\n",
        "q_out = QuantumRegister(1, 'q_out')  # 1 qubit de salida\n",
        "c = ClassicalRegister(n, 'c')  # n bits clásicos\n",
        "circuit = QuantumCircuit(q_in, q_out, c)\n",
        "\n",
        "# Inicialización del qubit de salida en el estado |0⟩\n",
        "circuit.h(q_out)\n",
        "\n",
        "# Aplicación de la compuerta Hadamard a todos los qubits de entrada\n",
        "circuit.h(q_in)\n",
        "\n",
        "# Aplicación del oracle de Simon\n",
        "simon_oracle(circuit, q_in, q_out, s)\n",
        "\n",
        "# Aplicación de la compuerta Hadamard a todos los qubits de entrada nuevamente\n",
        "circuit.h(q_in)\n",
        "\n",
        "# Medición de los qubits de entrada\n",
        "circuit.measure(q_in, c)\n",
        "\n",
        "# Dibujar el circuito completo\n",
        "print(circuit.draw())"
      ],
      "metadata": {
        "colab": {
          "base_uri": "https://localhost:8080/"
        },
        "id": "QBEZgIeg7SOG",
        "outputId": "c47f17d6-5cca-45ad-fcd1-db2a07f44dcd"
      },
      "execution_count": null,
      "outputs": [
        {
          "output_type": "stream",
          "name": "stdout",
          "text": [
            "        ┌───┐     ┌───┐          ┌─┐   \n",
            "q_in_0: ┤ H ├──■──┤ H ├──────────┤M├───\n",
            "        ├───┤  │  └───┘     ┌───┐└╥┘┌─┐\n",
            "q_in_1: ┤ H ├──┼─────────■──┤ H ├─╫─┤M├\n",
            "        ├───┤  │  ┌───┐  │  └┬─┬┘ ║ └╥┘\n",
            "q_in_2: ┤ H ├──┼──┤ H ├──┼───┤M├──╫──╫─\n",
            "        ├───┤┌─┴─┐└───┘┌─┴─┐ └╥┘  ║  ║ \n",
            " q_out: ┤ H ├┤ X ├─────┤ X ├──╫───╫──╫─\n",
            "        └───┘└───┘     └───┘  ║   ║  ║ \n",
            "   c: 3/══════════════════════╩═══╩══╩═\n",
            "                              2   0  1 \n"
          ]
        }
      ]
    },
    {
      "cell_type": "code",
      "source": [
        "# Definir el estado inicial |0...0⟩ para n qubits de entrada + 1 qubit de salida\n",
        "estado_inicial = '0' * n + '0'\n",
        "estado_inicial = Statevector.from_label(estado_inicial)\n",
        "\n",
        "# Evolucionar el estado inicial paso a paso\n",
        "estado_actual = estado_inicial\n",
        "\n",
        "# Segmento 1: Inicialización del qubit de salida en el estado |0⟩ y Hadamard\n",
        "segmento1 = QuantumCircuit(q_in, q_out, c)\n",
        "segmento1.h(q_out)\n",
        "estado_actual = estado_actual.evolve(segmento1)\n",
        "estado_actual.draw('latex')\n"
      ],
      "metadata": {
        "colab": {
          "base_uri": "https://localhost:8080/",
          "height": 40
        },
        "id": "jt1x9pzH7Z5-",
        "outputId": "c2af48ed-710f-4ce3-ceb4-86c7273e2860"
      },
      "execution_count": null,
      "outputs": [
        {
          "output_type": "execute_result",
          "data": {
            "text/plain": [
              "<IPython.core.display.Latex object>"
            ],
            "text/latex": "$$\\frac{\\sqrt{2}}{2} |0000\\rangle+\\frac{\\sqrt{2}}{2} |1000\\rangle$$"
          },
          "metadata": {},
          "execution_count": 64
        }
      ]
    },
    {
      "cell_type": "code",
      "source": [
        "# Segmento 2: Aplicación de la compuerta Hadamard a todos los qubits de entrada\n",
        "segmento2 = QuantumCircuit(q_in, q_out, c)\n",
        "segmento2.h(q_in)\n",
        "estado_actual = estado_actual.evolve(segmento2)\n",
        "estado_actual.draw('latex')\n"
      ],
      "metadata": {
        "colab": {
          "base_uri": "https://localhost:8080/",
          "height": 38
        },
        "id": "N8cZ5S2x7h_G",
        "outputId": "9af26296-51fc-4c68-8fc6-f293be716aa4"
      },
      "execution_count": null,
      "outputs": [
        {
          "output_type": "execute_result",
          "data": {
            "text/plain": [
              "<IPython.core.display.Latex object>"
            ],
            "text/latex": "$$\\frac{1}{4} |0000\\rangle+\\frac{1}{4} |0001\\rangle+\\frac{1}{4} |0010\\rangle+\\frac{1}{4} |0011\\rangle+\\frac{1}{4} |0100\\rangle+\\frac{1}{4} |0101\\rangle + \\ldots +\\frac{1}{4} |1011\\rangle+\\frac{1}{4} |1100\\rangle+\\frac{1}{4} |1101\\rangle+\\frac{1}{4} |1110\\rangle+\\frac{1}{4} |1111\\rangle$$"
          },
          "metadata": {},
          "execution_count": 65
        }
      ]
    },
    {
      "cell_type": "code",
      "source": [
        "\n",
        "# Segmento 3: Oracle de Simon\n",
        "segmento3 = QuantumCircuit(q_in, q_out, c)\n",
        "simon_oracle(segmento3, q_in, q_out, s)\n",
        "estado_actual = estado_actual.evolve(segmento3)\n",
        "estado_actual.draw('latex')\n"
      ],
      "metadata": {
        "colab": {
          "base_uri": "https://localhost:8080/",
          "height": 38
        },
        "id": "Xzr4o16Q7nCe",
        "outputId": "11a38811-9830-4609-dfbd-83ded8831a24"
      },
      "execution_count": null,
      "outputs": [
        {
          "output_type": "execute_result",
          "data": {
            "text/plain": [
              "<IPython.core.display.Latex object>"
            ],
            "text/latex": "$$\\frac{1}{4} |0000\\rangle+\\frac{1}{4} |0001\\rangle+\\frac{1}{4} |0010\\rangle+\\frac{1}{4} |0011\\rangle+\\frac{1}{4} |0100\\rangle+\\frac{1}{4} |0101\\rangle + \\ldots +\\frac{1}{4} |1011\\rangle+\\frac{1}{4} |1100\\rangle+\\frac{1}{4} |1101\\rangle+\\frac{1}{4} |1110\\rangle+\\frac{1}{4} |1111\\rangle$$"
          },
          "metadata": {},
          "execution_count": 66
        }
      ]
    },
    {
      "cell_type": "code",
      "source": [
        "# Segmento 4: Aplicación de la compuerta Hadamard a todos los qubits de entrada nuevamente\n",
        "segmento4 = QuantumCircuit(q_in, q_out, c)\n",
        "segmento4.h(q_in)\n",
        "estado_actual = estado_actual.evolve(segmento4)\n",
        "estado_actual.draw('latex')"
      ],
      "metadata": {
        "colab": {
          "base_uri": "https://localhost:8080/",
          "height": 40
        },
        "id": "o0WrihDh7sGE",
        "outputId": "c5b15434-1445-40cf-8385-5ced63be26ee"
      },
      "execution_count": null,
      "outputs": [
        {
          "output_type": "execute_result",
          "data": {
            "text/plain": [
              "<IPython.core.display.Latex object>"
            ],
            "text/latex": "$$\\frac{\\sqrt{2}}{2} |0000\\rangle+\\frac{\\sqrt{2}}{2} |1000\\rangle$$"
          },
          "metadata": {},
          "execution_count": 67
        }
      ]
    },
    {
      "cell_type": "code",
      "source": [
        "# Verificar que el estado final es el mismo que aplicar el circuito completo sin medir\n",
        "circuit_no_measure = circuit.remove_final_measurements(inplace=False)\n",
        "estado_final_completo = estado_inicial.evolve(circuit_no_measure)\n",
        "estado_final_completo.draw('latex')"
      ],
      "metadata": {
        "colab": {
          "base_uri": "https://localhost:8080/",
          "height": 40
        },
        "id": "LIIlJOIK7z7W",
        "outputId": "59a0f6f7-20ee-460b-b552-2b6033410a6f"
      },
      "execution_count": null,
      "outputs": [
        {
          "output_type": "execute_result",
          "data": {
            "text/plain": [
              "<IPython.core.display.Latex object>"
            ],
            "text/latex": "$$\\frac{\\sqrt{2}}{2} |0000\\rangle+\\frac{\\sqrt{2}}{2} |1000\\rangle$$"
          },
          "metadata": {},
          "execution_count": 68
        }
      ]
    },
    {
      "cell_type": "code",
      "source": [
        "# Verificación\n",
        "print(\"Estado final usando segmentos:\")\n",
        "estado_actual.draw('latex')"
      ],
      "metadata": {
        "colab": {
          "base_uri": "https://localhost:8080/",
          "height": 58
        },
        "id": "mNNZRqrG74E9",
        "outputId": "86753b08-0ec8-46f7-ece2-56bb19b50740"
      },
      "execution_count": null,
      "outputs": [
        {
          "output_type": "stream",
          "name": "stdout",
          "text": [
            "Estado final usando segmentos:\n"
          ]
        },
        {
          "output_type": "execute_result",
          "data": {
            "text/plain": [
              "<IPython.core.display.Latex object>"
            ],
            "text/latex": "$$\\frac{\\sqrt{2}}{2} |0000\\rangle+\\frac{\\sqrt{2}}{2} |1000\\rangle$$"
          },
          "metadata": {},
          "execution_count": 69
        }
      ]
    },
    {
      "cell_type": "code",
      "source": [
        "print(\"Estado final usando el circuito completo:\")\n",
        "estado_final_completo.draw('latex')"
      ],
      "metadata": {
        "colab": {
          "base_uri": "https://localhost:8080/",
          "height": 58
        },
        "id": "jiLdOvns79CT",
        "outputId": "6fd40546-9b97-4fb1-d3ce-08ad1401a2ab"
      },
      "execution_count": null,
      "outputs": [
        {
          "output_type": "stream",
          "name": "stdout",
          "text": [
            "Estado final usando el circuito completo:\n"
          ]
        },
        {
          "output_type": "execute_result",
          "data": {
            "text/plain": [
              "<IPython.core.display.Latex object>"
            ],
            "text/latex": "$$\\frac{\\sqrt{2}}{2} |0000\\rangle+\\frac{\\sqrt{2}}{2} |1000\\rangle$$"
          },
          "metadata": {},
          "execution_count": 70
        }
      ]
    }
  ]
}