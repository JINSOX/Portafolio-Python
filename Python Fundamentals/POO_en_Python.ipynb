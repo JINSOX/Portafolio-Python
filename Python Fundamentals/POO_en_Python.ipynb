{
  "nbformat": 4,
  "nbformat_minor": 0,
  "metadata": {
    "colab": {
      "provenance": [],
      "toc_visible": true
    },
    "kernelspec": {
      "name": "python3",
      "display_name": "Python 3"
    },
    "language_info": {
      "name": "python"
    }
  },
  "cells": [
    {
      "cell_type": "markdown",
      "metadata": {
        "id": "megN3yMUiytT"
      },
      "source": [
        "#PROGRAMACIÓN ORIENTADA A OBJETOS (POO)\n"
      ]
    },
    {
      "cell_type": "markdown",
      "source": [
        "###Un primer ejemplo"
      ],
      "metadata": {
        "id": "YokJhxFORx7n"
      }
    },
    {
      "cell_type": "code",
      "execution_count": null,
      "metadata": {
        "id": "4uWTXrk4RuYW"
      },
      "outputs": [],
      "source": [
        "# ******************   IMPLEMENTACIÓN DE CLASES  ****************\n",
        "# -- Clase Rectangulo\n",
        "class Rectangulo:\n",
        "    # -- Método constructor\n",
        "    def __init__(self, pBase = 1, pAltura = 1):\n",
        "        # -- Declaración e inicialización de atributos\n",
        "        self.aBase = pBase\n",
        "        self.aAltura = pAltura\n",
        "    # -- Métodos de proceso\n",
        "    def Area(self):\n",
        "        return self.aBase * self.aAltura\n",
        "\n",
        "    def Perimetro(self):\n",
        "        return 2*self.aBase + 2*self.aAltura\n"
      ]
    },
    {
      "cell_type": "code",
      "source": [
        "# ******************   PROGRAMA PRINCIPAL  ****************\n",
        "# Crear objeto\n",
        "R1 = Rectangulo()\n",
        "print('Área = ',R1.Area(),' Perímetro = ', R1.Perimetro())\n",
        "\n",
        "# Crear otro objeto\n",
        "R2 = Rectangulo(20,10)\n",
        "print('Área = ',R2.Area(),' Perímetro = ', R2.Perimetro())\n"
      ],
      "metadata": {
        "colab": {
          "base_uri": "https://localhost:8080/"
        },
        "id": "bo1FqlLLSdz4",
        "outputId": "49c2fe25-d872-4dff-f19a-8a3ad9efb0fd"
      },
      "execution_count": null,
      "outputs": [
        {
          "output_type": "stream",
          "name": "stdout",
          "text": [
            "Área =  1  Perímetro =  4\n",
            "Área =  200  Perímetro =  60\n"
          ]
        }
      ]
    },
    {
      "cell_type": "markdown",
      "source": [
        "###Un segundo ejemplo"
      ],
      "metadata": {
        "id": "pK0C8C3pZH1V"
      }
    },
    {
      "cell_type": "code",
      "execution_count": null,
      "metadata": {
        "id": "zdn-RG1NZH1W"
      },
      "outputs": [],
      "source": [
        "# ******************   IMPLEMENTACIÓN DE CLASES  ****************\n",
        "class Persona:\n",
        "  # -- Método constructor\n",
        "  def __init__(self, IdPersona = \"\", Nombres = \"\", Direccion = \"\"):\n",
        "    # -- Declaración e inicialización de atributos\n",
        "    self.IdPersona = IdPersona\n",
        "    self.Nombres = Nombres\n",
        "    self.Direccion = Direccion\n",
        "  # -- Método especial __str__\n",
        "  def __str__(self):\n",
        "    return self.IdPersona\n",
        "  # -- Métodos de proceso\n",
        "  def Leer(self):\n",
        "    print('Ingresar los datos de una Persona')\n",
        "    self.IdPersona = input('Ingresar DNI: ')\n",
        "    self.Nombres = input('Ingresar Nombres: ')\n",
        "    self.Direccion = input('Ingresar Dirección: ')\n",
        "\n",
        "  def Mostrar(self):\n",
        "    print('Los datos de la Persona son')\n",
        "    print('DNI: ',self.IdPersona)\n",
        "    print('Nombres: ', self.Nombres)\n",
        "    print('Direccion: ', self.Direccion)\n"
      ]
    },
    {
      "cell_type": "code",
      "source": [
        "# ******************   PROGRAMA PRINCIPAL  ****************\n",
        "# -- Crear objeto\n",
        "P1 = Persona('23847232','Ana','Av. Cusco')\n",
        "# -- Mostrar objeto de manera genérica\n",
        "print('Información genérica del objeto')\n",
        "print(P1)\n",
        "print()\n",
        "# -- Mostrar todos los datos de la persona\n",
        "P1.Mostrar()\n",
        "\n",
        "# Crear otro objeto\n",
        "P2 = Persona()\n",
        "P2.Leer()\n",
        "P2.Mostrar()\n"
      ],
      "metadata": {
        "id": "LRFv8Ez8ZH1W"
      },
      "execution_count": null,
      "outputs": []
    },
    {
      "cell_type": "markdown",
      "source": [
        "##Herencia"
      ],
      "metadata": {
        "id": "-S9Tiw9camxT"
      }
    },
    {
      "cell_type": "markdown",
      "source": [
        "###Implementación de la clase ancestra"
      ],
      "metadata": {
        "id": "jzyNPQcDa_4Y"
      }
    },
    {
      "cell_type": "code",
      "execution_count": null,
      "metadata": {
        "id": "_vpuF0iRamxb"
      },
      "outputs": [],
      "source": [
        "class Persona:\n",
        "  # -- Método constructor\n",
        "  def __init__(self, IdPersona = \"\", Nombres = \"\", Direccion = \"\"):\n",
        "    # -- Declaración e inicialización de atributos\n",
        "    self.IdPersona = IdPersona\n",
        "    self.Nombres = Nombres\n",
        "    self.Direccion = Direccion\n",
        "  # -- Métodos de proceso\n",
        "  def Leer(self):\n",
        "    print('Ingresar los datos de una Persona')\n",
        "    self.IdPersona = input('Ingresar DNI: ')\n",
        "    self.Nombres = input('Ingresar Nombres: ')\n",
        "    self.Direccion = input('Ingresar Dirección: ')\n",
        "\n",
        "  def Mostrar(self):\n",
        "    print('Los datos de la Persona son')\n",
        "    print('DNI: ',self.IdPersona)\n",
        "    print('Nombres: ', self.Nombres)\n",
        "    print('Direccion: ', self.Direccion)\n"
      ]
    },
    {
      "cell_type": "markdown",
      "source": [
        "###Implementación de las clases descendientes"
      ],
      "metadata": {
        "id": "_ZQQ49ZgbcmK"
      }
    },
    {
      "cell_type": "code",
      "source": [
        "# -- Implementación de la clase Alumno como descendiente de la clase Persona\n",
        "class Alumno(Persona):\n",
        "  # -- Método constructor\n",
        "  def __init__(self, Codigo = \"\", EscuelaProf = \"\"):\n",
        "    # -- Declaración e inicialización de atributos adicionales\n",
        "    self.Codigo = Codigo\n",
        "    self.EscuelaProf = EscuelaProf\n",
        "\n",
        "  # -- Métodos de proceso\n",
        "  def Leer(self):\n",
        "    print('\\n')\n",
        "    print('Ingresar los datos de un alumno')\n",
        "    self.Codigo = input('Ingresar Codigo: ')\n",
        "    self.Nombres = input('Ingresar Nombres: ')\n",
        "    self.Direccion = input('Ingresar Dirección: ')\n",
        "    self.EscuelaProf = input('Escuela profesional: ')\n",
        "\n",
        "  def Mostrar(self):\n",
        "    print('\\n')\n",
        "    print('Los datos del alumno son')\n",
        "    print('Código: ',self.Codigo)\n",
        "    print('Nombres: ', self.Nombres)\n",
        "    print('Direccion: ', self.Direccion)\n",
        "    print('Escuela Profesional: ', self.EscuelaProf)\n"
      ],
      "metadata": {
        "id": "g8iNDHwFbiRk"
      },
      "execution_count": null,
      "outputs": []
    },
    {
      "cell_type": "code",
      "source": [
        "# -- Implementación de la clase Docente como descendiente de la clase Persona\n",
        "class Docente(Persona):\n",
        "  # -- Método constructor\n",
        "  def __init__(self, Codigo = \"\", DptoAcademico = \"\", Categoria = \"\"):\n",
        "    # -- Declaración e inicialización de atributos adicionales\n",
        "    self.Codigo = Codigo\n",
        "    self.DptoAcademico = DptoAcademico\n",
        "    self.Categoria = Categoria\n",
        "  # -- Métodos de proceso\n",
        "  def Leer(self):\n",
        "    print('\\n')\n",
        "    print('Ingresar los datos de un docente')\n",
        "    self.Codigo = input('Ingresar Codigo: ')\n",
        "    self.Nombres = input('Ingresar Nombres: ')\n",
        "    self.Direccion = input('Ingresar Dirección: ')\n",
        "    self.DptoAcademico = input('Dpto. Académico: ')\n",
        "    self.Categoria = input('Categoría: ')\n",
        "\n",
        "  def Mostrar(self):\n",
        "    print('\\n')\n",
        "    print('Los datos del docente son')\n",
        "    print('Código: ',self.Codigo)\n",
        "    print('Nombres: ', self.Nombres)\n",
        "    print('Direccion: ', self.Direccion)\n",
        "    print('Categoria: ', self.Categoria)\n"
      ],
      "metadata": {
        "id": "d1dyYzPEcUlr"
      },
      "execution_count": null,
      "outputs": []
    },
    {
      "cell_type": "markdown",
      "source": [
        "###Aplicación de Herencia"
      ],
      "metadata": {
        "id": "lLhOtNkfdD6w"
      }
    },
    {
      "cell_type": "code",
      "source": [
        "# ******************   PROGRAMA PRINCIPAL DE HERENCIA   ****************\n",
        "# Probar objeto persona\n",
        "P = Persona()\n",
        "P.Leer()\n",
        "P.Mostrar()\n",
        "\n",
        "# Probar objeto alumno\n",
        "A = Alumno()\n",
        "A.Leer()\n",
        "A.Mostrar()\n",
        "\n",
        "# Probar objeto docente\n",
        "D = Docente()\n",
        "D.Leer()\n",
        "D.Mostrar()"
      ],
      "metadata": {
        "colab": {
          "base_uri": "https://localhost:8080/"
        },
        "id": "1IgcG9Jtamxb",
        "outputId": "b4b06822-9b7a-47db-a931-ca00ebaa34be"
      },
      "execution_count": null,
      "outputs": [
        {
          "output_type": "stream",
          "name": "stdout",
          "text": [
            "Ingresar los datos de una Persona\n",
            "Ingresar DNI: 23445566\n",
            "Ingresar Nombres: Ana\n",
            "Ingresar Dirección: Jr. Paruro\n",
            "Los datos de la Persona son\n",
            "DNI:  23445566\n",
            "Nombres:  Ana\n",
            "Direccion:  Jr. Paruro\n",
            "\n",
            "\n",
            "Ingresar los datos de un alumno\n",
            "Ingresar Codigo: 200456\n",
            "Ingresar Nombres: Paco\n",
            "Ingresar Dirección: Av. Cusco\n",
            "Escuela profesional: IN\n",
            "\n",
            "\n",
            "Los datos del alumno son\n",
            "Código:  200456\n",
            "Nombres:  Paco\n",
            "Direccion:  Av. Cusco\n",
            "Escuela Profesional:  IN\n",
            "\n",
            "\n",
            "Ingresar los datos de un docente\n",
            "Ingresar Codigo: 124\n",
            "Ingresar Nombres: Luis\n",
            "Ingresar Dirección: Av. Perú\n",
            "Dpto. Académico: IF\n",
            "Categoría: Principal\n",
            "\n",
            "\n",
            "Los datos del docente son\n",
            "Código:  124\n",
            "Nombres:  Luis\n",
            "Direccion:  Av. Perú\n",
            "Categoria:  Principal\n"
          ]
        }
      ]
    },
    {
      "cell_type": "markdown",
      "source": [
        "##Polimorfismo"
      ],
      "metadata": {
        "id": "wkv5xF6FdMfy"
      }
    },
    {
      "cell_type": "markdown",
      "source": [
        "###Implementación de un método Polimórfico"
      ],
      "metadata": {
        "id": "klXc1IJBdR80"
      }
    },
    {
      "cell_type": "code",
      "source": [
        "# -- Método polimórfico que invoca al método mostrar de cualquier objeto,\n",
        "#    siempre y cuando el objeto tenga el método Mostrar.\n",
        "#    Este método tiene un comportamiento plomórfico génerico\n",
        "def MostrarDatos(Objeto):\n",
        "    Objeto.Mostrar()\n"
      ],
      "metadata": {
        "id": "3GjOoxbZdYTd"
      },
      "execution_count": null,
      "outputs": []
    },
    {
      "cell_type": "markdown",
      "source": [
        "###Aplicación de polimorfismo"
      ],
      "metadata": {
        "id": "2Tmyzll3d0yf"
      }
    },
    {
      "cell_type": "code",
      "source": [
        "# Crear objeto Alumno\n",
        "A = Alumno()\n",
        "A.Leer()\n",
        "MostrarDatos(A)"
      ],
      "metadata": {
        "id": "Wvxj4vSsd46X"
      },
      "execution_count": null,
      "outputs": []
    },
    {
      "cell_type": "code",
      "source": [
        "# Crear objeto Docente\n",
        "D = Docente()\n",
        "D.Leer()\n",
        "MostrarDatos(D)"
      ],
      "metadata": {
        "id": "fzbs2Z24e9pY"
      },
      "execution_count": null,
      "outputs": []
    },
    {
      "cell_type": "markdown",
      "source": [
        "###Polimorfismo genérico"
      ],
      "metadata": {
        "id": "qoAFbWI9fVbB"
      }
    },
    {
      "cell_type": "code",
      "source": [
        "class Libro:\n",
        "  # -- Método constructor\n",
        "  def __init__(self, IdLibro = \"\", Titulo = \"\", Autor = \"\"):\n",
        "    # -- Declaración e inicialización de atributos\n",
        "    self.IdLibro = IdLibro\n",
        "    self.Titulo = Titulo\n",
        "    self.Autor = Autor\n",
        "  # -- Métodos de proceso\n",
        "  def Leer(self):\n",
        "    print('Ingresar los datos de un Libro')\n",
        "    self.IdLibro = input('Ingresar Código: ')\n",
        "    self.Titulo = input('Ingresar Título: ')\n",
        "    self.Autor = input('Ingresar Autor: ')\n",
        "\n",
        "  def Mostrar(self):\n",
        "    print('\\nLos datos del Libro son')\n",
        "    print('Código: ',self.IdLibro)\n",
        "    print('Título: ', self.Titulo)\n",
        "    print('Autor: ', self.Autor)\n"
      ],
      "metadata": {
        "id": "D0BLutLIi54j"
      },
      "execution_count": null,
      "outputs": []
    },
    {
      "cell_type": "markdown",
      "source": [
        "Aplicación de polimorfismo genérico"
      ],
      "metadata": {
        "id": "hn6R3sOAjYRj"
      }
    },
    {
      "cell_type": "code",
      "source": [
        "# -- Crear objeto Libro\n",
        "L = Libro()\n",
        "# -- Leer datos de libro mediante el método leer del objeto libro\n",
        "L.Leer()\n",
        "# -- Llamar al método MostrarDatos que tiene un comportamiento polimórfico genérico\n",
        "MostrarDatos(L)\n"
      ],
      "metadata": {
        "colab": {
          "base_uri": "https://localhost:8080/"
        },
        "id": "VlLoQS6Vjdfa",
        "outputId": "268b6057-c300-4ae9-cfad-4ea81f22b898"
      },
      "execution_count": null,
      "outputs": [
        {
          "output_type": "stream",
          "name": "stdout",
          "text": [
            "Ingresar los datos de un Libro\n",
            "Ingresar Código: L056\n",
            "Ingresar Título: POO en Python\n",
            "Ingresar Autor: Grupo Liebre\n",
            "\n",
            "Los datos del Libro son\n",
            "Código:  L056\n",
            "Título:  POO en Python\n",
            "Autor:  Grupo Liebre\n"
          ]
        }
      ]
    }
  ]
}