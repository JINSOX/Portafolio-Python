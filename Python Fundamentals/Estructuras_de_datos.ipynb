{
  "nbformat": 4,
  "nbformat_minor": 0,
  "metadata": {
    "colab": {
      "provenance": []
    },
    "kernelspec": {
      "name": "python3",
      "display_name": "Python 3"
    },
    "language_info": {
      "name": "python"
    }
  },
  "cells": [
    {
      "cell_type": "markdown",
      "metadata": {
        "id": "megN3yMUiytT"
      },
      "source": [
        "#ESTRUCTURAS DE DATOS\n"
      ]
    },
    {
      "cell_type": "markdown",
      "metadata": {
        "id": "iI4TraGEi6rX"
      },
      "source": [
        "##Conjuntos\n"
      ]
    },
    {
      "cell_type": "markdown",
      "metadata": {
        "id": "uiQSRsp9jnrK"
      },
      "source": [
        "###Definición\n"
      ]
    },
    {
      "cell_type": "markdown",
      "metadata": {
        "id": "eGuM72nWj9cL"
      },
      "source": [
        "Es una estructura de datos que representa una colección de diferentes valores sin ningún orden, ni valores duplicados; con la misma semántica de las matemáticas.\n",
        "\n",
        "Se representa mediante una secuencia de elementos delimitadas por llaves. Ejemplo:\n",
        "\n",
        "C = {'CUSCO', 'TACNA', 'PUNO', 'MOQUEGUA'}"
      ]
    },
    {
      "cell_type": "markdown",
      "source": [
        "###Operaciones básicas"
      ],
      "metadata": {
        "id": "__9gLwfC1C0C"
      }
    },
    {
      "cell_type": "markdown",
      "metadata": {
        "id": "icyvF8hrkIm2"
      },
      "source": [
        "Definir conjuntos"
      ]
    },
    {
      "cell_type": "code",
      "metadata": {
        "id": "wv7hkxuokMSG",
        "colab": {
          "base_uri": "https://localhost:8080/"
        },
        "outputId": "3a962688-48b7-477e-d36b-978c0a563037"
      },
      "source": [
        "A = {1,2,3,4,5,6,7,8,9,10}\n",
        "B = {2,4,6,8,10,12,14,16,18,20}\n",
        "print(A)\n",
        "print(B)"
      ],
      "execution_count": null,
      "outputs": [
        {
          "output_type": "stream",
          "name": "stdout",
          "text": [
            "{1, 2, 3, 4, 5, 6, 7, 8, 9, 10}\n",
            "{2, 4, 6, 8, 10, 12, 14, 16, 18, 20}\n"
          ]
        }
      ]
    },
    {
      "cell_type": "markdown",
      "metadata": {
        "id": "CSYx2_DIkhcP"
      },
      "source": [
        "Unión de conjuntos"
      ]
    },
    {
      "cell_type": "code",
      "metadata": {
        "colab": {
          "base_uri": "https://localhost:8080/"
        },
        "id": "MNsikajXkj0g",
        "outputId": "b0a6eed7-63ef-43ae-da99-4072c58b7059"
      },
      "source": [
        "# Unión de conjuntos (|)\n",
        "C = A | B\n",
        "print('Unión: ',C)\n",
        "C1 = A.union(B)\n",
        "print('Unión: ',C1)"
      ],
      "execution_count": null,
      "outputs": [
        {
          "output_type": "stream",
          "name": "stdout",
          "text": [
            "Unión:  {1, 2, 3, 4, 5, 6, 7, 8, 9, 10, 12, 14, 16, 18, 20}\n",
            "Unión:  {1, 2, 3, 4, 5, 6, 7, 8, 9, 10, 12, 14, 16, 18, 20}\n"
          ]
        }
      ]
    },
    {
      "cell_type": "code",
      "source": [
        "# Intersección de conjuntos (&)\n",
        "D = A & B\n",
        "print('Intersección: ',D)\n",
        "D1 = A.intersection(B)\n",
        "print('Intersección: ',D1)"
      ],
      "metadata": {
        "colab": {
          "base_uri": "https://localhost:8080/"
        },
        "id": "4fgx_0RKLDBG",
        "outputId": "904b4f82-e2ac-4a9d-b70a-adda2f9ba858"
      },
      "execution_count": null,
      "outputs": [
        {
          "output_type": "stream",
          "name": "stdout",
          "text": [
            "Intersección:  {2, 4, 6, 8, 10}\n",
            "Intersección:  {2, 4, 6, 8, 10}\n"
          ]
        }
      ]
    },
    {
      "cell_type": "code",
      "source": [
        "# Diferencia de conjuntos (-)"
      ],
      "metadata": {
        "id": "W-HhC2idLv1p"
      },
      "execution_count": null,
      "outputs": []
    },
    {
      "cell_type": "code",
      "source": [
        "# Diferencia simétrica de conjuntos (^)"
      ],
      "metadata": {
        "id": "hU6iwxDHL01v"
      },
      "execution_count": null,
      "outputs": []
    },
    {
      "cell_type": "markdown",
      "metadata": {
        "id": "aJ6GIFb4vjAp"
      },
      "source": [
        "Leer datos de conjuntos"
      ]
    },
    {
      "cell_type": "markdown",
      "metadata": {
        "id": "_UNKl2-Tvm0i"
      },
      "source": [
        "Escribir un módulo que lea un conjunto de nombres de personas."
      ]
    },
    {
      "cell_type": "code",
      "metadata": {
        "id": "lDbtrHLLzHPH"
      },
      "source": [
        "# ***************    MÓDULOS *********************\n",
        "def LeerConjunto(N):\n",
        "  # -- Crear conjunto vacío\n",
        "  C = set()\n",
        "  # -- Leer N elementos\n",
        "  for K in range(1, N+1):\n",
        "    E = input('Ingrese el nombre '+str(K)+': ')\n",
        "    #C.add(E)\n",
        "    C = C | {E}\n",
        "  # -- Devolver conjunto\n",
        "  return C\n",
        "\n",
        "# ************** PROGRAMA PRINCIPAL *****************\n",
        "# -- Leer un conjunto de nombres\n",
        "Nombres = LeerConjunto(4)\n",
        "print(Nombres)\n"
      ],
      "execution_count": null,
      "outputs": []
    },
    {
      "cell_type": "markdown",
      "metadata": {
        "id": "8Gu5J_FtjDh1"
      },
      "source": [
        "##Listas\n"
      ]
    },
    {
      "cell_type": "markdown",
      "metadata": {
        "id": "PzVom9jvn0hz"
      },
      "source": [
        "###Definición\n"
      ]
    },
    {
      "cell_type": "markdown",
      "metadata": {
        "id": "8-Eav1bCoGtj"
      },
      "source": [
        "Es una estructura de datos que representa una colección de valores de diferentes tipos.\n",
        "\n",
        "Se representa mediante una secuencia de elementos delimitadas por corchetes. Ejemplo:\n",
        "\n",
        "Lista = ['CUSCO', 'TACNA', 'PUNO', 'MOQUEGUA']\n"
      ]
    },
    {
      "cell_type": "markdown",
      "source": [
        "###Operaciones básicas"
      ],
      "metadata": {
        "id": "Etn0AUpF1_m5"
      }
    },
    {
      "cell_type": "code",
      "metadata": {
        "colab": {
          "base_uri": "https://localhost:8080/"
        },
        "id": "dC3M-nByoMRk",
        "outputId": "0914ed28-4d8e-4fa4-b089-3c9f37c920ee"
      },
      "source": [
        "# -- Lista homogénea\n",
        "L = [1, 2, 3, 4, 5, 5]\n",
        "print(L)\n"
      ],
      "execution_count": null,
      "outputs": [
        {
          "output_type": "stream",
          "name": "stdout",
          "text": [
            "[1, 2, 3, 4, 5, 5]\n"
          ]
        }
      ]
    },
    {
      "cell_type": "code",
      "metadata": {
        "colab": {
          "base_uri": "https://localhost:8080/"
        },
        "id": "9ejhsHcSomLT",
        "outputId": "d5633719-73b9-4f1e-f6ba-b06a5012cf63"
      },
      "source": [
        "# -- Lista heterogénea\n",
        "L1 = [1, 'ANA', ['Cusco','Puno','ICA'], {1, 2, 3, 4, 5}, {2, 4, 6, 8, 10}]\n",
        "# -- Mostrar elementos de la lista\n",
        "'''\n",
        "for e in L1:\n",
        "  print(e)\n",
        "'''\n",
        "for i in range(0, len(L1)):\n",
        "  print(L1[i])\n",
        "\n",
        "A = L1[3]\n",
        "B = L1[4]\n",
        "C = A & B\n",
        "print(C)\n"
      ],
      "execution_count": null,
      "outputs": [
        {
          "output_type": "stream",
          "name": "stdout",
          "text": [
            "1\n",
            "ANA\n",
            "['Cusco', 'Puno', 'ICA']\n",
            "{1, 2, 3, 4, 5}\n",
            "{2, 4, 6, 8, 10}\n",
            "{2, 4}\n"
          ]
        }
      ]
    },
    {
      "cell_type": "markdown",
      "metadata": {
        "id": "D9j92aIXq0oQ"
      },
      "source": [
        "Conversión de estructuras de datos"
      ]
    },
    {
      "cell_type": "code",
      "metadata": {
        "colab": {
          "base_uri": "https://localhost:8080/"
        },
        "id": "R92XPD6Uq5Nz",
        "outputId": "bd1b8dcf-51b8-48ab-f18f-94251867eb79"
      },
      "source": [
        "L2 = [1, 2, 3, 2, 4, 2, 3, 5]\n",
        "print(L2)\n",
        "C1 = set(L2)\n",
        "print(C1)\n",
        "L3 = list(C1)\n",
        "print(L3)"
      ],
      "execution_count": null,
      "outputs": [
        {
          "output_type": "stream",
          "name": "stdout",
          "text": [
            "[1, 2, 3, 2, 4, 2, 3, 5]\n",
            "{1, 2, 3, 4, 5}\n",
            "[1, 2, 3, 4, 5]\n"
          ]
        }
      ]
    },
    {
      "cell_type": "markdown",
      "metadata": {
        "id": "jenGdCxPsgZ9"
      },
      "source": [
        "Leer y escribir elementos de una lista"
      ]
    },
    {
      "cell_type": "code",
      "metadata": {
        "id": "OVBT6vnksjbV"
      },
      "source": [
        "# **********************  MÓDULOS *********************\n",
        "def LeerLista(N):\n",
        "  # Inicializar una lista vacía\n",
        "  L = []\n",
        "  # Leer elementos de la lista\n",
        "  for K in range(1, N+1):\n",
        "    L = L + [input('Ingrese nombre '+str(K)+': ')]\n",
        "  # Retornar valor\n",
        "  return L\n",
        "\n",
        "def EscribirLista(L):\n",
        "  # Escribir elementos de la lista\n",
        "  '''\n",
        "  for K in range(0, len(L)):\n",
        "    print(L[K])\n",
        "  '''\n",
        "  for E in L:\n",
        "    print(E)\n",
        "\n",
        "# **************** PROGRAMA PRINCIPAL  *******************\n",
        "N = int(input('Ingrese el número de nombres: '))\n",
        "# -- Leer elementos de la lista\n",
        "LNombres = LeerLista(N)\n",
        "# -- Escribir los elementos de la lista\n",
        "EscribirLista(LNombres)"
      ],
      "execution_count": null,
      "outputs": []
    },
    {
      "cell_type": "markdown",
      "source": [
        "###Sub listas"
      ],
      "metadata": {
        "id": "kR0jWyQqpbsa"
      }
    },
    {
      "cell_type": "markdown",
      "source": [
        "Es una lista con parte o todos los elementos de otra lista.\n",
        "\n",
        "Para generar sub listas se utiliza la nomenclatura de rangos.\n",
        "\n",
        "Sintaxis:\n",
        "\n",
        "  SubLista = Lista[índice inicial: índice final: incremento]"
      ],
      "metadata": {
        "id": "G1gBGu0majNd"
      }
    },
    {
      "cell_type": "code",
      "source": [
        "# -- Dada la siguiente lista\n",
        "L = [1, 2, 3, 4, 5, 6, 7, 8, 9, 10]\n",
        "# -- Sub lista con los 5 primeros elementos\n",
        "L1 = L[0:5:1]\n",
        "print(L1)\n",
        "# -- Los parámetros son opcionales. En este caso, el índice incial va desde cero y el incremento es 1\n",
        "L2 = L[:5]\n",
        "print(L2)\n",
        "# -- En este caso, la sub lista toma los elementos desde la posición 5 hasta el final\n",
        "L3 = L[5:]\n",
        "print(L3)\n",
        "# -- Los índices negativos se consideran desde el final hacia la izquierda\n",
        "#    En este caso, la sub lista toma los 3 últimos valores\n",
        "L4 = L[-3:]\n",
        "print(L4)\n",
        "L5 = L[:-3]\n",
        "print(L5)\n",
        "# -- La sub lista considera los elementos impares\n",
        "L6 = L[0::2]\n",
        "print(L6)"
      ],
      "metadata": {
        "colab": {
          "base_uri": "https://localhost:8080/"
        },
        "id": "GelCiuVZph-u",
        "outputId": "932383e6-b7a7-412c-e82b-f6abfdb96359"
      },
      "execution_count": null,
      "outputs": [
        {
          "output_type": "stream",
          "name": "stdout",
          "text": [
            "[1, 2, 3, 4, 5]\n",
            "[1, 2, 3, 4, 5]\n",
            "[6, 7, 8, 9, 10]\n",
            "[8, 9, 10]\n",
            "[1, 2, 3, 4, 5, 6, 7]\n",
            "[1, 3, 5, 7, 9]\n"
          ]
        }
      ]
    },
    {
      "cell_type": "code",
      "source": [
        "# -- Dada la siguiente lista\n",
        "L1 = [1, 2, 3, 4, 5, 6, 7, 8, 9, 10]\n",
        "# -- Asigna la misma lista a otra variable. Tanto L1 como L2 manipulan la misma lista\n",
        "L2 = L1\n",
        "# -- Crea o genera una copia (clon) de la lista original\n",
        "LC = L1[:]\n",
        "# -- Remueve el elemento de valor 5 de la lista gestionada por L1 y L2\n",
        "L2.remove(5)\n",
        "# -- Muestra los elementos de la lista sin el elemento 5 (Ambos L1 y L2)\n",
        "print(L1)\n",
        "print(L2)\n",
        "# -- Muestra los elemento de la lista copiada antes de eliminar ele elemento de valor 5\n",
        "print(LC)"
      ],
      "metadata": {
        "colab": {
          "base_uri": "https://localhost:8080/"
        },
        "id": "THGxjKypw7cq",
        "outputId": "fbd76278-9064-4d00-d5d2-1488ff431157"
      },
      "execution_count": null,
      "outputs": [
        {
          "output_type": "stream",
          "name": "stdout",
          "text": [
            "[1, 2, 3, 4, 6, 7, 8, 9, 10]\n",
            "[1, 2, 3, 4, 6, 7, 8, 9, 10]\n",
            "[1, 2, 3, 4, 5, 6, 7, 8, 9, 10]\n"
          ]
        }
      ]
    },
    {
      "cell_type": "markdown",
      "source": [
        "Matrices"
      ],
      "metadata": {
        "id": "caVbYvRgIoa_"
      }
    },
    {
      "cell_type": "code",
      "source": [
        "m1 = [[1, 0, 2], [2, 1, 1], [0, 3, 2]]\n",
        "m2 = [[0, 0, 4], [3, 2, 2], [1, 2, 3]]\n",
        "ms = []\n",
        "for f in range(0,len(m1)):\n",
        "  sf = []\n",
        "  for c in range(0, len(m2)):\n",
        "    sf = sf + [m1[f][c] + m2[f][c]]\n",
        "  ms = ms + [sf]\n",
        "print(ms)\n"
      ],
      "metadata": {
        "colab": {
          "base_uri": "https://localhost:8080/"
        },
        "id": "POEIJAnIIq4f",
        "outputId": "a6966266-d2f5-4496-858b-6021f239d05f"
      },
      "execution_count": null,
      "outputs": [
        {
          "output_type": "stream",
          "name": "stdout",
          "text": [
            "[[1, 0, 6], [5, 3, 3], [1, 5, 5]]\n"
          ]
        }
      ]
    },
    {
      "cell_type": "markdown",
      "source": [
        "Mostrar la relación de las Escuelas Profesionales de Ingeniería"
      ],
      "metadata": {
        "id": "I2ss0vcSBi1Z"
      }
    },
    {
      "cell_type": "code",
      "metadata": {
        "id": "f6pZG1huzYJX",
        "colab": {
          "base_uri": "https://localhost:8080/"
        },
        "outputId": "261af34c-d8b9-43e1-c210-6328502bdd08"
      },
      "source": [
        "LEscuelas = [['IN','INGENIERÍA INFORMATICA'], ['CO','CONTABILIDAD'], ['MH', 'MEDICINA HUMANA']]\n",
        "LEscuelas += [['IL','INGENIERÍA ELECTRÓNICA'], ['MC','Ingeniería Mecánica'], ['IQ','Ingeniería Química']]\n",
        "LEscuelas += [['ML','INGENIERÍA METALÚRGICA']]\n",
        "for e in LEscuelas:\n",
        "  if e[1].upper().startswith('ING'):\n",
        "    print(e)"
      ],
      "execution_count": null,
      "outputs": [
        {
          "output_type": "stream",
          "name": "stdout",
          "text": [
            "['IN', 'INGENIERÍA INFORMATICA']\n",
            "['IL', 'INGENIERÍA ELECTRÓNICA']\n",
            "['MC', 'Ingeniería Mecánica']\n",
            "['IQ', 'Ingeniería Química']\n",
            "['ML', 'INGENIERÍA METALÚRGICA']\n"
          ]
        }
      ]
    },
    {
      "cell_type": "markdown",
      "metadata": {
        "id": "an_VgWMwlzpx"
      },
      "source": [
        "Se tiene la relación de códigos y sus respectivos promedios finales de los N estudiantes de la asignatura de Abstracción de datos y objetos. Escribir una aplicación modular que muestre los aprobados, desaprobados y reprobados; además el número de cada grupo."
      ]
    },
    {
      "cell_type": "code",
      "source": [
        "# ALGORITMO 1\n",
        "# ****************************  MÓDULOS  ***************************\n",
        "# -- Módulo para leer N notas\n",
        "def LeerNotas(N):\n",
        "  print()\n",
        "  print('INGRESO DE CÓDIGOS Y PROMEDIOS FINALES')\n",
        "  print('======================================')\n",
        "  # -- Incializar lista\n",
        "  L = []\n",
        "  # -- Leer elementos de la lista\n",
        "  for K in range(1, N+1):\n",
        "    Codigo = input('Código '+str(K)+': ')\n",
        "    Nota = int(input('Nota '+str(K)+': '))\n",
        "    L += [[Codigo, Nota]]\n",
        "  # -- Devolver lista\n",
        "  return L\n",
        "\n",
        "# -- Módulo para procesar aprobados\n",
        "def ProcesarAprobados(LNotas):\n",
        "  # -- Poner título\n",
        "  print()\n",
        "  print('PROCESAR APROBADOS')\n",
        "  print('==================')\n",
        "  # -- Recuperar aprobados\n",
        "  LA = [a for a in LNotas if a[1] >= 14]\n",
        "  # -- Mostrar aprobados\n",
        "  print(LA)\n",
        "  print('Número de aprobados: ',len(LA))\n",
        "\n",
        "# -- Módulo para procesar desaprobados\n",
        "def ProcesarDesaprobados(LNotas):\n",
        "  # -- Poner título\n",
        "  print()\n",
        "  print('PROCESAR DESAPROBADOS')\n",
        "  print('=====================')\n",
        "  # -- Recuperar desaprobados\n",
        "  LD = [a for a in LNotas if 9 <= a[1] < 14]\n",
        "  # -- Mostrar desaprobados\n",
        "  print(LD)\n",
        "  print('Número de desaprobados: ',len(LD))\n",
        "\n",
        "# -- Módulo para procesar reprobados\n",
        "def ProcesarReprobados(LNotas):\n",
        "  # -- Poner título\n",
        "  print()\n",
        "  print('PROCESAR REPROBADOS')\n",
        "  print('===================')\n",
        "  # -- Recuperar reprobados\n",
        "  LR = [a for a in LNotas if a[1] < 9]\n",
        "  # -- Mostrar desaprobados\n",
        "  print(LR)\n",
        "  print('Número de reprobados: ',len(LR))\n",
        "\n",
        "# ********************* PROGRAMA PRINCIPAL  ************************\n",
        "# -- Leer número de códigos y promedios finales\n",
        "N = int(input('Ingrese número de promedios finales: '))\n",
        "# -- Leer los código y promedios finales\n",
        "LNotas = LeerNotas(N)\n",
        "# -- Mostrar número de aprobados\n",
        "ProcesarAprobados(LNotas)\n",
        "# -- Mostrar número de desaprobados\n",
        "ProcesarDesaprobados(LNotas)\n",
        "# -- Mostrar número de reprobados\n",
        "ProcesarReprobados(LNotas)\n",
        "\n",
        "\n"
      ],
      "metadata": {
        "id": "7Il9rxKbsxpX",
        "colab": {
          "base_uri": "https://localhost:8080/"
        },
        "outputId": "1c01a387-4afb-4747-de54-66d44951f272"
      },
      "execution_count": null,
      "outputs": [
        {
          "output_type": "stream",
          "name": "stdout",
          "text": [
            "Ingrese número de promedios finales: 5\n",
            "\n",
            "INGRESO DE CÓDIGOS Y PROMEDIOS FINALES\n",
            "======================================\n",
            "Código 1: 134512\n",
            "Nota 1: 15\n",
            "Código 2: 3\n",
            "Nota 2: 16\n",
            "Código 3: 13\n",
            "Nota 3: 8\n",
            "Código 4: 12\n",
            "Nota 4: 10\n",
            "Código 5: 134512\n",
            "Nota 5: 15\n",
            "\n",
            "PROCESAR APROBADOS\n",
            "==================\n",
            "[['134512', 15], ['3', 16], ['134512', 15]]\n",
            "Número de aprobados:  3\n",
            "\n",
            "PROCESAR DESAPROBADOS\n",
            "=====================\n",
            "[['12', 10]]\n",
            "Número de desaprobados:  1\n",
            "\n",
            "PROCESAR REPROBADOS\n",
            "===================\n",
            "[['13', 8]]\n",
            "Número de reprobados:  1\n"
          ]
        }
      ]
    },
    {
      "cell_type": "code",
      "source": [
        "# ALGORITMO 2\n",
        "# ****************************  MÓDULOS  ***************************\n",
        "\n",
        "# -- Módulo para leer N notas\n",
        "def LeerNotas(N):\n",
        "  print()\n",
        "  print('INGRESO DE CÓDIGOS Y PROMEDIOS FINALES')\n",
        "  print('======================================')\n",
        "  # -- Incializar lista\n",
        "  L = []\n",
        "  # -- Leer elementos de la lista\n",
        "  for K in range(1, N+1):\n",
        "    Codigo = input('Código '+str(K)+': ')\n",
        "    Nota = int(input('Nota '+str(K)+': '))\n",
        "    L += [[Codigo, Nota]]\n",
        "  # -- Devolver lista\n",
        "  return L\n",
        "\n",
        "# -- Módulo para procesar datos\n",
        "def Procesar(Rotulo, L, Funcion):\n",
        "  # -- Poner título\n",
        "  print()\n",
        "  print('PROCESAR ',Rotulo)\n",
        "  print('===================')\n",
        "  # -- Procesar datos de la lista\n",
        "  LR = [a for a in L if Funcion(a)]\n",
        "  # -- Mostrar resultados\n",
        "  print(LR)\n",
        "  print('NÚMERO DE ',Rotulo,': ',len(LR))\n",
        "\n",
        "# ********************* PROGRAMA PRINCIPAL  ************************\n",
        "# -- Leer número de códigos y promedios finales\n",
        "N = int(input('Ingrese número de estudiantes: '))\n",
        "# -- Leer los código y promedios finales\n",
        "LNotas = LeerNotas(N)\n",
        "# -- Mostrar número de aprobados\n",
        "Procesar('APROBADOS', LNotas, lambda e : e[1] >= 14)\n",
        "# -- Mostrar número de desaprobados\n",
        "Procesar('DESAPROBADOS', LNotas, lambda e : 9 <= e[1] < 14)\n",
        "# -- Mostrar número de reprobados\n",
        "Procesar('REPROBADOS', LNotas, lambda e : e[1] < 9)\n"
      ],
      "metadata": {
        "id": "p8dd6DH3pChh",
        "colab": {
          "base_uri": "https://localhost:8080/"
        },
        "outputId": "52915dea-2123-4082-b0b9-0a8673c300e1"
      },
      "execution_count": null,
      "outputs": [
        {
          "output_type": "stream",
          "name": "stdout",
          "text": [
            "Ingrese número de estudiantes: 3\n",
            "\n",
            "INGRESO DE CÓDIGOS Y PROMEDIOS FINALES\n",
            "======================================\n",
            "Código 1: 192535\n",
            "Nota 1: 15\n",
            "Código 2: 193642\n",
            "Nota 2: 9\n",
            "Código 3: 197845\n",
            "Nota 3: 13\n",
            "\n",
            "PROCESAR  APROBADOS\n",
            "===================\n",
            "[['192535', 15]]\n",
            "NÚMERO DE  APROBADOS :  1\n",
            "\n",
            "PROCESAR  DESAPROBADOS\n",
            "===================\n",
            "[['193642', 9], ['197845', 13]]\n",
            "NÚMERO DE  DESAPROBADOS :  2\n",
            "\n",
            "PROCESAR  REPROBADOS\n",
            "===================\n",
            "[]\n",
            "NÚMERO DE  REPROBADOS :  0\n"
          ]
        }
      ]
    },
    {
      "cell_type": "markdown",
      "source": [
        "Se tiene la relación de códigos y sus respectivos promedios finales de los N estudiantes de la asignatura de Abstracción de datos y objetos. Escribir una aplicación modular que muestre algunas estadísticas sobre el rendimiento del grupo. Por ejemplo, la nota más alta, la nota más baja, promedio total de la clase, número y promedio de los alumnos aprobados, etc."
      ],
      "metadata": {
        "id": "347gHjr7ywCb"
      }
    },
    {
      "cell_type": "code",
      "source": [
        "# Estadísticas de notas de una asignatura\n",
        "# **************************  MÓDULOS ************************\n",
        "def Estadisticas(L):\n",
        "  # -- Separar las notas en otra lista\n",
        "  LN = [e[1] for e in L]\n",
        "  # -- Determinar la nota más alta\n",
        "  print('La nota más alta es: ', max(LN))\n",
        "  # -- Determinar la nota más baja\n",
        "  print('La nota más baja es: ', min(LN))\n",
        "  # -- Determinar el promedio total de la clase\n",
        "  print('El promedio de la clase es: ', sum(LN)/len(LN))\n",
        "  # -- Número y promedio de los alumnos aprobados\n",
        "  LA = [n for n in LN if n >= 14]\n",
        "  print('Número de aprobados: ', len(LA), ' Promedio de aprobados: ', sum(LA)/len(LA))\n",
        "\n",
        "\n",
        "\n",
        "\n",
        "# *************************  PROGRAMA PRINCIPAL  *******************\n",
        "L = [['210469',19], ['200678',12], ['210698',10], ['180622',15], ['200116',7], ['190235',18], ['200912',16], ['190556',5], ['210435',13], ['170882',20]]\n",
        "Estadisticas(L)\n",
        "\n"
      ],
      "metadata": {
        "id": "uFpSd6R2zQHf",
        "colab": {
          "base_uri": "https://localhost:8080/"
        },
        "outputId": "9e5aa7f4-50eb-40c5-e8c5-d104117152a4"
      },
      "execution_count": null,
      "outputs": [
        {
          "output_type": "stream",
          "name": "stdout",
          "text": [
            "La nota más alta es:  20\n",
            "La nota más baja es:  5\n",
            "El promedio de la clase es:  13.5\n",
            "Número de aprobados:  5  Promedio de aprobados:  17.6\n"
          ]
        }
      ]
    },
    {
      "cell_type": "markdown",
      "source": [
        "##Tuplas"
      ],
      "metadata": {
        "id": "7P0qRt9J1w4r"
      }
    },
    {
      "cell_type": "markdown",
      "source": [
        "###Definición"
      ],
      "metadata": {
        "id": "rMpmI-6ggm43"
      }
    },
    {
      "cell_type": "markdown",
      "source": [
        "Una tupla es una secuencia de elementos del mismo o diferente tipo. Su principal característica es que son tipo de secuencia inmutable. Esto quiere decir que una tupla no puede ser modificada (no se pueden añadir ni eliminar elementos a una tupla)."
      ],
      "metadata": {
        "id": "8MZLt3TrGtt9"
      }
    },
    {
      "cell_type": "markdown",
      "source": [
        "###Operaciones básicas"
      ],
      "metadata": {
        "id": "KrIXHyCDgr69"
      }
    },
    {
      "cell_type": "markdown",
      "source": [
        "Para crear una tupla en Python simplemente hay que definir una secuencia de elementos separados por comas, de\n",
        "limitados o no por paréntesis."
      ],
      "metadata": {
        "id": "vBUYINgdJwNg"
      }
    },
    {
      "cell_type": "code",
      "source": [
        "# -- Definir una Tupla homogénea de valores numéricos\n",
        "T1 = 1, 2, 3, 4, 5\n",
        "# -- Definir una Tupla heterogénea, con los datos de un trabajador de una empresa\n",
        "T2 = ('9715','PAZ GUERRA ANGEL','CAJERO', (4, 7, 2004), 2100.00)\n",
        "# -- Mostrar tuplas\n",
        "print(T1)\n",
        "print(T2)"
      ],
      "metadata": {
        "colab": {
          "base_uri": "https://localhost:8080/"
        },
        "id": "L_DK0ypzKZ-n",
        "outputId": "13256647-4bf0-44f0-c6b5-7c642dab9623"
      },
      "execution_count": null,
      "outputs": [
        {
          "output_type": "stream",
          "name": "stdout",
          "text": [
            "(1, 2, 3, 4, 5)\n",
            "('9715', 'PAZ GUERRA ANGEL', 'CAJERO', (4, 7, 2004), 2100.0)\n"
          ]
        }
      ]
    },
    {
      "cell_type": "markdown",
      "source": [
        "Recorrer o procesar tuplas"
      ],
      "metadata": {
        "id": "v21ru5CYMCge"
      }
    },
    {
      "cell_type": "code",
      "source": [
        "# -- Definir una Tupla heterogénea, con los datos de un trabajador de una empresa\n",
        "Trabajador = ('9715','PAZ GUERRA ANGEL','CAJERO', (4, 7, 2004), 2100.00)\n",
        "# -- Mostrar el sueldo básico del trabajador\n",
        "print(Trabajador[4])\n",
        "# -- Mostrar todos los elementos de la tupla\n",
        "print('\\nLos elementos de la tupla son:')\n",
        "for e in Trabajador:\n",
        "  print(e)"
      ],
      "metadata": {
        "colab": {
          "base_uri": "https://localhost:8080/"
        },
        "id": "WuJqDU7oMIFq",
        "outputId": "51d04eae-9e85-4c0a-bc69-27442ee33369"
      },
      "execution_count": null,
      "outputs": [
        {
          "output_type": "stream",
          "name": "stdout",
          "text": [
            "2100.0\n",
            "\n",
            "Los elementos de la tupla son:\n",
            "9715\n",
            "PAZ GUERRA ANGEL\n",
            "CAJERO\n",
            "(4, 7, 2004)\n",
            "2100.0\n"
          ]
        }
      ]
    },
    {
      "cell_type": "markdown",
      "metadata": {
        "id": "QZIcICWtjJYt"
      },
      "source": [
        "##Diccionarios\n"
      ]
    },
    {
      "cell_type": "markdown",
      "source": [
        "###Definición"
      ],
      "metadata": {
        "id": "VBfLgWg7hDJx"
      }
    },
    {
      "cell_type": "markdown",
      "source": [
        "Es una estructura de datos conformada por una colección de pares (key : values)."
      ],
      "metadata": {
        "id": "4GyoXRQVnyP3"
      }
    },
    {
      "cell_type": "markdown",
      "source": [
        "Representación de diccionarios en PYTHON\n",
        "\n",
        "Se utilizan llaves, donde cada elemento del dicionario esta separado por dos puntos (:)\n"
      ],
      "metadata": {
        "id": "XLFJi8wiogX8"
      }
    },
    {
      "cell_type": "code",
      "source": [
        "D = {'PEN' : 'NUevos soles', 'USD' : 'Dólares americanos'}\n",
        "print(D)\n"
      ],
      "metadata": {
        "id": "OYPnlbUMn-Xh",
        "colab": {
          "base_uri": "https://localhost:8080/"
        },
        "outputId": "cee621fe-4a84-4d90-972e-7f7c16a10986",
        "cellView": "code"
      },
      "execution_count": null,
      "outputs": [
        {
          "output_type": "stream",
          "name": "stdout",
          "text": [
            "{'PEN': 'NUevos soles', 'USD': 'Dólares americanos'}\n"
          ]
        }
      ]
    },
    {
      "cell_type": "markdown",
      "source": [
        "###Operaciones básicas"
      ],
      "metadata": {
        "id": "i22ektCbhTwk"
      }
    },
    {
      "cell_type": "markdown",
      "source": [
        "- Agregar elementos a un diccionario\n",
        "- Recorrer un diccionario\n",
        "\n",
        "Procesar en un diccionario la relación de alumnos de la Escuela Profesional de IIS"
      ],
      "metadata": {
        "id": "gewK7fgcovdy"
      }
    },
    {
      "cell_type": "code",
      "source": [
        "DA = {'201812':'Paz Guerra Angel', '190678':'Cuno Meza Pía'}\n",
        "DA['210974'] = 'Díaz Oré Eva'\n",
        "DA['180723'] = 'Zea Arce Carla'\n",
        "DA['207213'] = 'Cano Luza José'\n",
        "# -- Modificar un elemento\n",
        "DA['180723'] = 'Zea Arce Carlos'\n",
        "# -- Mostrar elementos del diccionario\n",
        "print(DA)\n",
        "for k, v in DA.items():\n",
        "  print(k, v)\n"
      ],
      "metadata": {
        "id": "L2gExfSIo5Gp",
        "colab": {
          "base_uri": "https://localhost:8080/"
        },
        "outputId": "8e761d23-dd61-42f6-a0ac-e65d4536cb9c",
        "cellView": "code"
      },
      "execution_count": null,
      "outputs": [
        {
          "output_type": "stream",
          "name": "stdout",
          "text": [
            "{'201812': 'Paz Guerra Angel', '190678': 'Cuno Meza Pía', '210974': 'Díaz Oré Eva', '180723': 'Zea Arce Carlos', '207213': 'Cano Luza José'}\n",
            "201812 Paz Guerra Angel\n",
            "190678 Cuno Meza Pía\n",
            "210974 Díaz Oré Eva\n",
            "180723 Zea Arce Carlos\n",
            "207213 Cano Luza José\n"
          ]
        }
      ]
    },
    {
      "cell_type": "code",
      "source": [
        "DA = {}\n",
        "DA['201812'] = ['Paz', 'Guerra', 'Angel', 'IN']\n",
        "DA['190678'] = ['Cuno', 'Meza', 'Pía', 'IN']\n",
        "DA['210974'] = ['Díaz', 'Oré', 'Eva','IN']\n",
        "# -- Mostrar elementos del diccionario\n",
        "for k, v in DA.items():\n",
        "  print(k, v)\n"
      ],
      "metadata": {
        "colab": {
          "base_uri": "https://localhost:8080/"
        },
        "id": "KK4W6u_fqYYG",
        "outputId": "2b2cc81e-9502-4d14-d5c4-b6f24d581574"
      },
      "execution_count": null,
      "outputs": [
        {
          "output_type": "stream",
          "name": "stdout",
          "text": [
            "201812 ['Paz', 'Guerra', 'Angel', 'IN']\n",
            "190678 ['Cuno', 'Meza', 'Pía', 'IN']\n",
            "210974 ['Díaz', 'Oré', 'Eva', 'IN']\n"
          ]
        }
      ]
    },
    {
      "cell_type": "markdown",
      "source": [
        "Aplicación para registrar datos de estudiantes en un diccionario.\n",
        "\n",
        "Nota: Considerar que cada estudiante tiene los siguientes atributos:\n",
        "CodAlumno, ApellidoPaterno, ApellidoMaterno, Nombres, CodEscuela"
      ],
      "metadata": {
        "id": "0Nb0flKrv3NE"
      }
    },
    {
      "cell_type": "code",
      "source": [
        "# ********************    MÓDULOS   *****************************\n",
        "def LeerEstudiantes(N):\n",
        "  # -- Inicializar un diccionario\n",
        "  D = {}\n",
        "  # -- Leer los datos de estudiantes\n",
        "  for k in range(1, N+1):\n",
        "    print('\\nIngrese los datos del estudiante ', k)\n",
        "    # -- Leer el código\n",
        "    Cod = input('Código: ')\n",
        "    # -- Leer el AP\n",
        "    AP = input('Apellido paterno: ')\n",
        "    # -- Leer el AM\n",
        "    AM = input('Apellido materno: ')\n",
        "    # -- Leer los nombres\n",
        "    Nombres = input('Nombres: ')\n",
        "    # -- Leer código de escuela\n",
        "    CodEP = input('Código de Escuela Profesional: ')\n",
        "    # -- Agregar los datos del estudiante al diccionario\n",
        "    D[Cod] = [AP, AM, Nombres, CodEP]\n",
        "  # -- Devolver diccionario\n",
        "  return D\n",
        "\n",
        "def MostrarEstudiantes(D):\n",
        "  print()\n",
        "  print('RELACIÓN DE ESTUDIANTES')\n",
        "  print('=======================')\n",
        "  for k, v in D.items():\n",
        "    print(k, v)\n",
        "\n",
        "\n",
        "# *******************  PROGRAMA PRINCIPAL  ***********************\n",
        "# -- Leer el número de Estudiantes\n",
        "N = int(input('Ingrese el número de Estudiantes: '))\n",
        "# -- Leer datos de estudiantes\n",
        "DE = LeerEstudiantes(N)\n",
        "# -- Mostrar la relación de estudiantes\n",
        "MostrarEstudiantes(DE)"
      ],
      "metadata": {
        "colab": {
          "base_uri": "https://localhost:8080/"
        },
        "id": "bNTroHppwIYl",
        "outputId": "ddddea12-2654-4d7e-b79d-260f1f5e77e5"
      },
      "execution_count": null,
      "outputs": [
        {
          "output_type": "stream",
          "name": "stdout",
          "text": [
            "Ingrese el número de Estudiantes: 2\n",
            "Ingrese los datos del estudiante  1\n",
            "Código: 11\n",
            "Apellido paterno: 11111111\n",
            "Apellido materno: 11111111111\n",
            "Nombres: 111111\n",
            "Código de Escuela Profesional: 11\n",
            "Ingrese los datos del estudiante  2\n",
            "Código: 2222222\n",
            "Apellido paterno: 222222222\n",
            "Apellido materno: 22222222222\n",
            "Nombres: 222222222222\n",
            "Código de Escuela Profesional: 22\n",
            "\n",
            "RELACIÓN DE ESTUDIANTES\n",
            "=======================\n",
            "11 ['11111111', '11111111111', '111111', '11']\n",
            "2222222 ['222222222', '22222222222', '222222222222', '22']\n"
          ]
        }
      ]
    },
    {
      "cell_type": "markdown",
      "metadata": {
        "id": "QcQ4QoKdjbuy"
      },
      "source": [
        "# PROCESO POR COMPRENSIÓN DE ESTRUCTURAS DE DATOS\n",
        "\n",
        "\n"
      ]
    },
    {
      "cell_type": "markdown",
      "source": [
        "##Resumen de estructuras de datos por comprensión\n"
      ],
      "metadata": {
        "id": "p-DaM9f5x8aT"
      }
    },
    {
      "cell_type": "code",
      "source": [
        "# -- Conjuntos por comprensión\n",
        "A = {k for k in range(1,11) if k % 2 == 1}\n",
        "print('Conjuntos por comprensión: ', A)\n",
        "# -- Listas por comprensión\n",
        "L = [k for k in range(1,11) if k % 2 == 1]\n",
        "print('Listas por comprensión: ', L)\n",
        "# -- Tuplas por comprensión\n",
        "T = (k for k in range(1,11) if k % 2 == 1)\n",
        "print('Tuplas por comprensión: ', tuple(T))\n",
        "# -- Diccionarios por comprensión\n",
        "D = {k : k**2 for k in range(1,11) if k % 2 == 1}\n",
        "print('Diccionarios por comprensión: ', D)"
      ],
      "metadata": {
        "colab": {
          "base_uri": "https://localhost:8080/"
        },
        "id": "A-mo34qVyF-h",
        "outputId": "b42f6687-b83a-46cd-f10c-a712bd644b7e"
      },
      "execution_count": null,
      "outputs": [
        {
          "output_type": "stream",
          "name": "stdout",
          "text": [
            "Conjuntos por comprensión:  {1, 3, 5, 7, 9}\n",
            "Listas por comprensión:  [1, 3, 5, 7, 9]\n",
            "Tuplas por comprensión:  (1, 3, 5, 7, 9)\n",
            "Diccionarios por comprensión:  {1: 1, 3: 9, 5: 25, 7: 49, 9: 81}\n"
          ]
        }
      ]
    },
    {
      "cell_type": "markdown",
      "metadata": {
        "id": "dYotbAdgtJ5w"
      },
      "source": [
        "##**Conjuntos por comprensión**\n"
      ]
    },
    {
      "cell_type": "code",
      "source": [
        "# -- Definir conjuntos por comprensión\n",
        "A = {x for x in range(1,11)}\n",
        "B = {e for e in range(2,22,2)}\n",
        "print(A)\n",
        "print(B)"
      ],
      "metadata": {
        "colab": {
          "base_uri": "https://localhost:8080/"
        },
        "id": "M7wI8CBjNhlJ",
        "outputId": "337d688c-4837-4fde-9c32-c3d944fe6c76"
      },
      "execution_count": null,
      "outputs": [
        {
          "output_type": "stream",
          "name": "stdout",
          "text": [
            "{1, 2, 3, 4, 5, 6, 7, 8, 9, 10}\n",
            "{2, 4, 6, 8, 10, 12, 14, 16, 18, 20}\n"
          ]
        }
      ]
    },
    {
      "cell_type": "code",
      "source": [
        "# -- Procesar conjuntos por comprensión\n",
        "C = {e for e in B if e % 4 == 0}\n",
        "print(C)\n",
        "C1 = {e**2 for e in B if e % 4 == 0}\n",
        "print(C1)"
      ],
      "metadata": {
        "colab": {
          "base_uri": "https://localhost:8080/"
        },
        "id": "1dLfwyq9OYnX",
        "outputId": "077a7d13-8bed-4318-ea4b-38e57cf1d21a"
      },
      "execution_count": null,
      "outputs": [
        {
          "output_type": "stream",
          "name": "stdout",
          "text": [
            "{4, 8, 12, 16, 20}\n",
            "{256, 64, 16, 400, 144}\n"
          ]
        }
      ]
    },
    {
      "cell_type": "markdown",
      "metadata": {
        "id": "pHw1khFPt5m1"
      },
      "source": [
        "##**Listas por comprensión**"
      ]
    },
    {
      "cell_type": "code",
      "metadata": {
        "colab": {
          "base_uri": "https://localhost:8080/"
        },
        "id": "OtHzU4ieuHEp",
        "outputId": "48fe3245-bf3c-4b33-c299-893be97ebff6"
      },
      "source": [
        "L1 = [1, 2, 3, 4, 5, 6, 7, 8, 9, 10]\n",
        "# -- Mostrar los elementos impares al cuadrado\n",
        "L2 = [E**2 for E in L1 if E % 2 == 1]\n",
        "print(L1)\n",
        "print(L2)\n"
      ],
      "execution_count": null,
      "outputs": [
        {
          "output_type": "stream",
          "name": "stdout",
          "text": [
            "[1, 2, 3, 4, 5, 6, 7, 8, 9, 10]\n",
            "[1, 9, 25, 49, 81]\n"
          ]
        }
      ]
    },
    {
      "cell_type": "markdown",
      "source": [
        "Mostrar la relación de nombres que tengan menos de 4 letras"
      ],
      "metadata": {
        "id": "AQp8qiaxBbs2"
      }
    },
    {
      "cell_type": "code",
      "metadata": {
        "colab": {
          "base_uri": "https://localhost:8080/"
        },
        "id": "NlZLb-w9w5h5",
        "outputId": "1cfd23c4-5951-47df-c93b-a8ab7071c3eb"
      },
      "source": [
        "LN = ['Ana', 'Angel', 'Valia', 'Max', 'Po', 'Pablo', 'Paco', 'Eva', 'María', 'Pio']\n",
        "LN1 = [N for N in LN if len(N) < 4]\n",
        "print(LN1)"
      ],
      "execution_count": null,
      "outputs": [
        {
          "output_type": "stream",
          "name": "stdout",
          "text": [
            "['Ana', 'Max', 'Po', 'Eva', 'Pio']\n"
          ]
        }
      ]
    },
    {
      "cell_type": "markdown",
      "source": [
        "##**Tuplas por comprensión**"
      ],
      "metadata": {
        "id": "zwqpaOY4M5a7"
      }
    },
    {
      "cell_type": "code",
      "source": [
        "# -- Definir una tupla con los códigos de las Escuelas Profesionales\n",
        "EP = 'IN','CO','IL','MH','IE','IC','AD','ME','FI'\n",
        "# -- Generar una tupla con las Escuelas cuyo código empieza con I\n",
        "EPI = (e for e in EP if e.startswith('I'))\n",
        "# -- Mostrar resultado\n",
        "print(tuple(EPI))"
      ],
      "metadata": {
        "colab": {
          "base_uri": "https://localhost:8080/"
        },
        "id": "1h7P25djM8gF",
        "outputId": "8bba7bc9-c3fb-4c40-8c87-a99fc732d41d"
      },
      "execution_count": null,
      "outputs": [
        {
          "output_type": "stream",
          "name": "stdout",
          "text": [
            "('IN', 'IL', 'IE', 'IC')\n"
          ]
        }
      ]
    },
    {
      "cell_type": "markdown",
      "source": [
        "##**Diccionarios por comprensión**"
      ],
      "metadata": {
        "id": "lw2LOwokmPJJ"
      }
    },
    {
      "cell_type": "code",
      "source": [
        "# -- Dicionario de Escuelas profesionales con su respectivo número de alumnos\n",
        "DEP = {'IN':568,'CO':490,'IL':345,'MH':280,'IE':534,'IC':595,'ED':985,'ME':145}\n",
        "# -- Generar un diccionario con las Escuelas profesionales con más de 500 estudiantes\n",
        "DEP1 = {k:v for k,v in DEP.items() if v > 500}\n",
        "# -- Mostrar resultado\n",
        "for k, v in DEP1.items():\n",
        "  print(k, v)\n"
      ],
      "metadata": {
        "id": "JfvU-8komVSo"
      },
      "execution_count": null,
      "outputs": []
    },
    {
      "cell_type": "markdown",
      "source": [
        "##Combinación de estructuras de datos por comprensión"
      ],
      "metadata": {
        "id": "Y0NnkQY6lo51"
      }
    },
    {
      "cell_type": "code",
      "source": [
        "# -- Combinación de estructuras de datos por comprensión\n",
        "L = ['Cero', 'Uno','Dos','Tres','Cuatro','Cinco','Seis','Siete','Ocho','Nueve']\n",
        "D = {e : L[e] for e in range(0, len(L)) }\n",
        "while True:\n",
        "  dig = int(input('Ingrese un dígito: '))\n",
        "  if 0 <= dig <= 9:\n",
        "    print(D[dig])\n",
        "  else:\n",
        "    break"
      ],
      "metadata": {
        "id": "0GyMddoCzthH"
      },
      "execution_count": null,
      "outputs": []
    },
    {
      "cell_type": "markdown",
      "metadata": {
        "id": "7izaOA4UjeKw"
      },
      "source": [
        "#Ejercicios resueltos"
      ]
    },
    {
      "cell_type": "markdown",
      "source": [
        "##EJERCICIO 1\n",
        "\n",
        "Escribir un módulo que permita normalizar una lista de valores."
      ],
      "metadata": {
        "id": "akU5ZaK-eoKC"
      }
    },
    {
      "cell_type": "code",
      "metadata": {
        "id": "CR9yl5GLiWR3",
        "colab": {
          "base_uri": "https://localhost:8080/"
        },
        "outputId": "841b2e8b-8d2c-4008-a16b-4bc6acb3b29b"
      },
      "source": [
        "# -- Lista de valores\n",
        "L1 = [1200, 350, 2200, 510, 1850, 3300, 488, 1000, 2600, 420]\n",
        "# -- Normalizar los valores de la lista\n",
        "m = max(L1)\n",
        "LN = [e/m for e in L1]\n",
        "# -- Mostrar valores normalizados\n",
        "print(LN)\n"
      ],
      "execution_count": null,
      "outputs": [
        {
          "output_type": "stream",
          "name": "stdout",
          "text": [
            "[0.36363636363636365, 0.10606060606060606, 0.6666666666666666, 0.15454545454545454, 0.5606060606060606, 1.0, 0.1478787878787879, 0.30303030303030304, 0.7878787878787878, 0.12727272727272726]\n"
          ]
        }
      ]
    }
  ]
}