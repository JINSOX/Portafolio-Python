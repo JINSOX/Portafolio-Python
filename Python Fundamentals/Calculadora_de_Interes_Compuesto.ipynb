{
  "nbformat": 4,
  "nbformat_minor": 0,
  "metadata": {
    "colab": {
      "provenance": []
    },
    "kernelspec": {
      "name": "python3",
      "display_name": "Python 3"
    },
    "language_info": {
      "name": "python"
    }
  },
  "cells": [
    {
      "cell_type": "code",
      "metadata": {
        "colab": {
          "base_uri": "https://localhost:8080/"
        },
        "id": "9_p3pAJY_q-n",
        "outputId": "2c69dc9d-48af-4a3a-dc62-4840c8145251"
      },
      "source": [
        "def Variable(Monto):\n",
        "  Arreglo = []\n",
        "  N = int(input(\"Ingrese número de Variaciones en el Año:  \"))\n",
        "  Aux = Monto\n",
        "  for i in range(N):\n",
        "    A = []\n",
        "    T = int(input(\"Igrese tasa de interes N°\"+ str(i+1)+\" (%):  \"))\n",
        "    P = int(input(\"Ingrese cantidad de Dias de vigencia de la Tasa de Interes:  \"))\n",
        "    M = P//30\n",
        "    MontoV = Monto\n",
        "    j = 1\n",
        "    while(j < M+1):\n",
        "      A.append(str(T)+\"%\")\n",
        "      Interes = T/100*Aux\n",
        "      A.append(Interes)\n",
        "      MontoV = MontoV +Interes\n",
        "      A.append(MontoV)\n",
        "      Arreglo.append(A)\n",
        "      A = []\n",
        "      j = j + 1\n",
        "    Monto = MontoV\n",
        "  n = 1\n",
        "  for k in Arreglo:\n",
        "    print(\"Mes N°\"+str(n)+\"   \",\"Tasa de Interes: \", str(k[0])+\"   \", \"Interes: \", str(k[1])+\"   \", \"Total: \", str(k[2]))\n",
        "    print(\"----------------------------------------------------------------------\")\n",
        "    n+=1\n",
        "\n",
        "print(\"Bienvenido a su Libreta de ahorro\")\n",
        "Monto=int(input(\"Ingrese Monto de Depócito:  \"))\n",
        "Variable(Monto)\n",
        "\n",
        "\n",
        "\n",
        "\n",
        "\n",
        "\n"
      ],
      "execution_count": null,
      "outputs": [
        {
          "output_type": "stream",
          "name": "stdout",
          "text": [
            "Bienvenido a su Libreta de ahorro\n",
            "Ingrese Monto de Depócito:  5000\n",
            "Ingrese número de Variaciones en el Año:  3\n",
            "Igrese tasa de interes N°1 (%):  0\n",
            "Ingrese cantidad de Dias de vigencia de la Tasa de Interes:  90\n",
            "Igrese tasa de interes N°2 (%):  3\n",
            "Ingrese cantidad de Dias de vigencia de la Tasa de Interes:  120\n",
            "Igrese tasa de interes N°3 (%):  5\n",
            "Ingrese cantidad de Dias de vigencia de la Tasa de Interes:  150\n",
            "Mes N°1    Tasa de Interes:  0%    Interes:  0.0    Total:  5000.0\n",
            "----------------------------------------------------------------------\n",
            "Mes N°2    Tasa de Interes:  0%    Interes:  0.0    Total:  5000.0\n",
            "----------------------------------------------------------------------\n",
            "Mes N°3    Tasa de Interes:  0%    Interes:  0.0    Total:  5000.0\n",
            "----------------------------------------------------------------------\n",
            "Mes N°4    Tasa de Interes:  3%    Interes:  150.0    Total:  5150.0\n",
            "----------------------------------------------------------------------\n",
            "Mes N°5    Tasa de Interes:  3%    Interes:  150.0    Total:  5300.0\n",
            "----------------------------------------------------------------------\n",
            "Mes N°6    Tasa de Interes:  3%    Interes:  150.0    Total:  5450.0\n",
            "----------------------------------------------------------------------\n",
            "Mes N°7    Tasa de Interes:  3%    Interes:  150.0    Total:  5600.0\n",
            "----------------------------------------------------------------------\n",
            "Mes N°8    Tasa de Interes:  5%    Interes:  250.0    Total:  5850.0\n",
            "----------------------------------------------------------------------\n",
            "Mes N°9    Tasa de Interes:  5%    Interes:  250.0    Total:  6100.0\n",
            "----------------------------------------------------------------------\n",
            "Mes N°10    Tasa de Interes:  5%    Interes:  250.0    Total:  6350.0\n",
            "----------------------------------------------------------------------\n",
            "Mes N°11    Tasa de Interes:  5%    Interes:  250.0    Total:  6600.0\n",
            "----------------------------------------------------------------------\n",
            "Mes N°12    Tasa de Interes:  5%    Interes:  250.0    Total:  6850.0\n",
            "----------------------------------------------------------------------\n"
          ]
        }
      ]
    }
  ]
}