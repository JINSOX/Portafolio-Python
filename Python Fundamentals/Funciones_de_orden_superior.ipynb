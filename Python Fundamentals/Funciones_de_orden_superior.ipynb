{
  "nbformat": 4,
  "nbformat_minor": 0,
  "metadata": {
    "colab": {
      "provenance": []
    },
    "kernelspec": {
      "name": "python3",
      "display_name": "Python 3"
    },
    "language_info": {
      "name": "python"
    }
  },
  "cells": [
    {
      "cell_type": "markdown",
      "source": [
        "###Ejemplo convencional"
      ],
      "metadata": {
        "id": "ZEj8nbGL6I8L"
      }
    },
    {
      "cell_type": "code",
      "source": [
        "# Programa modular para sumar dos números\n",
        "\n",
        "# -- Módulo\n",
        "def Sumar(a, b):\n",
        "  return a + b\n",
        "\n",
        "# -- Programa principal\n",
        "n1 = int(input('Ingrese primer número: '))\n",
        "n2 = int(input('Ingrese segundo número: '))\n",
        "r = Sumar(n1, n2)\n",
        "print(r)"
      ],
      "metadata": {
        "id": "sQJAPXo36M37",
        "colab": {
          "base_uri": "https://localhost:8080/"
        },
        "outputId": "1f9b133f-e6be-4c34-b236-fd2982f7eaab"
      },
      "execution_count": null,
      "outputs": [
        {
          "output_type": "stream",
          "name": "stdout",
          "text": [
            "Ingrese primer número: 10\n",
            "Ingrese segundo número: 20\n",
            "30\n"
          ]
        }
      ]
    },
    {
      "cell_type": "markdown",
      "source": [
        "###Ejemplo con variable de tipo módulo"
      ],
      "metadata": {
        "id": "Myh2v-ea7GZR"
      }
    },
    {
      "cell_type": "code",
      "source": [
        "# Programa modular para sumar dos números\n",
        "\n",
        "# -- Módulo\n",
        "def Sumar(a, b):\n",
        "  return a + b\n",
        "\n",
        "# -- Definir variable de tipo módulo\n",
        "m = Sumar\n",
        "\n",
        "# -- Programa principal\n",
        "n1 = int(input('Ingrese primer número: '))\n",
        "n2 = int(input('Ingrese segundo número: '))\n",
        "r1 = Sumar(n1, n2)\n",
        "r2 = m(n1, n2)\n",
        "print(r1, r2)"
      ],
      "metadata": {
        "id": "ArD0oZ5J7BMQ",
        "colab": {
          "base_uri": "https://localhost:8080/"
        },
        "outputId": "4d404f51-7e7f-4ec9-8db3-78030c181f84"
      },
      "execution_count": null,
      "outputs": [
        {
          "output_type": "stream",
          "name": "stdout",
          "text": [
            "Ingrese primer número: 10\n",
            "Ingrese segundo número: 20\n",
            "30 30\n"
          ]
        }
      ]
    },
    {
      "cell_type": "markdown",
      "source": [
        "##Funciones de orden superior"
      ],
      "metadata": {
        "id": "u_Sts1_YCLiC"
      }
    },
    {
      "cell_type": "markdown",
      "source": [
        "Las funciones de orden superior son funciones que aceptan como parámetros otras funciones y/o pueden devolver otras funciones.\n",
        "\n",
        "Se utilizan generalmente en problemas que tienen soluciones que obedecen a patrones de comportamiento similares."
      ],
      "metadata": {
        "id": "2x0iPLW_FOAN"
      }
    },
    {
      "cell_type": "markdown",
      "source": [
        "###Patrones algorítmicos"
      ],
      "metadata": {
        "id": "bHQ25EyyvzZk"
      }
    },
    {
      "cell_type": "markdown",
      "source": [
        "La implementación de muchos algoritmos presentan una estructura y una secuencia lógica muy similar. Estos algoritmos se pueden generalizar y esquematizarlos en un algoritmo patrón; de modo que, al implementar cualquiera de estos algoritmos se toma como base el algoritmo patrón y se adecúa a las necesiades del algoritmo específico."
      ],
      "metadata": {
        "id": "mrr0znOPyV8O"
      }
    },
    {
      "cell_type": "markdown",
      "source": [
        "####Ejemplo de problemas con la misma estructura y lógica algorítmica"
      ],
      "metadata": {
        "id": "3WUlEpUt-5fV"
      }
    },
    {
      "cell_type": "code",
      "execution_count": null,
      "metadata": {
        "id": "YVtRFPBu5Ua5",
        "colab": {
          "base_uri": "https://localhost:8080/"
        },
        "outputId": "d02b2697-305e-4285-fb2f-93c887ca9df6"
      },
      "outputs": [
        {
          "output_type": "stream",
          "name": "stdout",
          "text": [
            "Ingrese primer número: 10\n",
            "Ingrese segundo número: 20\n",
            "Suma =  30\n",
            "Ingrese primer número: 10\n",
            "Ingrese segundo número: 20\n",
            "Producto =  200\n",
            "Ingrese primer número: 10\n",
            "Ingrese segundo número: 20\n",
            "Mayor =  20\n",
            "Ingrese primer número: 10\n",
            "Ingrese segundo número: 20\n",
            "MCD =  10\n"
          ]
        }
      ],
      "source": [
        "# Ejemplo de módulos que tienen una estructura y una lógica algorítmica muy similar\n",
        "\n",
        "def MCD(a, b):\n",
        "  return b if a % b == 0 else MCD(b, a % b)\n",
        "\n",
        "\n",
        "# -- Módulo para leer y sumar dos números\n",
        "def Sumar():\n",
        "  n1 = int(input('Ingrese primer número: '))\n",
        "  n2 = int(input('Ingrese segundo número: '))\n",
        "  r = n1 + n2\n",
        "  print('Suma = ', r)\n",
        "\n",
        "# -- Módulo para leer y multiplicar dos números\n",
        "def Multiplicar():\n",
        "  n1 = int(input('Ingrese primer número: '))\n",
        "  n2 = int(input('Ingrese segundo número: '))\n",
        "  r = n1 * n2\n",
        "  print('Producto = ',r)\n",
        "\n",
        "# -- Módulo para leer dos números y determinar el mayor\n",
        "def Mayor():\n",
        "  n1 = int(input('Ingrese primer número: '))\n",
        "  n2 = int(input('Ingrese segundo número: '))\n",
        "  r = n1 if n1 > n2 else n2\n",
        "  print('Mayor = ',r)\n",
        "\n",
        "# -- Módulo para leer dos números y determinar el MCD\n",
        "def MCD_Nros():\n",
        "  n1 = int(input('Ingrese primer número: '))\n",
        "  n2 = int(input('Ingrese segundo número: '))\n",
        "  r = MCD(n1, n2)\n",
        "  print('MCD = ',r)\n",
        "\n",
        "# -- Programa principal\n",
        "m = Sumar\n",
        "m()\n",
        "m = Multiplicar\n",
        "m()\n",
        "m = Mayor\n",
        "m()\n",
        "m = MCD_Nros\n",
        "m()"
      ]
    },
    {
      "cell_type": "markdown",
      "source": [
        "####Ejemplo del uso de un módulo patrón con una función de orden superior"
      ],
      "metadata": {
        "id": "h4q70BN50Wuo"
      }
    },
    {
      "cell_type": "markdown",
      "source": [
        "Adecuación del ejercicio anterior al uso de un módulo patrón"
      ],
      "metadata": {
        "id": "JLoaZLvt0m0f"
      }
    },
    {
      "cell_type": "code",
      "source": [
        "# Ejemplo de patrones\n",
        "# -- Módulo para sumar dos números\n",
        "def Sumar(n1, n2):\n",
        "  return n1 + n2\n",
        "\n",
        "# -- Módulo para multiplicar dos números\n",
        "def Multiplicar(n1, n2):\n",
        "  return n1 * n2\n",
        "\n",
        "# -- Módulo para determinar el mayor de dos números\n",
        "def Mayor(n1, n2):\n",
        "  return n1 if n1 > n2 else n2\n",
        "\n",
        "# -- Módulo para determinar el MCD de dos números\n",
        "def MCD(a, b):\n",
        "  return b if a % b == 0 else MCD(b, a % b)\n",
        "\n",
        "# -- Módulo patrón para leer y procesar dos números\n",
        "def PatronProcesarDosNumeros(titulo, m):\n",
        "  print(titulo)\n",
        "  n1 = int(input('Ingrese primer número: '))\n",
        "  n2 = int(input('Ingrese segundo número: '))\n",
        "  r = m(n1, n2)\n",
        "  print('Resultado = ',r)\n",
        "\n",
        "# -- Programa principal\n",
        "PatronProcesarDosNumeros('SUMAR', lambda a, b : a + b)\n",
        "PatronProcesarDosNumeros('MULTIPLICAR', Multiplicar)\n",
        "PatronProcesarDosNumeros('MAYOR', Mayor)\n",
        "PatronProcesarDosNumeros('MCD', MCD)\n"
      ],
      "metadata": {
        "id": "H-2nA_tbCyFK"
      },
      "execution_count": null,
      "outputs": []
    },
    {
      "cell_type": "markdown",
      "source": [
        "###Ejercicios resueltos"
      ],
      "metadata": {
        "id": "y4ffXHwr1U31"
      }
    },
    {
      "cell_type": "markdown",
      "source": [
        "####Ejercicio 01.- Operaciones básicas de números racionales"
      ],
      "metadata": {
        "id": "HJK1MaFouQoc"
      }
    },
    {
      "cell_type": "markdown",
      "source": [
        "#####Enunciado"
      ],
      "metadata": {
        "id": "zgpuYECGuVOI"
      }
    },
    {
      "cell_type": "markdown",
      "source": [
        "Escribir un programa modular que permita efectuar las operaciones básicas con números racionales."
      ],
      "metadata": {
        "id": "04s7NgRGwNRF"
      }
    },
    {
      "cell_type": "markdown",
      "source": [
        "#####Código PYTHON"
      ],
      "metadata": {
        "id": "E3f15uveuYtg"
      }
    },
    {
      "cell_type": "markdown",
      "source": [
        "######Librerías"
      ],
      "metadata": {
        "id": "gENoGBQIz7pn"
      }
    },
    {
      "cell_type": "code",
      "source": [
        "# Módulo para leer números enteros\n",
        "def LeerNroEntero(Rotulo, Minimo, Maximo):\n",
        "  nro = int(input(Rotulo))\n",
        "  while nro < Minimo or nro > Maximo:\n",
        "    print('Error. Valor incorrecto')\n",
        "    nro = int(input(Rotulo))\n",
        "\n",
        "  return nro\n"
      ],
      "metadata": {
        "id": "1CpLD6B_0hNU"
      },
      "execution_count": null,
      "outputs": []
    },
    {
      "cell_type": "code",
      "source": [
        "# Módulo para determinar el Máximo Común Divisor\n",
        "def MCD(A, B):\n",
        "  return B if A % B == 0 else MCD(B, A % B)"
      ],
      "metadata": {
        "id": "4Z8k6G9C_i6f"
      },
      "execution_count": null,
      "outputs": []
    },
    {
      "cell_type": "code",
      "source": [
        "# Módulo para simplificar dos números\n",
        "def Simplificar(A, B):\n",
        "  # -- Determinar el MCD\n",
        "  M = MCD(A, B)\n",
        "  # -- Simplificar\n",
        "  A = A // M\n",
        "  B = B // M\n",
        "  # -- Devolver resultado\n",
        "  return A, B"
      ],
      "metadata": {
        "id": "32FTiZrn-I-R"
      },
      "execution_count": null,
      "outputs": []
    },
    {
      "cell_type": "code",
      "source": [
        "# Módulo para leer números racionales\n",
        "def LeerNroRacional(Rotulo):\n",
        "  print('Ingrese el ',Rotulo, 'número racional')\n",
        "  # -- Leer el numerador\n",
        "  N = int(input('Numerador: '))\n",
        "  # -- Leer el denominador\n",
        "  D = int(input('Denominador: '))\n",
        "  while D == 0:\n",
        "    print('Error. El denominador no puede ser CERO')\n",
        "    D = int(input('Denominador: '))\n",
        "  # -- Simplificar\n",
        "  N, D = Simplificar(N, D)\n",
        "  # -- Devolver número racional\n",
        "  return N, D\n"
      ],
      "metadata": {
        "id": "YOMt7Spn8shs"
      },
      "execution_count": null,
      "outputs": []
    },
    {
      "cell_type": "markdown",
      "source": [
        "######Módulos"
      ],
      "metadata": {
        "id": "dn2HuTdVub_U"
      }
    },
    {
      "cell_type": "code",
      "source": [
        "# Módulo menú de números racionales\n",
        "def Menu():\n",
        "  print()\n",
        "  print('------------------------------------------')\n",
        "  print('OPERACIONES BÁSICAS CON NÚMEROS RACIONALES')\n",
        "  print('                  MENÚ')\n",
        "  print()\n",
        "  print('1. Sumar')\n",
        "  print('2. Restar')\n",
        "  print('3. Multiplicar')\n",
        "  print('4. Dividir')\n",
        "  print('5. FIN')\n",
        "  print()"
      ],
      "metadata": {
        "id": "37w8WUHDzIYr"
      },
      "execution_count": null,
      "outputs": []
    },
    {
      "cell_type": "code",
      "source": [
        "# Módulo para sumar dos números racionales\n",
        "def Sumar(N1, D1, N2, D2):\n",
        "  return N1 * D2 + N2 * D1, D1 * D2"
      ],
      "metadata": {
        "id": "WudgTfYGATNQ"
      },
      "execution_count": null,
      "outputs": []
    },
    {
      "cell_type": "code",
      "source": [
        "# Módulo para restar dos números racionales\n",
        "def Restar(N1, D1, N2, D2):\n",
        "  return N1 * D2 - N2 * D1, D1 * D2"
      ],
      "metadata": {
        "id": "bG1IMbUM3arE"
      },
      "execution_count": null,
      "outputs": []
    },
    {
      "cell_type": "code",
      "source": [
        "# Módulo para multiplicar dos números racionales\n",
        "def Multiplicar(N1, D1, N2, D2):\n",
        "  return N1 * N2, D1 * D2"
      ],
      "metadata": {
        "id": "N1jyEpWH3kIn"
      },
      "execution_count": null,
      "outputs": []
    },
    {
      "cell_type": "code",
      "source": [
        "# Módulo para dividir dos números racionales\n",
        "def Dividir(N1, D1, N2, D2):\n",
        "  return N1 * D2 , D1 * N2"
      ],
      "metadata": {
        "id": "f4bZtRzn3wiP"
      },
      "execution_count": null,
      "outputs": []
    },
    {
      "cell_type": "code",
      "source": [
        "# Módulo patrón para procesar dos números racionales\n",
        "def ProcesarNrosRacionales(titulo, modulo):\n",
        "  # -- Poner título\n",
        "  print(titulo)\n",
        "  print('='*len(titulo))\n",
        "  # -- Leer los números racionales\n",
        "  N1, D1 = LeerNroRacional('Primer')\n",
        "  N2, D2 = LeerNroRacional('Segundo')\n",
        "\n",
        "  # -- Procesar los números racionales\n",
        "  N, D = modulo(N1, D1, N2, D2)\n",
        "\n",
        "  # -- Simplificar\n",
        "  N, D = Simplificar(N, D)\n",
        "\n",
        "  # -- Mostrar el resultado\n",
        "  print('Resultado = ', N, '/' , D)\n",
        "\n"
      ],
      "metadata": {
        "id": "2hzDBVeT7QRV"
      },
      "execution_count": null,
      "outputs": []
    },
    {
      "cell_type": "markdown",
      "source": [
        "######Programa principal"
      ],
      "metadata": {
        "id": "qDuHMcW2ufvj"
      }
    },
    {
      "cell_type": "code",
      "execution_count": null,
      "metadata": {
        "id": "tEC2ANB9twa-"
      },
      "outputs": [],
      "source": [
        "# Programa para las operaciones básicas de números racionales\n",
        "\n",
        "# -- Inicializar opción\n",
        "Opcion = 1\n",
        "while Opcion < 5:\n",
        "  # -- Mostrar el Menú\n",
        "  Menu()\n",
        "\n",
        "  # -- Leer la Opcion\n",
        "  Opcion = LeerNroEntero('Ingrese un valor entre 1 y 5:', 1, 5)\n",
        "\n",
        "  # -- Procesar opción\n",
        "  if Opcion == 1:\n",
        "    ProcesarNrosRacionales('SUMAR', Sumar)\n",
        "  elif Opcion == 2:\n",
        "    ProcesarNrosRacionales('RESTAR', Restar)\n",
        "  elif Opcion == 3:\n",
        "    ProcesarNrosRacionales('MULTIPLICAR', Multiplicar)\n",
        "  elif Opcion == 4:\n",
        "    ProcesarNrosRacionales('DIVIDIR', Dividir)\n"
      ]
    },
    {
      "cell_type": "markdown",
      "source": [
        "###Ejercicios propuestos"
      ],
      "metadata": {
        "id": "nsHo7D6K4qZ3"
      }
    },
    {
      "cell_type": "markdown",
      "source": [
        "####Ejercicio 1.- Tabular funciones"
      ],
      "metadata": {
        "id": "495xhWVJ41V-"
      }
    },
    {
      "cell_type": "markdown",
      "source": [
        "Dadas las siguientes funciones:\n",
        "\n",
        "$f(x) = 2x^2 + 3x - 2$\n",
        "\n",
        "$g(x) = x^3 + 3x + 1$\n",
        "\n",
        "$h(x) = (x^4- 3) / (3x - 1)$\n",
        "\n",
        "\n",
        "Tabular para valores de $x = 1, 2, ..., 10$"
      ],
      "metadata": {
        "id": "0i7j9MFH5IYj"
      }
    },
    {
      "cell_type": "markdown",
      "source": [
        "####Ejercicio 2.- Tablas aritméticas"
      ],
      "metadata": {
        "id": "AEMmD2u2noX4"
      }
    },
    {
      "cell_type": "markdown",
      "source": [
        "Implementar una aplicación que muestre las tablas aritméticas de: Sumar, restar, multiplicar y dividir; para los números del 1 al 12.\n",
        "Por ejemplo, la tabla de sumar del 8 se debe mostrar como sigue:\n",
        "\n",
        "![Tabla_Aritmética.png](data:image/png;base64,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)\n"
      ],
      "metadata": {
        "id": "xCBXcUunnoYA"
      }
    },
    {
      "cell_type": "markdown",
      "source": [
        "##Funciones anónimas y expresiones Lambda"
      ],
      "metadata": {
        "id": "su-UEZ6VDu0Y"
      }
    },
    {
      "cell_type": "markdown",
      "source": [
        "###Ejemplo básico de función anónima y expresión lambda"
      ],
      "metadata": {
        "id": "C84ceJpfEVoV"
      }
    },
    {
      "cell_type": "code",
      "source": [
        "# -- Módulo convencional para sumar dos números\n",
        "def Sumar(n1, n2):\n",
        "  return n1 + n2\n",
        "\n",
        "# -- Módulo anónimo para sumar dos números\n",
        "m = lambda n1, n2 : n1 + n2\n",
        "\n",
        "# -- Ejecutar ambos módulos que son equivalentes\n",
        "print(Sumar(20,15))\n",
        "print(m(20,15))\n"
      ],
      "metadata": {
        "id": "9PplVBxTEiVe"
      },
      "execution_count": null,
      "outputs": []
    },
    {
      "cell_type": "markdown",
      "source": [
        "###Ejemplo básico de función recursiva anónima y expresión lambda"
      ],
      "metadata": {
        "id": "VtjaDMPBF8Z-"
      }
    },
    {
      "cell_type": "code",
      "source": [
        "m = lambda a, b : b if a % b == 0 else m(b, a % b)\n",
        "print(m(54,42))"
      ],
      "metadata": {
        "colab": {
          "base_uri": "https://localhost:8080/"
        },
        "id": "2uQBrJEDFZbX",
        "outputId": "44812d59-99e8-48c7-c84f-54dc46294e02"
      },
      "execution_count": null,
      "outputs": [
        {
          "output_type": "stream",
          "name": "stdout",
          "text": [
            "6\n"
          ]
        }
      ]
    },
    {
      "cell_type": "markdown",
      "source": [
        "###Ejercicios resueltos"
      ],
      "metadata": {
        "id": "4yoMquS3G8-L"
      }
    },
    {
      "cell_type": "markdown",
      "source": [
        "####Ejercicio 1.- Procesar dos números enteros"
      ],
      "metadata": {
        "id": "vUiENKmWHFg9"
      }
    },
    {
      "cell_type": "code",
      "source": [
        "# Ejemplo de funciones anónimas y expresiones lambda\n",
        "\n",
        "# -- Módulo patrón para leer y procesar dos números\n",
        "def PatronProcesarDosNumeros(titulo, m):\n",
        "  print(titulo)\n",
        "  n1 = int(input('Ingrese primer número: '))\n",
        "  n2 = int(input('Ingrese segundo número: '))\n",
        "  r = m(n1, n2)\n",
        "  print('Resultado = ',r)\n",
        "\n",
        "# -- Programa principal\n",
        "PatronProcesarDosNumeros('SUMAR', lambda a, b : a + b)\n",
        "PatronProcesarDosNumeros('MULTIPLICAR', lambda a, b : a * b)\n",
        "PatronProcesarDosNumeros('MAYOR', lambda a, b : a if a > b else b)\n",
        "M = lambda a, b : b if a % b == 0 else M(b, a % b)\n",
        "PatronProcesarDosNumeros('MCD', M)"
      ],
      "metadata": {
        "id": "ehSg0Qn4ERLt"
      },
      "execution_count": null,
      "outputs": []
    },
    {
      "cell_type": "markdown",
      "source": [
        "####Ejercicio 2.- Procesar dos números racionales"
      ],
      "metadata": {
        "id": "0NN0GO7tpShz"
      }
    },
    {
      "cell_type": "markdown",
      "source": [
        "#####Enunciado"
      ],
      "metadata": {
        "id": "9voUHj8opxiU"
      }
    },
    {
      "cell_type": "markdown",
      "source": [
        "Escribir un programa modular que permita efectuar las operaciones básicas con números racionales."
      ],
      "metadata": {
        "id": "ZvoSHsr2pxiV"
      }
    },
    {
      "cell_type": "markdown",
      "source": [
        "#####Código PYTHON"
      ],
      "metadata": {
        "id": "g6DzSPRXpxiV"
      }
    },
    {
      "cell_type": "markdown",
      "source": [
        "######Librerías"
      ],
      "metadata": {
        "id": "-Sc9dUXopxiV"
      }
    },
    {
      "cell_type": "code",
      "source": [
        "# Módulo para leer números enteros\n",
        "def LeerNroEntero(Rotulo, Minimo, Maximo):\n",
        "  nro = int(input(Rotulo))\n",
        "  while nro < Minimo or nro > Maximo:\n",
        "    print('Error. Valor incorrecto')\n",
        "    nro = int(input(Rotulo))\n",
        "\n",
        "  return nro\n"
      ],
      "metadata": {
        "id": "LhG7vhddpxiW"
      },
      "execution_count": null,
      "outputs": []
    },
    {
      "cell_type": "code",
      "source": [
        "# Módulo para determinar el Máximo Común Divisor\n",
        "def MCD(A, B):\n",
        "  return B if A % B == 0 else MCD(B, A % B)"
      ],
      "metadata": {
        "id": "LPZYPtDppxiW"
      },
      "execution_count": null,
      "outputs": []
    },
    {
      "cell_type": "code",
      "source": [
        "# Módulo para simplificar dos números\n",
        "def Simplificar(A, B):\n",
        "  # -- Determinar el MCD\n",
        "  M = MCD(A, B)\n",
        "  # -- Simplificar\n",
        "  A = A // M\n",
        "  B = B // M\n",
        "  # -- Devolver resultado\n",
        "  return A, B"
      ],
      "metadata": {
        "id": "xhyyCLHZpxiW"
      },
      "execution_count": null,
      "outputs": []
    },
    {
      "cell_type": "code",
      "source": [
        "# Módulo para leer números racionales\n",
        "def LeerNroRacional(Rotulo):\n",
        "  print('Ingrese el ',Rotulo, 'número racional')\n",
        "  # -- Leer el numerador\n",
        "  N = int(input('Numerador: '))\n",
        "  # -- Leer el denominador\n",
        "  D = int(input('Denominador: '))\n",
        "  while D == 0:\n",
        "    print('Error. El denominador no puede ser CERO')\n",
        "    D = int(input('Denominador: '))\n",
        "  # -- Simplificar\n",
        "  N, D = Simplificar(N, D)\n",
        "  # -- Devolver número racional\n",
        "  return N, D\n"
      ],
      "metadata": {
        "id": "508b3Z8VpxiX"
      },
      "execution_count": null,
      "outputs": []
    },
    {
      "cell_type": "markdown",
      "source": [
        "######Módulos"
      ],
      "metadata": {
        "id": "PygMiNlNpxiX"
      }
    },
    {
      "cell_type": "code",
      "source": [
        "# Módulo menú de números racionales\n",
        "def Menu():\n",
        "  print()\n",
        "  print('------------------------------------------')\n",
        "  print('OPERACIONES BÁSICAS CON NÚMEROS RACIONALES')\n",
        "  print('                  MENÚ')\n",
        "  print()\n",
        "  print('1. Sumar')\n",
        "  print('2. Restar')\n",
        "  print('3. Multiplicar')\n",
        "  print('4. Dividir')\n",
        "  print('5. FIN')\n",
        "  print()"
      ],
      "metadata": {
        "id": "EJQ7x4UmpxiX"
      },
      "execution_count": null,
      "outputs": []
    },
    {
      "cell_type": "code",
      "source": [
        "# Módulo patrón para procesar dos números racionales\n",
        "def ProcesarNrosRacionales(titulo, modulo):\n",
        "  # -- Poner título\n",
        "  print(titulo)\n",
        "  print('='*len(titulo))\n",
        "  # -- Leer los números racionales\n",
        "  N1, D1 = LeerNroRacional('Primer')\n",
        "  N2, D2 = LeerNroRacional('Segundo')\n",
        "\n",
        "  # -- Procesar los números racionales\n",
        "  N, D = modulo(N1, D1, N2, D2)\n",
        "\n",
        "  # -- Simplificar\n",
        "  N, D = Simplificar(N, D)\n",
        "\n",
        "  # -- Mostrar el resultado\n",
        "  print('Resultado = ', N, '/' , D)\n",
        "\n"
      ],
      "metadata": {
        "id": "ji0bTFNipxiZ"
      },
      "execution_count": null,
      "outputs": []
    },
    {
      "cell_type": "markdown",
      "source": [
        "######Programa principal"
      ],
      "metadata": {
        "id": "0zIRCOe3pxia"
      }
    },
    {
      "cell_type": "code",
      "execution_count": null,
      "metadata": {
        "colab": {
          "base_uri": "https://localhost:8080/"
        },
        "id": "gdJL1eUKpxia",
        "outputId": "f8a2b3f1-fcf5-4318-8fdb-f19654bcfb9a"
      },
      "outputs": [
        {
          "name": "stdout",
          "output_type": "stream",
          "text": [
            "\n",
            "------------------------------------------\n",
            "OPERACIONES BÁSICAS CON NÚMEROS RACIONALES\n",
            "                  MENÚ\n",
            "\n",
            "1. Sumar\n",
            "2. Restar\n",
            "3. Multiplicar\n",
            "4. Dividir\n",
            "5. FIN\n",
            "\n",
            "Ingrese un valor entre 1 y 5:1\n",
            "SUMAR\n",
            "=====\n",
            "Ingrese el  Primer número racional\n",
            "Numerador: 1\n",
            "Denominador: 4\n",
            "Ingrese el  Segundo número racional\n",
            "Numerador: 1\n",
            "Denominador: 4\n",
            "Resultado =  1 / 2\n",
            "\n",
            "------------------------------------------\n",
            "OPERACIONES BÁSICAS CON NÚMEROS RACIONALES\n",
            "                  MENÚ\n",
            "\n",
            "1. Sumar\n",
            "2. Restar\n",
            "3. Multiplicar\n",
            "4. Dividir\n",
            "5. FIN\n",
            "\n",
            "Ingrese un valor entre 1 y 5:5\n"
          ]
        }
      ],
      "source": [
        "# Programa para las operaciones básicas de números racionales\n",
        "\n",
        "# -- Inicializar opción\n",
        "Opcion = 1\n",
        "while Opcion < 5:\n",
        "  # -- Mostrar el Menú\n",
        "  Menu()\n",
        "\n",
        "  # -- Leer la Opcion\n",
        "  Opcion = LeerNroEntero('Ingrese un valor entre 1 y 5:', 1, 5)\n",
        "\n",
        "  # -- Procesar opción\n",
        "  if Opcion == 1:\n",
        "    ProcesarNrosRacionales('SUMAR', lambda N1, D1, N2, D2 : (N1 * D2 + N2 * D1, D1 * D2))\n",
        "  elif Opcion == 2:\n",
        "    ProcesarNrosRacionales('RESTAR', lambda N1, D1, N2, D2 : (N1 * D2 - N2 * D1, D1 * D2))\n",
        "  elif Opcion == 3:\n",
        "    ProcesarNrosRacionales('MULTIPLICAR', lambda N1, D1, N2, D2 : (N1 * N2, D1 * D2))\n",
        "  elif Opcion == 4:\n",
        "    ProcesarNrosRacionales('DIVIDIR', lambda N1, D1, N2, D2 : (N1 * D2, D1 * N2))\n"
      ]
    }
  ]
}